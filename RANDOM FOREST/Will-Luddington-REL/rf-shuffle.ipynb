{
 "cells": [
  {
   "cell_type": "code",
   "execution_count": 1,
   "id": "92d1512f-b22d-4ebf-a890-f32371ccd146",
   "metadata": {},
   "outputs": [],
   "source": [
    "import pandas as pd\n",
    "import numpy as np\n",
    "import cvxpy as cvx\n",
    "import random\n",
    "import time\n",
    "\n",
    "\n",
    "from scipy.linalg import hadamard\n",
    "\n",
    "import matplotlib.pyplot as plt\n",
    "\n",
    "from sklearn.model_selection import LeaveOneOut\n",
    "from sklearn.model_selection import KFold\n",
    "\n",
    "from scipy import stats\n",
    "from matplotlib import pyplot\n",
    "from scipy.stats import spearmanr\n",
    "\n",
    "import warnings\n",
    "warnings.filterwarnings(\"ignore\")\n",
    "\n",
    "\n",
    "import matplotlib\n",
    "matplotlib.rc('text.latex', preamble=r'\\usepackage{amsmath}')\n",
    "\n",
    "import matplotlib.font_manager as fm\n",
    "\n",
    "\n",
    "import seaborn as sns\n",
    "\n",
    "table = pd.read_pickle(\"~/compressed_sensingv1/realdatasets/misc/will-luddington-v4/A5.pkl\")\n",
    "tableg = table.T\n",
    "B = pd.read_pickle(\"~/compressed_sensingv1/realdatasets/misc/will-luddington-v4/B5.pkl\")\n",
    "\n",
    "Bdf = pd.DataFrame(B)\n",
    "\n",
    "species_ones = [] \n",
    "for i in range(5):\n",
    "    species = i\n",
    "    species_ones.append(list(tableg[tableg[species]==1].index))\n",
    "    \n",
    "    \n",
    "species_zeros = []\n",
    "for i in range(5):\n",
    "    species = i\n",
    "    species_zeros.append(list(tableg[tableg[species]==0].index))                                                                                                                                                                                                                                                                                                                                                                                                                                                                                                                                                                                                                                                                                                                                                                                                                                                                                                                                                                                                                                                                                                                                                                                                                                                                                                                                                                                                                                                                                                                                                                                                                                                                                                                                                                       \n",
    "\n",
    "sp_list_provided = ['LP', 'LB', 'AP', 'AT', 'AO']\n",
    "\n",
    "#### get all data -- design matrix, steady state abundances, and list of wells present\n",
    "\n",
    "\n",
    "sst = pd.read_pickle(\"~/compressed_sensingv1/realdatasets/misc/will-luddington-v5/Gould-etal-5species-relative-abundance-Oct22.pkl\")\n",
    "sstv3 = sst.copy()\n",
    "\n",
    "\n",
    "from sklearn.metrics import r2_score\n",
    "\n",
    "\n",
    "import matplotlib.patches as mpatches\n",
    "\n",
    "from sklearn.ensemble import RandomForestRegressor"
   ]
  },
  {
   "cell_type": "code",
   "execution_count": 2,
   "id": "94a8d43b-56d7-47f4-8842-77816593a572",
   "metadata": {},
   "outputs": [],
   "source": [
    "csdf = pd.read_pickle(\"~/compressed_sensingv1/realdatasets/misc/will-luddington-v5/rel_CS_WH.pkl\")\n",
    "\n",
    "cv_splitsl = [3] \n",
    "max_depthl = [2,5,10,15]\n",
    "ntrees = [100,200,300,400,500,1000]\n",
    "max_featuresl = [\"auto\",\"sqrt\",\"log2\"]"
   ]
  },
  {
   "cell_type": "code",
   "execution_count": 3,
   "id": "2b5998c1-d6b5-4f8e-930d-fbfac4e63ef2",
   "metadata": {},
   "outputs": [],
   "source": [
    "trdatadf =  pd.read_pickle(\"~/compressed_sensingv1/realdatasets/will-luddington-v6/traindataRELwill.pkl\")\n",
    "trdatadf.head(3)\n",
    "\n",
    "tedatadf =  pd.read_pickle(\"~/compressed_sensingv1/realdatasets/will-luddington-v6/testdataRELwill.pkl\")\n",
    "tedatadf.head(3)\n",
    "\n",
    "jd = pd.concat([trdatadf.T,tedatadf.T]).T\n",
    "df = jd\n",
    "df = df.loc[:,~df.columns.duplicated()].copy()"
   ]
  },
  {
   "cell_type": "code",
   "execution_count": null,
   "id": "185eb524-74e2-4ba7-a1e5-cca2f3df2c44",
   "metadata": {
    "tags": []
   },
   "outputs": [],
   "source": [
    "rfper = [] \n",
    "startt = time.time()\n",
    "for cv_splits in cv_splitsl: \n",
    "    for species in range(5):\n",
    "            spapples = df[df[\"species\"]==species]\n",
    "            datasplits = spapples[spapples[\"k-fold\"]==cv_splits][:cv_splits]\n",
    "            datasplits.index = np.arange(0,cv_splits,1)\n",
    "            abunvec = pd.DataFrame(sstv3[species][species_ones[species]].values)\n",
    "            data_present = abunvec.index \n",
    "            Xraw = tableg.T[species_ones[species]].T\n",
    "            Xraw.index = abunvec.index\n",
    "            xs = list(data_present)\n",
    "            random.shuffle(xs)\n",
    "            data_present = np.array(xs)\n",
    "            for md in max_depthl:\n",
    "                for n_est in ntrees:\n",
    "                    for mfeatures in max_featuresl:\n",
    "                        for folds in range(cv_splits):\n",
    "                            rinew = datasplits[\"train data\"][folds]\n",
    "                            rileft = datasplits[\"test data\"][folds]\n",
    "                            y3 = abunvec.T[rinew].T[0].values   \n",
    "                            x3 = Xraw.T[rinew].T\n",
    "                            regr = RandomForestRegressor(max_depth=md,n_estimators=n_est,max_features=mfeatures)\n",
    "                            regr.fit(x3,y3)\n",
    "                            ypred = regr.predict(Xraw.T[rileft].T)\n",
    "                            rfper.append([species,md,n_est,rinew,rileft,ypred,cv_splits,mfeatures])\n",
    "print(time.time()-startt)"
   ]
  },
  {
   "cell_type": "code",
   "execution_count": null,
   "id": "84f1a1c6-376e-4ef5-bf5b-34056282bf5a",
   "metadata": {},
   "outputs": [],
   "source": [
    "pd.DataFrame(rfper)"
   ]
  },
  {
   "cell_type": "code",
   "execution_count": null,
   "id": "b85ebd50-e272-4195-bc85-515e0e158e74",
   "metadata": {},
   "outputs": [],
   "source": [
    "rdf = pd.DataFrame(rfper,columns = [\"species\",\"max_depth\",\"n_trees\",\"Xtrain\",\"Xtest\",\"ypred\",\"k-fold\",\"max_features\"])"
   ]
  },
  {
   "cell_type": "code",
   "execution_count": null,
   "id": "4164aa1f-fbf3-4e14-8a44-714c460ab354",
   "metadata": {},
   "outputs": [],
   "source": [
    "rdf.to_pickle(\"RF-5sp-will-REL.pkl\")"
   ]
  },
  {
   "cell_type": "code",
   "execution_count": null,
   "id": "7a2e2900-8641-4302-ae01-4d74d1916847",
   "metadata": {},
   "outputs": [],
   "source": []
  }
 ],
 "metadata": {
  "kernelspec": {
   "display_name": "Python 3 (ipykernel)",
   "language": "python",
   "name": "python3"
  },
  "language_info": {
   "codemirror_mode": {
    "name": "ipython",
    "version": 3
   },
   "file_extension": ".py",
   "mimetype": "text/x-python",
   "name": "python",
   "nbconvert_exporter": "python",
   "pygments_lexer": "ipython3",
   "version": "3.9.11"
  }
 },
 "nbformat": 4,
 "nbformat_minor": 5
}
