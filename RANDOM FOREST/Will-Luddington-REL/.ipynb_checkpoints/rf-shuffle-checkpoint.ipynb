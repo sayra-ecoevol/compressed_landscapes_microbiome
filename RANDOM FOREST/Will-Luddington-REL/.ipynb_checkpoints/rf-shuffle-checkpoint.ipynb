{
 "cells": [
  {
   "cell_type": "code",
   "execution_count": 1,
   "id": "92d1512f-b22d-4ebf-a890-f32371ccd146",
   "metadata": {},
   "outputs": [],
   "source": [
    "import pandas as pd\n",
    "import numpy as np\n",
    "import cvxpy as cvx\n",
    "import random\n",
    "import time\n",
    "\n",
    "\n",
    "from scipy.linalg import hadamard\n",
    "\n",
    "import matplotlib.pyplot as plt\n",
    "\n",
    "from sklearn.model_selection import LeaveOneOut\n",
    "from sklearn.model_selection import KFold\n",
    "\n",
    "from scipy import stats\n",
    "from matplotlib import pyplot\n",
    "from scipy.stats import spearmanr\n",
    "\n",
    "import warnings\n",
    "warnings.filterwarnings(\"ignore\")\n",
    "\n",
    "\n",
    "import matplotlib\n",
    "matplotlib.rc('text.latex', preamble=r'\\usepackage{amsmath}')\n",
    "\n",
    "import matplotlib.font_manager as fm\n",
    "\n",
    "\n",
    "import seaborn as sns\n",
    "\n",
    "table = pd.read_pickle(\"~/compressed_sensingv1/realdatasets/will-luddington-v4/A5.pkl\")\n",
    "iHiVred = pd.read_pickle(\"~/compressed_sensingv1/realdatasets/will-luddington-v4/iHiV4.pkl\")\n",
    "iHiV = pd.read_pickle(\"~/compressed_sensingv1/realdatasets/will-luddington-v4/iHiV5.pkl\")\n",
    "VHred = pd.read_pickle(\"~/compressed_sensingv1/realdatasets/will-luddington-v4/VH4.pkl\")\n",
    "tableg = table.T\n",
    "\n",
    "iFT = pd.read_pickle(\"~/compressed_sensingv1/realdatasets/will-luddington-v4/iFT4.pkl\")\n",
    "\n",
    "VH = pd.read_pickle(\"~/compressed_sensingv1/realdatasets/will-luddington-v4/VH5.pkl\")\n",
    "tableg = table.T\n",
    "B = pd.read_pickle(\"~/compressed_sensingv1/realdatasets/will-luddington-v4/B5.pkl\")\n",
    "\n",
    "Bdf = pd.DataFrame(B)\n",
    "\n",
    "species_ones = [] \n",
    "for i in range(5):\n",
    "    species = i\n",
    "    species_ones.append(list(tableg[tableg[species]==1].index))\n",
    "    \n",
    "    \n",
    "species_zeros = []\n",
    "for i in range(5):\n",
    "    species = i\n",
    "    species_zeros.append(list(tableg[tableg[species]==0].index))                                                                                                                                                                                                                                                                                                                                                                                                                                                                                                                                                                                                                                                                                                                                                                                                                                                                                                                                                                                                                                                                                                                                                                                                                                                                                                                                                                                                                                                                                                                                                                                                                                                                                                                                                                       \n",
    "\n",
    "sp_list_provided = ['LP', 'LB', 'AP', 'AT', 'AO']\n",
    "\n",
    "#### get all data -- design matrix, steady state abundances, and list of wells present\n",
    "\n",
    "sst = pd.read_pickle(\"~/compressed_sensingv1/realdatasets/BENCHMARKING/Will-Luddington-v1/5sp-Gould-CFU-data.pkl\")\n",
    "sstv3 = sst.copy()\n",
    "\n",
    "from sklearn.metrics import r2_score\n",
    "\n",
    "\n",
    "import matplotlib.patches as mpatches\n",
    "\n",
    "from sklearn.ensemble import RandomForestRegressor"
   ]
  },
  {
   "cell_type": "code",
   "execution_count": 2,
   "id": "8ec22f63-2c4b-4db9-9b0e-6162b27bf214",
   "metadata": {},
   "outputs": [],
   "source": [
    "csdf = pd.read_pickle(\"~/compressed_sensingv1/realdatasets/BENCHMARKING/Will-Luddington-v1/CFU_CS_WH.pkl\")"
   ]
  },
  {
   "cell_type": "code",
   "execution_count": 3,
   "id": "63eb247d-1f51-4611-991d-fd65fbc30b18",
   "metadata": {},
   "outputs": [],
   "source": [
    "cv_splitsl = [3,5] \n",
    "max_depthl = [2,5,10,15]\n",
    "ntrees = [100,200,300,400,500,1000]\n",
    "max_featuresl = [\"auto\",\"sqrt\",\"log2\"]"
   ]
  },
  {
   "cell_type": "code",
   "execution_count": 11,
   "id": "185eb524-74e2-4ba7-a1e5-cca2f3df2c44",
   "metadata": {
    "collapsed": true,
    "jupyter": {
     "outputs_hidden": true
    },
    "tags": []
   },
   "outputs": [
    {
     "name": "stdout",
     "output_type": "stream",
     "text": [
      "1.0423874855041504\n"
     ]
    },
    {
     "ename": "ValueError",
     "evalue": "Length mismatch: Expected axis has 0 elements, new values have 5 elements",
     "output_type": "error",
     "traceback": [
      "\u001b[0;31m---------------------------------------------------------------------------\u001b[0m",
      "\u001b[0;31mValueError\u001b[0m                                Traceback (most recent call last)",
      "Input \u001b[0;32mIn [11]\u001b[0m, in \u001b[0;36m<cell line: 2>\u001b[0;34m()\u001b[0m\n\u001b[1;32m      4\u001b[0m spapples \u001b[38;5;241m=\u001b[39m csdf[csdf[\u001b[38;5;241m1\u001b[39m]\u001b[38;5;241m==\u001b[39mspecies]\n\u001b[1;32m      5\u001b[0m datasplits \u001b[38;5;241m=\u001b[39m spapples[spapples[\u001b[38;5;241m5\u001b[39m]\u001b[38;5;241m==\u001b[39mcv_splits][:cv_splits]\n\u001b[0;32m----> 6\u001b[0m datasplits\u001b[38;5;241m.\u001b[39mindex \u001b[38;5;241m=\u001b[39m np\u001b[38;5;241m.\u001b[39marange(\u001b[38;5;241m0\u001b[39m,cv_splits,\u001b[38;5;241m1\u001b[39m)\n\u001b[1;32m      7\u001b[0m abunvec \u001b[38;5;241m=\u001b[39m pd\u001b[38;5;241m.\u001b[39mDataFrame(sstv3[species][species_ones[species]]\u001b[38;5;241m.\u001b[39mvalues)\n\u001b[1;32m      8\u001b[0m data_present \u001b[38;5;241m=\u001b[39m abunvec\u001b[38;5;241m.\u001b[39mindex \n",
      "File \u001b[0;32m~/miniconda3/envs/csense/lib/python3.9/site-packages/pandas/core/generic.py:5500\u001b[0m, in \u001b[0;36mNDFrame.__setattr__\u001b[0;34m(self, name, value)\u001b[0m\n\u001b[1;32m   5498\u001b[0m \u001b[38;5;28;01mtry\u001b[39;00m:\n\u001b[1;32m   5499\u001b[0m     \u001b[38;5;28mobject\u001b[39m\u001b[38;5;241m.\u001b[39m\u001b[38;5;21m__getattribute__\u001b[39m(\u001b[38;5;28mself\u001b[39m, name)\n\u001b[0;32m-> 5500\u001b[0m     \u001b[38;5;28;01mreturn\u001b[39;00m \u001b[38;5;28;43mobject\u001b[39;49m\u001b[38;5;241;43m.\u001b[39;49m\u001b[38;5;21;43m__setattr__\u001b[39;49m\u001b[43m(\u001b[49m\u001b[38;5;28;43mself\u001b[39;49m\u001b[43m,\u001b[49m\u001b[43m \u001b[49m\u001b[43mname\u001b[49m\u001b[43m,\u001b[49m\u001b[43m \u001b[49m\u001b[43mvalue\u001b[49m\u001b[43m)\u001b[49m\n\u001b[1;32m   5501\u001b[0m \u001b[38;5;28;01mexcept\u001b[39;00m \u001b[38;5;167;01mAttributeError\u001b[39;00m:\n\u001b[1;32m   5502\u001b[0m     \u001b[38;5;28;01mpass\u001b[39;00m\n",
      "File \u001b[0;32m~/miniconda3/envs/csense/lib/python3.9/site-packages/pandas/_libs/properties.pyx:70\u001b[0m, in \u001b[0;36mpandas._libs.properties.AxisProperty.__set__\u001b[0;34m()\u001b[0m\n",
      "File \u001b[0;32m~/miniconda3/envs/csense/lib/python3.9/site-packages/pandas/core/generic.py:766\u001b[0m, in \u001b[0;36mNDFrame._set_axis\u001b[0;34m(self, axis, labels)\u001b[0m\n\u001b[1;32m    764\u001b[0m \u001b[38;5;28;01mdef\u001b[39;00m \u001b[38;5;21m_set_axis\u001b[39m(\u001b[38;5;28mself\u001b[39m, axis: \u001b[38;5;28mint\u001b[39m, labels: Index) \u001b[38;5;241m-\u001b[39m\u001b[38;5;241m>\u001b[39m \u001b[38;5;28;01mNone\u001b[39;00m:\n\u001b[1;32m    765\u001b[0m     labels \u001b[38;5;241m=\u001b[39m ensure_index(labels)\n\u001b[0;32m--> 766\u001b[0m     \u001b[38;5;28;43mself\u001b[39;49m\u001b[38;5;241;43m.\u001b[39;49m\u001b[43m_mgr\u001b[49m\u001b[38;5;241;43m.\u001b[39;49m\u001b[43mset_axis\u001b[49m\u001b[43m(\u001b[49m\u001b[43maxis\u001b[49m\u001b[43m,\u001b[49m\u001b[43m \u001b[49m\u001b[43mlabels\u001b[49m\u001b[43m)\u001b[49m\n\u001b[1;32m    767\u001b[0m     \u001b[38;5;28mself\u001b[39m\u001b[38;5;241m.\u001b[39m_clear_item_cache()\n",
      "File \u001b[0;32m~/miniconda3/envs/csense/lib/python3.9/site-packages/pandas/core/internals/managers.py:216\u001b[0m, in \u001b[0;36mBaseBlockManager.set_axis\u001b[0;34m(self, axis, new_labels)\u001b[0m\n\u001b[1;32m    214\u001b[0m \u001b[38;5;28;01mdef\u001b[39;00m \u001b[38;5;21mset_axis\u001b[39m(\u001b[38;5;28mself\u001b[39m, axis: \u001b[38;5;28mint\u001b[39m, new_labels: Index) \u001b[38;5;241m-\u001b[39m\u001b[38;5;241m>\u001b[39m \u001b[38;5;28;01mNone\u001b[39;00m:\n\u001b[1;32m    215\u001b[0m     \u001b[38;5;66;03m# Caller is responsible for ensuring we have an Index object.\u001b[39;00m\n\u001b[0;32m--> 216\u001b[0m     \u001b[38;5;28;43mself\u001b[39;49m\u001b[38;5;241;43m.\u001b[39;49m\u001b[43m_validate_set_axis\u001b[49m\u001b[43m(\u001b[49m\u001b[43maxis\u001b[49m\u001b[43m,\u001b[49m\u001b[43m \u001b[49m\u001b[43mnew_labels\u001b[49m\u001b[43m)\u001b[49m\n\u001b[1;32m    217\u001b[0m     \u001b[38;5;28mself\u001b[39m\u001b[38;5;241m.\u001b[39maxes[axis] \u001b[38;5;241m=\u001b[39m new_labels\n",
      "File \u001b[0;32m~/miniconda3/envs/csense/lib/python3.9/site-packages/pandas/core/internals/base.py:57\u001b[0m, in \u001b[0;36mDataManager._validate_set_axis\u001b[0;34m(self, axis, new_labels)\u001b[0m\n\u001b[1;32m     54\u001b[0m     \u001b[38;5;28;01mpass\u001b[39;00m\n\u001b[1;32m     56\u001b[0m \u001b[38;5;28;01melif\u001b[39;00m new_len \u001b[38;5;241m!=\u001b[39m old_len:\n\u001b[0;32m---> 57\u001b[0m     \u001b[38;5;28;01mraise\u001b[39;00m \u001b[38;5;167;01mValueError\u001b[39;00m(\n\u001b[1;32m     58\u001b[0m         \u001b[38;5;124mf\u001b[39m\u001b[38;5;124m\"\u001b[39m\u001b[38;5;124mLength mismatch: Expected axis has \u001b[39m\u001b[38;5;132;01m{\u001b[39;00mold_len\u001b[38;5;132;01m}\u001b[39;00m\u001b[38;5;124m elements, new \u001b[39m\u001b[38;5;124m\"\u001b[39m\n\u001b[1;32m     59\u001b[0m         \u001b[38;5;124mf\u001b[39m\u001b[38;5;124m\"\u001b[39m\u001b[38;5;124mvalues have \u001b[39m\u001b[38;5;132;01m{\u001b[39;00mnew_len\u001b[38;5;132;01m}\u001b[39;00m\u001b[38;5;124m elements\u001b[39m\u001b[38;5;124m\"\u001b[39m\n\u001b[1;32m     60\u001b[0m     )\n",
      "\u001b[0;31mValueError\u001b[0m: Length mismatch: Expected axis has 0 elements, new values have 5 elements"
     ]
    }
   ],
   "source": [
    "rfper = [] \n",
    "for cv_splits in cv_splitsl: \n",
    "    for species in range(5):\n",
    "            spapples = csdf[csdf[1]==species]\n",
    "            datasplits = spapples[spapples[5]==cv_splits][:cv_splits]\n",
    "            datasplits.index = np.arange(0,cv_splits,1)\n",
    "            abunvec = pd.DataFrame(sstv3[species][species_ones[species]].values)\n",
    "            data_present = abunvec.index \n",
    "            Xraw = tableg.T[species_ones[species]].T\n",
    "            Xraw.index = abunvec.index\n",
    "            xs = list(data_present)\n",
    "            random.shuffle(xs)\n",
    "            data_present = np.array(xs)\n",
    "            for md in max_depthl:\n",
    "                for n_est in ntrees:\n",
    "                    for mfeatures in max_featuresl:\n",
    "                        for folds in range(cv_splits):\n",
    "                            startt = time.time()\n",
    "                            rinew = datasplits[4][folds]\n",
    "                            rileft = datasplits[3][folds]\n",
    "                            y3 = abunvec.T[rinew].T[0].values   \n",
    "                            x3 = Xraw.T[rinew].T\n",
    "                            regr = RandomForestRegressor(max_depth=md,n_estimators=n_est,max_features=mfeatures)\n",
    "                            regr.fit(x3,y3)\n",
    "                            ypred = regr.predict(Xraw.T[rileft].T)\n",
    "                            rfper.append([species,md,n_est,rinew,rileft,ypred,cv_splits,mfeatures])\n",
    "    print(time.time()-startt)\n"
   ]
  },
  {
   "cell_type": "code",
   "execution_count": 16,
   "id": "b85ebd50-e272-4195-bc85-515e0e158e74",
   "metadata": {},
   "outputs": [],
   "source": [
    "rdf = pd.DataFrame(rfper,columns = [\"species\",\"max_depth\",\"n_trees\",\"Xtrain\",\"Xtest\",\"ypred\",\"k-fold\",\"max_features\"])"
   ]
  },
  {
   "cell_type": "code",
   "execution_count": 17,
   "id": "4164aa1f-fbf3-4e14-8a44-714c460ab354",
   "metadata": {},
   "outputs": [],
   "source": [
    "rdf.to_pickle(\"RF-5sp-will-CFU.pkl\")"
   ]
  },
  {
   "cell_type": "code",
   "execution_count": null,
   "id": "da4eb13f-0481-4a09-a105-077e246c3552",
   "metadata": {},
   "outputs": [],
   "source": []
  }
 ],
 "metadata": {
  "kernelspec": {
   "display_name": "Python 3 (ipykernel)",
   "language": "python",
   "name": "python3"
  },
  "language_info": {
   "codemirror_mode": {
    "name": "ipython",
    "version": 3
   },
   "file_extension": ".py",
   "mimetype": "text/x-python",
   "name": "python",
   "nbconvert_exporter": "python",
   "pygments_lexer": "ipython3",
   "version": "3.9.11"
  }
 },
 "nbformat": 4,
 "nbformat_minor": 5
}
