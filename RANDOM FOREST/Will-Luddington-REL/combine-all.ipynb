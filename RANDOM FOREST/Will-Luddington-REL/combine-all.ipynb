{
 "cells": [
  {
   "cell_type": "code",
   "execution_count": 1,
   "id": "2d2b3ae1-66cf-49e5-a285-d989170300de",
   "metadata": {},
   "outputs": [],
   "source": [
    "import pandas as pd\n",
    "import numpy as np\n",
    "import scipy \n",
    "from scipy import stats"
   ]
  },
  {
   "cell_type": "code",
   "execution_count": 14,
   "id": "98e9d25b-6ff1-4358-9c55-cf8710b2adb9",
   "metadata": {},
   "outputs": [],
   "source": [
    "cslin = pd.read_pickle(\"~/compressed_sensingv1/realdatasets/will-luddington-v6/csl1-bestbynnse.pkl\")"
   ]
  },
  {
   "cell_type": "code",
   "execution_count": 15,
   "id": "2887cef9-c675-4e99-aa95-f87876dcd399",
   "metadata": {},
   "outputs": [],
   "source": [
    "rfbest = pd.read_pickle(\"~/compressed_sensingv1/realdatasets/BENCHMARKING/RANDOM FOREST/Will-Luddington-REL/RF-bestbynnse.pkl\")"
   ]
  },
  {
   "cell_type": "code",
   "execution_count": 16,
   "id": "1fa824f7-6999-47bc-bfc4-02ff5a9b7d15",
   "metadata": {},
   "outputs": [],
   "source": [
    "glvdf = pd.read_pickle(\"~/compressed_sensingv1/realdatasets/BENCHMARKING/gLV/WL-gLV/glv-per-penrose-will.pkl\")"
   ]
  },
  {
   "cell_type": "code",
   "execution_count": 17,
   "id": "4c48bb38-70ae-4376-9921-465cb1272106",
   "metadata": {},
   "outputs": [],
   "source": [
    "cslin[\"rf\"] = rfbest[3].values\n",
    "cslin[\"gLV\"] = glvdf[\"nnse\"].values"
   ]
  },
  {
   "cell_type": "code",
   "execution_count": 18,
   "id": "3c70571f-bf94-4c4e-b17d-46f66239fe83",
   "metadata": {},
   "outputs": [],
   "source": [
    "cslin.to_pickle(\"WL-allmethodsNNSE.pkl\")"
   ]
  },
  {
   "cell_type": "code",
   "execution_count": 19,
   "id": "a789f8bc-7111-45bb-b13f-92dd0d83819d",
   "metadata": {},
   "outputs": [
    {
     "data": {
      "text/html": [
       "<div>\n",
       "<style scoped>\n",
       "    .dataframe tbody tr th:only-of-type {\n",
       "        vertical-align: middle;\n",
       "    }\n",
       "\n",
       "    .dataframe tbody tr th {\n",
       "        vertical-align: top;\n",
       "    }\n",
       "\n",
       "    .dataframe thead th {\n",
       "        text-align: right;\n",
       "    }\n",
       "</style>\n",
       "<table border=\"1\" class=\"dataframe\">\n",
       "  <thead>\n",
       "    <tr style=\"text-align: right;\">\n",
       "      <th></th>\n",
       "      <th>wh</th>\n",
       "      <th>lin</th>\n",
       "      <th>rf</th>\n",
       "      <th>gLV</th>\n",
       "    </tr>\n",
       "  </thead>\n",
       "  <tbody>\n",
       "    <tr>\n",
       "      <th>0</th>\n",
       "      <td>0.593123</td>\n",
       "      <td>0.596627</td>\n",
       "      <td>0.608138</td>\n",
       "      <td>0.002710</td>\n",
       "    </tr>\n",
       "    <tr>\n",
       "      <th>1</th>\n",
       "      <td>0.787369</td>\n",
       "      <td>0.706949</td>\n",
       "      <td>0.729596</td>\n",
       "      <td>0.410883</td>\n",
       "    </tr>\n",
       "    <tr>\n",
       "      <th>2</th>\n",
       "      <td>0.536122</td>\n",
       "      <td>0.544619</td>\n",
       "      <td>0.592941</td>\n",
       "      <td>0.258262</td>\n",
       "    </tr>\n",
       "    <tr>\n",
       "      <th>3</th>\n",
       "      <td>0.542734</td>\n",
       "      <td>0.470202</td>\n",
       "      <td>0.482025</td>\n",
       "      <td>0.091039</td>\n",
       "    </tr>\n",
       "    <tr>\n",
       "      <th>4</th>\n",
       "      <td>0.818230</td>\n",
       "      <td>0.648245</td>\n",
       "      <td>0.646931</td>\n",
       "      <td>0.545464</td>\n",
       "    </tr>\n",
       "  </tbody>\n",
       "</table>\n",
       "</div>"
      ],
      "text/plain": [
       "         wh       lin        rf       gLV\n",
       "0  0.593123  0.596627  0.608138  0.002710\n",
       "1  0.787369  0.706949  0.729596  0.410883\n",
       "2  0.536122  0.544619  0.592941  0.258262\n",
       "3  0.542734  0.470202  0.482025  0.091039\n",
       "4  0.818230  0.648245  0.646931  0.545464"
      ]
     },
     "execution_count": 19,
     "metadata": {},
     "output_type": "execute_result"
    }
   ],
   "source": [
    "cslin"
   ]
  },
  {
   "cell_type": "code",
   "execution_count": null,
   "id": "1b2e60d3-6eb9-4929-8ce8-487f509e6ed7",
   "metadata": {},
   "outputs": [],
   "source": []
  }
 ],
 "metadata": {
  "kernelspec": {
   "display_name": "Python 3 (ipykernel)",
   "language": "python",
   "name": "python3"
  },
  "language_info": {
   "codemirror_mode": {
    "name": "ipython",
    "version": 3
   },
   "file_extension": ".py",
   "mimetype": "text/x-python",
   "name": "python",
   "nbconvert_exporter": "python",
   "pygments_lexer": "ipython3",
   "version": "3.9.11"
  }
 },
 "nbformat": 4,
 "nbformat_minor": 5
}
