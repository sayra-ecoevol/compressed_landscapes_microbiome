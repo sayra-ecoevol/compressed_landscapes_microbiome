{
 "cells": [
  {
   "cell_type": "code",
   "execution_count": 15,
   "id": "12cef08b-1c35-4bd5-b7ae-657e18f67275",
   "metadata": {},
   "outputs": [],
   "source": [
    "import pandas as pd\n",
    "import numpy as np\n",
    "import cvxpy as cvx\n",
    "import random\n",
    "import time\n",
    "\n",
    "\n",
    "B = pd.read_pickle(\"~/bge-analysis-simv3/B.pkl\")\n",
    "A = pd.read_pickle(\"~/bge-analysis-simv3/A.pkl\")\n",
    "\n",
    "\n",
    "import os\n",
    "\n",
    "\n",
    "from sklearn.metrics import r2_score\n",
    "\n",
    "\n",
    "\n",
    "from sklearn.metrics import mean_absolute_percentage_error as mape\n",
    "from scipy import stats\n",
    "\n",
    "\n",
    "import matplotlib.pyplot as plt"
   ]
  },
  {
   "cell_type": "code",
   "execution_count": 16,
   "id": "3974eed2-f359-4896-933d-34e2670f8ba5",
   "metadata": {},
   "outputs": [],
   "source": [
    "tableg=A.T\n",
    "species_ones = [] \n",
    "for species in range(16):\n",
    "    species_ones.append(tableg[tableg[species]==1.0][species].index.to_list())"
   ]
  },
  {
   "cell_type": "code",
   "execution_count": 17,
   "id": "705d4a5f-dd11-4b23-9d3d-cf46536487fe",
   "metadata": {},
   "outputs": [],
   "source": [
    "samplist = [327]"
   ]
  },
  {
   "cell_type": "code",
   "execution_count": 18,
   "id": "5eeafbd7-d9e7-4552-b345-b3480aed84c5",
   "metadata": {},
   "outputs": [],
   "source": [
    "perall = pd.read_pickle(\"all-methods.pkl\")"
   ]
  },
  {
   "cell_type": "code",
   "execution_count": 19,
   "id": "4aec6601-0ec6-42c5-bd21-ab26b47e2759",
   "metadata": {},
   "outputs": [
    {
     "data": {
      "text/html": [
       "<div>\n",
       "<style scoped>\n",
       "    .dataframe tbody tr th:only-of-type {\n",
       "        vertical-align: middle;\n",
       "    }\n",
       "\n",
       "    .dataframe tbody tr th {\n",
       "        vertical-align: top;\n",
       "    }\n",
       "\n",
       "    .dataframe thead th {\n",
       "        text-align: right;\n",
       "    }\n",
       "</style>\n",
       "<table border=\"1\" class=\"dataframe\">\n",
       "  <thead>\n",
       "    <tr style=\"text-align: right;\">\n",
       "      <th></th>\n",
       "      <th>CS</th>\n",
       "      <th>l1reg</th>\n",
       "      <th>RF</th>\n",
       "    </tr>\n",
       "  </thead>\n",
       "  <tbody>\n",
       "    <tr>\n",
       "      <th>320</th>\n",
       "      <td>0.941679</td>\n",
       "      <td>0.868078</td>\n",
       "      <td>0.887426</td>\n",
       "    </tr>\n",
       "    <tr>\n",
       "      <th>321</th>\n",
       "      <td>0.735789</td>\n",
       "      <td>0.652261</td>\n",
       "      <td>0.691951</td>\n",
       "    </tr>\n",
       "    <tr>\n",
       "      <th>322</th>\n",
       "      <td>0.509809</td>\n",
       "      <td>0.498641</td>\n",
       "      <td>0.531916</td>\n",
       "    </tr>\n",
       "    <tr>\n",
       "      <th>323</th>\n",
       "      <td>0.998010</td>\n",
       "      <td>0.995283</td>\n",
       "      <td>0.953493</td>\n",
       "    </tr>\n",
       "    <tr>\n",
       "      <th>324</th>\n",
       "      <td>0.992991</td>\n",
       "      <td>0.981558</td>\n",
       "      <td>0.934291</td>\n",
       "    </tr>\n",
       "    <tr>\n",
       "      <th>...</th>\n",
       "      <td>...</td>\n",
       "      <td>...</td>\n",
       "      <td>...</td>\n",
       "    </tr>\n",
       "    <tr>\n",
       "      <th>475</th>\n",
       "      <td>0.555215</td>\n",
       "      <td>0.509865</td>\n",
       "      <td>0.604730</td>\n",
       "    </tr>\n",
       "    <tr>\n",
       "      <th>476</th>\n",
       "      <td>0.499445</td>\n",
       "      <td>0.499445</td>\n",
       "      <td>0.499445</td>\n",
       "    </tr>\n",
       "    <tr>\n",
       "      <th>477</th>\n",
       "      <td>0.983942</td>\n",
       "      <td>0.969850</td>\n",
       "      <td>0.941763</td>\n",
       "    </tr>\n",
       "    <tr>\n",
       "      <th>478</th>\n",
       "      <td>0.988309</td>\n",
       "      <td>0.930391</td>\n",
       "      <td>0.896848</td>\n",
       "    </tr>\n",
       "    <tr>\n",
       "      <th>479</th>\n",
       "      <td>0.509414</td>\n",
       "      <td>0.498043</td>\n",
       "      <td>0.517057</td>\n",
       "    </tr>\n",
       "  </tbody>\n",
       "</table>\n",
       "<p>160 rows × 3 columns</p>\n",
       "</div>"
      ],
      "text/plain": [
       "           CS     l1reg        RF\n",
       "320  0.941679  0.868078  0.887426\n",
       "321  0.735789  0.652261  0.691951\n",
       "322  0.509809  0.498641  0.531916\n",
       "323  0.998010  0.995283  0.953493\n",
       "324  0.992991  0.981558  0.934291\n",
       "..        ...       ...       ...\n",
       "475  0.555215  0.509865  0.604730\n",
       "476  0.499445  0.499445  0.499445\n",
       "477  0.983942  0.969850  0.941763\n",
       "478  0.988309  0.930391  0.896848\n",
       "479  0.509414  0.498043  0.517057\n",
       "\n",
       "[160 rows x 3 columns]"
      ]
     },
     "execution_count": 19,
     "metadata": {},
     "output_type": "execute_result"
    }
   ],
   "source": [
    "perall"
   ]
  },
  {
   "cell_type": "code",
   "execution_count": 21,
   "id": "b72ef592-79f4-4833-8525-63023f1517da",
   "metadata": {},
   "outputs": [
    {
     "data": {
      "text/plain": [
       "<AxesSubplot:>"
      ]
     },
     "execution_count": 21,
     "metadata": {},
     "output_type": "execute_result"
    },
    {
     "data": {
      "image/png": "[encoded data removed]",
      "text/plain": [
       "<Figure size 432x288 with 1 Axes>"
      ]
     },
     "metadata": {
      "needs_background": "light"
     },
     "output_type": "display_data"
    }
   ],
   "source": [
    "perall[:16].plot(kind=\"bar\")"
   ]
  },
  {
   "cell_type": "code",
   "execution_count": 13,
   "id": "2e0094de-6103-46d6-9ee1-0a9bf3b1699e",
   "metadata": {},
   "outputs": [
    {
     "data": {
      "text/html": [
       "<div>\n",
       "<style scoped>\n",
       "    .dataframe tbody tr th:only-of-type {\n",
       "        vertical-align: middle;\n",
       "    }\n",
       "\n",
       "    .dataframe tbody tr th {\n",
       "        vertical-align: top;\n",
       "    }\n",
       "\n",
       "    .dataframe thead th {\n",
       "        text-align: right;\n",
       "    }\n",
       "</style>\n",
       "<table border=\"1\" class=\"dataframe\">\n",
       "  <thead>\n",
       "    <tr style=\"text-align: right;\">\n",
       "      <th></th>\n",
       "      <th>CS</th>\n",
       "      <th>l1reg</th>\n",
       "      <th>RF</th>\n",
       "    </tr>\n",
       "  </thead>\n",
       "  <tbody>\n",
       "    <tr>\n",
       "      <th>320</th>\n",
       "      <td>0.941679</td>\n",
       "      <td>0.868078</td>\n",
       "      <td>0.960182</td>\n",
       "    </tr>\n",
       "    <tr>\n",
       "      <th>321</th>\n",
       "      <td>0.735789</td>\n",
       "      <td>0.652261</td>\n",
       "      <td>0.750732</td>\n",
       "    </tr>\n",
       "    <tr>\n",
       "      <th>322</th>\n",
       "      <td>0.509809</td>\n",
       "      <td>0.498641</td>\n",
       "      <td>0.531916</td>\n",
       "    </tr>\n",
       "    <tr>\n",
       "      <th>323</th>\n",
       "      <td>0.998010</td>\n",
       "      <td>0.995283</td>\n",
       "      <td>0.999150</td>\n",
       "    </tr>\n",
       "    <tr>\n",
       "      <th>324</th>\n",
       "      <td>0.992991</td>\n",
       "      <td>0.981558</td>\n",
       "      <td>0.994006</td>\n",
       "    </tr>\n",
       "    <tr>\n",
       "      <th>...</th>\n",
       "      <td>...</td>\n",
       "      <td>...</td>\n",
       "      <td>...</td>\n",
       "    </tr>\n",
       "    <tr>\n",
       "      <th>475</th>\n",
       "      <td>0.555215</td>\n",
       "      <td>0.509865</td>\n",
       "      <td>0.612667</td>\n",
       "    </tr>\n",
       "    <tr>\n",
       "      <th>476</th>\n",
       "      <td>0.499445</td>\n",
       "      <td>0.499445</td>\n",
       "      <td>0.499445</td>\n",
       "    </tr>\n",
       "    <tr>\n",
       "      <th>477</th>\n",
       "      <td>0.983942</td>\n",
       "      <td>0.969850</td>\n",
       "      <td>0.992228</td>\n",
       "    </tr>\n",
       "    <tr>\n",
       "      <th>478</th>\n",
       "      <td>0.988309</td>\n",
       "      <td>0.930391</td>\n",
       "      <td>0.995712</td>\n",
       "    </tr>\n",
       "    <tr>\n",
       "      <th>479</th>\n",
       "      <td>0.509414</td>\n",
       "      <td>0.498043</td>\n",
       "      <td>0.519206</td>\n",
       "    </tr>\n",
       "  </tbody>\n",
       "</table>\n",
       "<p>160 rows × 3 columns</p>\n",
       "</div>"
      ],
      "text/plain": [
       "           CS     l1reg        RF\n",
       "320  0.941679  0.868078  0.960182\n",
       "321  0.735789  0.652261  0.750732\n",
       "322  0.509809  0.498641  0.531916\n",
       "323  0.998010  0.995283  0.999150\n",
       "324  0.992991  0.981558  0.994006\n",
       "..        ...       ...       ...\n",
       "475  0.555215  0.509865  0.612667\n",
       "476  0.499445  0.499445  0.499445\n",
       "477  0.983942  0.969850  0.992228\n",
       "478  0.988309  0.930391  0.995712\n",
       "479  0.509414  0.498043  0.519206\n",
       "\n",
       "[160 rows x 3 columns]"
      ]
     },
     "execution_count": 13,
     "metadata": {},
     "output_type": "execute_result"
    }
   ],
   "source": [
    "perall"
   ]
  },
  {
   "cell_type": "code",
   "execution_count": null,
   "id": "0551990f-79d2-4f09-9ca0-f5c3646cd097",
   "metadata": {},
   "outputs": [],
   "source": []
  }
 ],
 "metadata": {
  "kernelspec": {
   "display_name": "Python 3 (ipykernel)",
   "language": "python",
   "name": "python3"
  },
  "language_info": {
   "codemirror_mode": {
    "name": "ipython",
    "version": 3
   },
   "file_extension": ".py",
   "mimetype": "text/x-python",
   "name": "python",
   "nbconvert_exporter": "python",
   "pygments_lexer": "ipython3",
   "version": "3.9.11"
  }
 },
 "nbformat": 4,
 "nbformat_minor": 5
}
