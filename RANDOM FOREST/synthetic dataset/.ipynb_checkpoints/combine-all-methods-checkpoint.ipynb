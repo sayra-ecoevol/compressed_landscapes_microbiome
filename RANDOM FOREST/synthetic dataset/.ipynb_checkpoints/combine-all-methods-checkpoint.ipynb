{
 "cells": [
  {
   "cell_type": "code",
   "execution_count": 66,
   "id": "12cef08b-1c35-4bd5-b7ae-657e18f67275",
   "metadata": {},
   "outputs": [],
   "source": [
    "import pandas as pd\n",
    "import numpy as np\n",
    "import cvxpy as cvx\n",
    "import random\n",
    "import time\n",
    "\n",
    "\n",
    "B = pd.read_pickle(\"~/bge-analysis-simv3/B.pkl\")\n",
    "A = pd.read_pickle(\"~/bge-analysis-simv3/A.pkl\")\n",
    "\n",
    "\n",
    "import os\n",
    "\n",
    "\n",
    "from sklearn.metrics import r2_score\n",
    "\n",
    "\n",
    "\n",
    "from sklearn.metrics import mean_absolute_percentage_error as mape\n",
    "from scipy import stats\n"
   ]
  },
  {
   "cell_type": "code",
   "execution_count": 2,
   "id": "3974eed2-f359-4896-933d-34e2670f8ba5",
   "metadata": {},
   "outputs": [],
   "source": [
    "tableg=A.T\n",
    "species_ones = [] \n",
    "for species in range(16):\n",
    "    species_ones.append(tableg[tableg[species]==1.0][species].index.to_list())"
   ]
  },
  {
   "cell_type": "code",
   "execution_count": 69,
   "id": "01174f5c-935c-4583-9e47-de823ebee22a",
   "metadata": {},
   "outputs": [],
   "source": [
    "gldf  = pd.read_pickle(\"~/compressed_sensingv1/realdatasets/BENCHMARKING/gLV/synthetic-dataset/gLV-done.pkl\")"
   ]
  },
  {
   "cell_type": "code",
   "execution_count": 3,
   "id": "705d4a5f-dd11-4b23-9d3d-cf46536487fe",
   "metadata": {},
   "outputs": [],
   "source": [
    "samplist = [327]"
   ]
  },
  {
   "cell_type": "code",
   "execution_count": 4,
   "id": "25ca5064-b24b-4802-ad99-987ffcd3f70b",
   "metadata": {},
   "outputs": [],
   "source": [
    "max_depthl = [2,5,10,15,20]\n",
    "ntrees = [100,200,300,400,500,1000]\n",
    "max_featuresl = [\"auto\",\"sqrt\",\"log2\"]"
   ]
  },
  {
   "cell_type": "code",
   "execution_count": 52,
   "id": "e46d662e-37bc-40ee-af03-a2654c38c04b",
   "metadata": {},
   "outputs": [],
   "source": [
    "perdf = pd.read_pickle(\"~/compressed_sensingv1/realdatasets/BENCHMARKING/RANDOM FOREST/synthetic dataset/RF-per-REL.pkl\")"
   ]
  },
  {
   "cell_type": "code",
   "execution_count": 76,
   "id": "2ed5c4a9-e2eb-4220-aa10-635ba56a7631",
   "metadata": {},
   "outputs": [],
   "source": [
    "#bestbynnse = [] \n",
    "for replica in range(1):\n",
    "    repdf = perdf[perdf[\"replica\"]==replica]\n",
    "    for species in range(1):\n",
    "        spdf = repdf[repdf[\"species\"]==species]\n",
    "        bidx = spdf[\"nnse\"].idxmax()\n",
    "        #bestbynnse.append([spdf.T[bidx][[\"nnse\",\"r2\",\"r2bestfit\",\"slope\",\"intercept\"]].values])\n",
    "        #bestbynnse.append([replica,species,spdf.T[bidx][\"nnse\"]])"
   ]
  },
  {
   "cell_type": "code",
   "execution_count": 36,
   "id": "effc8df8-4ad7-4cac-aab8-bd5fee8169b8",
   "metadata": {},
   "outputs": [],
   "source": [
    "#rfdf = pd.DataFrame(bestbynnse)"
   ]
  },
  {
   "cell_type": "code",
   "execution_count": 84,
   "id": "16c27887-81dd-4f54-a3d1-e30a2717baab",
   "metadata": {},
   "outputs": [],
   "source": [
    "#rfdf.to_pickle(\"RF-bestbynnse-REL.pkl\")"
   ]
  },
  {
   "cell_type": "code",
   "execution_count": 103,
   "id": "db637856-4053-404e-8097-54e49e8b3d94",
   "metadata": {},
   "outputs": [],
   "source": [
    "rfdf = pd.read_pickle(\"~/compressed_sensingv1/realdatasets/BENCHMARKING/RANDOM FOREST/synthetic dataset/RF_for_maxdepth_per.pkl\")"
   ]
  },
  {
   "cell_type": "code",
   "execution_count": 104,
   "id": "16c515ee-c38a-4a8b-b17f-c7e42691a588",
   "metadata": {},
   "outputs": [],
   "source": [
    "csdf = pd.read_pickle(\"~/compressed_sensingv1/abun_simv3/cs-and-lin-performance-rel.pkl\")"
   ]
  },
  {
   "cell_type": "code",
   "execution_count": 105,
   "id": "81c3e36e-0329-48ed-9ced-9c9993a7fcf8",
   "metadata": {},
   "outputs": [],
   "source": [
    "psamp1 = csdf[csdf[0]==327]"
   ]
  },
  {
   "cell_type": "code",
   "execution_count": 106,
   "id": "9583f44c-5605-4768-acdc-9a62e52f2e4b",
   "metadata": {},
   "outputs": [],
   "source": [
    "perALLmethods = pd.DataFrame(psamp1[psamp1[\"dataset\"]==4][\"values\"])\n",
    "perall = perALLmethods.rename(columns={\"values\":\"CS\"})"
   ]
  },
  {
   "cell_type": "code",
   "execution_count": 107,
   "id": "c8251347-370c-424d-b51c-88080c1ff83c",
   "metadata": {},
   "outputs": [],
   "source": [
    "perall[\"l1reg\"] = pd.DataFrame(psamp1[psamp1[\"dataset\"]==5][\"values\"]).values.ravel()"
   ]
  },
  {
   "cell_type": "code",
   "execution_count": 108,
   "id": "9d6ed111-c08b-4edc-8493-fe762076371b",
   "metadata": {},
   "outputs": [],
   "source": [
    "perall[\"RF\"] = rfdf[2].values"
   ]
  },
  {
   "cell_type": "code",
   "execution_count": 109,
   "id": "5eeafbd7-d9e7-4552-b345-b3480aed84c5",
   "metadata": {},
   "outputs": [],
   "source": [
    "perall.to_pickle(\"all-methods.pkl\")"
   ]
  },
  {
   "cell_type": "code",
   "execution_count": 110,
   "id": "9c520b7c-eefe-4b5f-b88a-66c3e86f9594",
   "metadata": {},
   "outputs": [
    {
     "data": {
      "text/html": [
       "<div>\n",
       "<style scoped>\n",
       "    .dataframe tbody tr th:only-of-type {\n",
       "        vertical-align: middle;\n",
       "    }\n",
       "\n",
       "    .dataframe tbody tr th {\n",
       "        vertical-align: top;\n",
       "    }\n",
       "\n",
       "    .dataframe thead th {\n",
       "        text-align: right;\n",
       "    }\n",
       "</style>\n",
       "<table border=\"1\" class=\"dataframe\">\n",
       "  <thead>\n",
       "    <tr style=\"text-align: right;\">\n",
       "      <th></th>\n",
       "      <th>CS</th>\n",
       "      <th>l1reg</th>\n",
       "      <th>RF</th>\n",
       "    </tr>\n",
       "  </thead>\n",
       "  <tbody>\n",
       "    <tr>\n",
       "      <th>320</th>\n",
       "      <td>0.941679</td>\n",
       "      <td>0.868078</td>\n",
       "      <td>0.887426</td>\n",
       "    </tr>\n",
       "    <tr>\n",
       "      <th>321</th>\n",
       "      <td>0.735789</td>\n",
       "      <td>0.652261</td>\n",
       "      <td>0.691951</td>\n",
       "    </tr>\n",
       "    <tr>\n",
       "      <th>322</th>\n",
       "      <td>0.509809</td>\n",
       "      <td>0.498641</td>\n",
       "      <td>0.531916</td>\n",
       "    </tr>\n",
       "    <tr>\n",
       "      <th>323</th>\n",
       "      <td>0.998010</td>\n",
       "      <td>0.995283</td>\n",
       "      <td>0.953493</td>\n",
       "    </tr>\n",
       "    <tr>\n",
       "      <th>324</th>\n",
       "      <td>0.992991</td>\n",
       "      <td>0.981558</td>\n",
       "      <td>0.934291</td>\n",
       "    </tr>\n",
       "    <tr>\n",
       "      <th>...</th>\n",
       "      <td>...</td>\n",
       "      <td>...</td>\n",
       "      <td>...</td>\n",
       "    </tr>\n",
       "    <tr>\n",
       "      <th>475</th>\n",
       "      <td>0.555215</td>\n",
       "      <td>0.509865</td>\n",
       "      <td>0.604730</td>\n",
       "    </tr>\n",
       "    <tr>\n",
       "      <th>476</th>\n",
       "      <td>0.499445</td>\n",
       "      <td>0.499445</td>\n",
       "      <td>0.499445</td>\n",
       "    </tr>\n",
       "    <tr>\n",
       "      <th>477</th>\n",
       "      <td>0.983942</td>\n",
       "      <td>0.969850</td>\n",
       "      <td>0.941763</td>\n",
       "    </tr>\n",
       "    <tr>\n",
       "      <th>478</th>\n",
       "      <td>0.988309</td>\n",
       "      <td>0.930391</td>\n",
       "      <td>0.896848</td>\n",
       "    </tr>\n",
       "    <tr>\n",
       "      <th>479</th>\n",
       "      <td>0.509414</td>\n",
       "      <td>0.498043</td>\n",
       "      <td>0.517057</td>\n",
       "    </tr>\n",
       "  </tbody>\n",
       "</table>\n",
       "<p>160 rows × 3 columns</p>\n",
       "</div>"
      ],
      "text/plain": [
       "           CS     l1reg        RF\n",
       "320  0.941679  0.868078  0.887426\n",
       "321  0.735789  0.652261  0.691951\n",
       "322  0.509809  0.498641  0.531916\n",
       "323  0.998010  0.995283  0.953493\n",
       "324  0.992991  0.981558  0.934291\n",
       "..        ...       ...       ...\n",
       "475  0.555215  0.509865  0.604730\n",
       "476  0.499445  0.499445  0.499445\n",
       "477  0.983942  0.969850  0.941763\n",
       "478  0.988309  0.930391  0.896848\n",
       "479  0.509414  0.498043  0.517057\n",
       "\n",
       "[160 rows x 3 columns]"
      ]
     },
     "execution_count": 110,
     "metadata": {},
     "output_type": "execute_result"
    }
   ],
   "source": [
    "perall"
   ]
  },
  {
   "cell_type": "code",
   "execution_count": null,
   "id": "e7035bf0-ce38-47b8-8f3c-e6851e1cd23f",
   "metadata": {},
   "outputs": [],
   "source": []
  }
 ],
 "metadata": {
  "kernelspec": {
   "display_name": "Python 3 (ipykernel)",
   "language": "python",
   "name": "python3"
  },
  "language_info": {
   "codemirror_mode": {
    "name": "ipython",
    "version": 3
   },
   "file_extension": ".py",
   "mimetype": "text/x-python",
   "name": "python",
   "nbconvert_exporter": "python",
   "pygments_lexer": "ipython3",
   "version": "3.9.11"
  }
 },
 "nbformat": 4,
 "nbformat_minor": 5
}
