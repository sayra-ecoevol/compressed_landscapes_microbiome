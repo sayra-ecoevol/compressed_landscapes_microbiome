{
 "cells": [
  {
   "cell_type": "code",
   "execution_count": 13,
   "id": "2d2b3ae1-66cf-49e5-a285-d989170300de",
   "metadata": {},
   "outputs": [],
   "source": [
    "import pandas as pd\n",
    "import numpy as np\n",
    "import scipy \n",
    "from scipy import stats"
   ]
  },
  {
   "cell_type": "code",
   "execution_count": 14,
   "id": "98e9d25b-6ff1-4358-9c55-cf8710b2adb9",
   "metadata": {},
   "outputs": [
    {
     "data": {
      "text/html": [
       "<div>\n",
       "<style scoped>\n",
       "    .dataframe tbody tr th:only-of-type {\n",
       "        vertical-align: middle;\n",
       "    }\n",
       "\n",
       "    .dataframe tbody tr th {\n",
       "        vertical-align: top;\n",
       "    }\n",
       "\n",
       "    .dataframe thead th {\n",
       "        text-align: right;\n",
       "    }\n",
       "</style>\n",
       "<table border=\"1\" class=\"dataframe\">\n",
       "  <thead>\n",
       "    <tr style=\"text-align: right;\">\n",
       "      <th></th>\n",
       "      <th>wh</th>\n",
       "      <th>lin</th>\n",
       "    </tr>\n",
       "  </thead>\n",
       "  <tbody>\n",
       "    <tr>\n",
       "      <th>0</th>\n",
       "      <td>0.465206</td>\n",
       "      <td>0.446689</td>\n",
       "    </tr>\n",
       "    <tr>\n",
       "      <th>1</th>\n",
       "      <td>0.476713</td>\n",
       "      <td>0.476713</td>\n",
       "    </tr>\n",
       "    <tr>\n",
       "      <th>2</th>\n",
       "      <td>0.691205</td>\n",
       "      <td>0.659701</td>\n",
       "    </tr>\n",
       "    <tr>\n",
       "      <th>3</th>\n",
       "      <td>0.583562</td>\n",
       "      <td>0.584346</td>\n",
       "    </tr>\n",
       "    <tr>\n",
       "      <th>4</th>\n",
       "      <td>0.496839</td>\n",
       "      <td>0.430332</td>\n",
       "    </tr>\n",
       "    <tr>\n",
       "      <th>5</th>\n",
       "      <td>0.729629</td>\n",
       "      <td>0.684317</td>\n",
       "    </tr>\n",
       "  </tbody>\n",
       "</table>\n",
       "</div>"
      ],
      "text/plain": [
       "         wh       lin\n",
       "0  0.465206  0.446689\n",
       "1  0.476713  0.476713\n",
       "2  0.691205  0.659701\n",
       "3  0.583562  0.584346\n",
       "4  0.496839  0.430332\n",
       "5  0.729629  0.684317"
      ]
     },
     "execution_count": 14,
     "metadata": {},
     "output_type": "execute_result"
    }
   ],
   "source": [
    "cslin = pd.read_pickle(\"~/compressed_sensingv1/realdatasets/starch-sanchez-v5/SS-l1-cs.pkl\")\n",
    "cslin"
   ]
  },
  {
   "cell_type": "code",
   "execution_count": 15,
   "id": "2887cef9-c675-4e99-aa95-f87876dcd399",
   "metadata": {},
   "outputs": [],
   "source": [
    "rfbest = pd.read_pickle(\"~/compressed_sensingv1/realdatasets/BENCHMARKING/RANDOM FOREST/Starch-Sanchez-REL/SS-per-RF.pkl\")"
   ]
  },
  {
   "cell_type": "code",
   "execution_count": 16,
   "id": "1fa824f7-6999-47bc-bfc4-02ff5a9b7d15",
   "metadata": {},
   "outputs": [],
   "source": [
    "glvdf = pd.read_pickle(\"~/compressed_sensingv1/realdatasets/BENCHMARKING/gLV/SS-gLV/glv-per-SS.pkl\")\n"
   ]
  },
  {
   "cell_type": "code",
   "execution_count": 19,
   "id": "4c48bb38-70ae-4376-9921-465cb1272106",
   "metadata": {},
   "outputs": [],
   "source": [
    "cslin[\"rf\"] = rfbest[\"nnseagg\"].values\n",
    "cslin[\"gLV\"] = glvdf[\"nnse\"].values"
   ]
  },
  {
   "cell_type": "code",
   "execution_count": 20,
   "id": "3c70571f-bf94-4c4e-b17d-46f66239fe83",
   "metadata": {},
   "outputs": [],
   "source": [
    "cslin.to_pickle(\"SS-allmethodsNNSE.pkl\")"
   ]
  },
  {
   "cell_type": "code",
   "execution_count": 21,
   "id": "a789f8bc-7111-45bb-b13f-92dd0d83819d",
   "metadata": {},
   "outputs": [
    {
     "data": {
      "text/html": [
       "<div>\n",
       "<style scoped>\n",
       "    .dataframe tbody tr th:only-of-type {\n",
       "        vertical-align: middle;\n",
       "    }\n",
       "\n",
       "    .dataframe tbody tr th {\n",
       "        vertical-align: top;\n",
       "    }\n",
       "\n",
       "    .dataframe thead th {\n",
       "        text-align: right;\n",
       "    }\n",
       "</style>\n",
       "<table border=\"1\" class=\"dataframe\">\n",
       "  <thead>\n",
       "    <tr style=\"text-align: right;\">\n",
       "      <th></th>\n",
       "      <th>wh</th>\n",
       "      <th>lin</th>\n",
       "      <th>rf</th>\n",
       "      <th>gLV</th>\n",
       "    </tr>\n",
       "  </thead>\n",
       "  <tbody>\n",
       "    <tr>\n",
       "      <th>0</th>\n",
       "      <td>0.465206</td>\n",
       "      <td>0.446689</td>\n",
       "      <td>0.472148</td>\n",
       "      <td>0.270953</td>\n",
       "    </tr>\n",
       "    <tr>\n",
       "      <th>1</th>\n",
       "      <td>0.476713</td>\n",
       "      <td>0.476713</td>\n",
       "      <td>0.478077</td>\n",
       "      <td>0.868192</td>\n",
       "    </tr>\n",
       "    <tr>\n",
       "      <th>2</th>\n",
       "      <td>0.691205</td>\n",
       "      <td>0.659701</td>\n",
       "      <td>0.670191</td>\n",
       "      <td>0.648905</td>\n",
       "    </tr>\n",
       "    <tr>\n",
       "      <th>3</th>\n",
       "      <td>0.583562</td>\n",
       "      <td>0.584346</td>\n",
       "      <td>0.572237</td>\n",
       "      <td>0.256138</td>\n",
       "    </tr>\n",
       "    <tr>\n",
       "      <th>4</th>\n",
       "      <td>0.496839</td>\n",
       "      <td>0.430332</td>\n",
       "      <td>0.455349</td>\n",
       "      <td>0.186615</td>\n",
       "    </tr>\n",
       "    <tr>\n",
       "      <th>5</th>\n",
       "      <td>0.729629</td>\n",
       "      <td>0.684317</td>\n",
       "      <td>0.730749</td>\n",
       "      <td>0.314503</td>\n",
       "    </tr>\n",
       "  </tbody>\n",
       "</table>\n",
       "</div>"
      ],
      "text/plain": [
       "         wh       lin        rf       gLV\n",
       "0  0.465206  0.446689  0.472148  0.270953\n",
       "1  0.476713  0.476713  0.478077  0.868192\n",
       "2  0.691205  0.659701  0.670191  0.648905\n",
       "3  0.583562  0.584346  0.572237  0.256138\n",
       "4  0.496839  0.430332  0.455349  0.186615\n",
       "5  0.729629  0.684317  0.730749  0.314503"
      ]
     },
     "execution_count": 21,
     "metadata": {},
     "output_type": "execute_result"
    }
   ],
   "source": [
    "cslin"
   ]
  },
  {
   "cell_type": "code",
   "execution_count": null,
   "id": "1b2e60d3-6eb9-4929-8ce8-487f509e6ed7",
   "metadata": {},
   "outputs": [],
   "source": []
  }
 ],
 "metadata": {
  "kernelspec": {
   "display_name": "Python 3 (ipykernel)",
   "language": "python",
   "name": "python3"
  },
  "language_info": {
   "codemirror_mode": {
    "name": "ipython",
    "version": 3
   },
   "file_extension": ".py",
   "mimetype": "text/x-python",
   "name": "python",
   "nbconvert_exporter": "python",
   "pygments_lexer": "ipython3",
   "version": "3.9.11"
  }
 },
 "nbformat": 4,
 "nbformat_minor": 5
}
