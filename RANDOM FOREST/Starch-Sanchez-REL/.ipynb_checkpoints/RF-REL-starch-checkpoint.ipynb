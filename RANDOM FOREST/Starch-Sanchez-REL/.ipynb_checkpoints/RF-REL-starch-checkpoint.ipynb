{
 "cells": [
  {
   "cell_type": "code",
   "execution_count": 2,
   "id": "d7ce90c6-7ae6-4406-8278-7d671e954aa1",
   "metadata": {},
   "outputs": [],
   "source": [
    "import pandas as pd\n",
    "import numpy as np\n",
    "import cvxpy as cvx\n",
    "import random\n",
    "import time\n",
    "\n",
    "import warnings\n",
    "warnings.filterwarnings(\"ignore\")\n",
    "\n",
    "\n",
    "from sklearn.ensemble import RandomForestRegressor\n",
    "\n",
    "\n",
    "table = pd.read_pickle(\"~/compressed_sensingv1/realdatasets/misc/starch-sanchez-v3/matrices/A6.pkl\")\n",
    "tableg = table.T\n",
    "\n",
    "B = pd.read_pickle(\"~/compressed_sensingv1/realdatasets/misc/starch-sanchez-v3/matrices/B6.pkl\")\n",
    "Bdf = pd.DataFrame(B)\n",
    "\n",
    "\n",
    "tableg = table.T\n",
    "species_ones = [] \n",
    "for i in range(6):\n",
    "    species = i\n",
    "    species_ones.append(list(tableg[tableg[species]==1].index))\n",
    "    \n",
    "    \n",
    "species_zeros = []\n",
    "for i in range(6):\n",
    "    species = i\n",
    "    species_zeros.append(list(tableg[tableg[species]==0].index))                                                                                                                                                                                                                                                                                                                                                                                                                                                                                                                                                                                                                                                                                                                                                                                                                                                                                                                                                                                                                                                                                                                                                                                                                                                                                                                                                                                                                                                                                                                                                                                                                                                                                                                                                                       \n"
   ]
  },
  {
   "cell_type": "code",
   "execution_count": 5,
   "id": "97e56691-8b0b-4938-885f-9b1f7e2088be",
   "metadata": {},
   "outputs": [],
   "source": [
    "sp_list_provided = [\"C\",\"E\",\"M\",\"P\",\"S\",\"T\"]\n",
    "\n",
    "sstv3 = pd.read_pickle(\"~/compressed_sensingv1/realdatasets/starch-sanchez-v5/starch-sanchez-relative.pkl\")\n",
    "\n",
    "wellsp = list(sstv3.index)"
   ]
  },
  {
   "cell_type": "code",
   "execution_count": 6,
   "id": "12aa5a57-5d40-4529-90ef-e07956e090d0",
   "metadata": {},
   "outputs": [],
   "source": [
    "#table[wellsp]"
   ]
  },
  {
   "cell_type": "code",
   "execution_count": 7,
   "id": "4073817f-adfd-4cd2-b678-6876f9d3ceca",
   "metadata": {},
   "outputs": [],
   "source": [
    "dataTR = pd.read_pickle(\"~/compressed_sensingv1/realdatasets/starch-sanchez-v5/traindataRELss.pkl\")\n",
    "dataTE = pd.read_pickle(\"~/compressed_sensingv1/realdatasets/starch-sanchez-v5/testdataRELss.pkl\")"
   ]
  },
  {
   "cell_type": "code",
   "execution_count": 52,
   "id": "807c6a74-4d71-470c-978b-87087fd42689",
   "metadata": {},
   "outputs": [],
   "source": [
    "cv_splitsl = [3,5] \n",
    "max_depthl = [2,5,10,15,20]\n",
    "ntrees = [100,200,300,400,500,1000]\n",
    "max_featuresl = [\"auto\",\"sqrt\",\"log2\"]"
   ]
  },
  {
   "cell_type": "code",
   "execution_count": 53,
   "id": "f8fe0934-6067-4a1f-81c8-2edc91872ba9",
   "metadata": {},
   "outputs": [],
   "source": [
    "list_present = wellsp\n",
    "rfper = [] \n",
    "for cv_splits in cv_splitsl: \n",
    "    datatrain = dataTR[dataTR[\"k-fold\"]==cv_splits]\n",
    "    datatest = dataTE[dataTE[\"k-fold\"]==cv_splits]\n",
    "    for speciesc in range(6):\n",
    "        species = speciesc\n",
    "        datatousetrain = datatrain[datatrain[\"species\"]==speciesc]\n",
    "        datatousetest = datatest[datatest[\"species\"]==speciesc]\n",
    "        df2 = pd.DataFrame(species_ones[speciesc])\n",
    "        idxlist = list(df2[0].values)\n",
    "        abunvec = pd.DataFrame(sstv3[sp_list_provided[speciesc]][list(set(wellsp).intersection(species_ones[speciesc]))])\n",
    "        pp = list(abunvec.index)\n",
    "        redlist = []\n",
    "        for kk in pp:\n",
    "            redlist.append(idxlist.index(kk))\n",
    "        abunvec.index = redlist\n",
    "        \n",
    "        padf = table[species_ones[species]].T\n",
    "        padf.index = np.arange(0,32,1)\n",
    "        for md in max_depthl:\n",
    "                for n_est in ntrees:\n",
    "                    for mfeatures in max_featuresl:\n",
    "                        for folds in range(cv_splits):\n",
    "                            rinew = datatousetrain[datatousetrain[\"fold number\"]==folds][\"train data\"].values[0]\n",
    "                            rileft = datatousetest[datatousetest[\"fold number\"]==folds][\"test data\"].values[0]\n",
    "                            y3 = abunvec.T[rinew].T[sp_list_provided[speciesc]].values  \n",
    "                            xtrain = padf.T[rinew].T\n",
    "                            ytrain = y3\n",
    "                            \n",
    "                            regr = RandomForestRegressor(max_depth=md,n_estimators=n_est,max_features=mfeatures)\n",
    "                            regr.fit(xtrain,ytrain)\n",
    "                            xtest = padf.T[rileft].T\n",
    "                            ypred = regr.predict(xtest)\n",
    "                            rfper.append([speciesc,md,n_est,rinew,rileft,ypred,cv_splits,mfeatures])\n"
   ]
  },
  {
   "cell_type": "code",
   "execution_count": 54,
   "id": "faab6010-ec72-42cc-9edc-19b0da45f9ef",
   "metadata": {},
   "outputs": [],
   "source": [
    "rdf = pd.DataFrame(rfper).head(4)"
   ]
  },
  {
   "cell_type": "code",
   "execution_count": 55,
   "id": "4028549a-0d20-495f-939d-3207b01e96b9",
   "metadata": {},
   "outputs": [],
   "source": [
    "pd.to_pickle(rdf,\"RF-REL-per.pkl\")"
   ]
  },
  {
   "cell_type": "code",
   "execution_count": null,
   "id": "e0ea1ce7-42b2-4f01-b47a-4aa71c26d0f4",
   "metadata": {},
   "outputs": [],
   "source": []
  }
 ],
 "metadata": {
  "kernelspec": {
   "display_name": "Python 3 (ipykernel)",
   "language": "python",
   "name": "python3"
  },
  "language_info": {
   "codemirror_mode": {
    "name": "ipython",
    "version": 3
   },
   "file_extension": ".py",
   "mimetype": "text/x-python",
   "name": "python",
   "nbconvert_exporter": "python",
   "pygments_lexer": "ipython3",
   "version": "3.9.11"
  }
 },
 "nbformat": 4,
 "nbformat_minor": 5
}
