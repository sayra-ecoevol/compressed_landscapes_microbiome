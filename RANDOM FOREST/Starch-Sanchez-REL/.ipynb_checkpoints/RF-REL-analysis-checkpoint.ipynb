{
 "cells": [
  {
   "cell_type": "code",
   "execution_count": 122,
   "id": "d7ce90c6-7ae6-4406-8278-7d671e954aa1",
   "metadata": {},
   "outputs": [],
   "source": [
    "import pandas as pd\n",
    "import numpy as np\n",
    "import cvxpy as cvx\n",
    "import random\n",
    "import time\n",
    "\n",
    "import warnings\n",
    "warnings.filterwarnings(\"ignore\")\n",
    "\n",
    "\n",
    "from sklearn.ensemble import RandomForestRegressor\n",
    "\n",
    "\n",
    "table = pd.read_pickle(\"~/compressed_sensingv1/realdatasets/misc/starch-sanchez-v3/matrices/A6.pkl\")\n",
    "tableg = table.T\n",
    "\n",
    "B = pd.read_pickle(\"~/compressed_sensingv1/realdatasets/misc/starch-sanchez-v3/matrices/B6.pkl\")\n",
    "Bdf = pd.DataFrame(B)\n",
    "\n",
    "\n",
    "tableg = table.T\n",
    "species_ones = [] \n",
    "for i in range(6):\n",
    "    species = i\n",
    "    species_ones.append(list(tableg[tableg[species]==1].index))\n",
    "    \n",
    "    \n",
    "species_zeros = []\n",
    "for i in range(6):\n",
    "    species = i\n",
    "    species_zeros.append(list(tableg[tableg[species]==0].index))                                                                                                                                                                                                                                                                                                                                                                                                                                                                                                                                                                                                                                                                                                                                                                                                                                                                                                                                                                                                                                                                                                                                                                                                                                                                                                                                                                                                                                                                                                                                                                                                                                                                                                                                                                       \n"
   ]
  },
  {
   "cell_type": "code",
   "execution_count": 123,
   "id": "c4e9c193-f37e-476e-bbcc-6f6d882333d7",
   "metadata": {},
   "outputs": [],
   "source": [
    "\n",
    "from sklearn.metrics import r2_score\n",
    "\n",
    "\n",
    "import matplotlib.patches as mpatches\n",
    "\n",
    "from sklearn.metrics import mean_absolute_percentage_error as mape"
   ]
  },
  {
   "cell_type": "code",
   "execution_count": 124,
   "id": "7790fa3e-40c0-4565-b846-6df44e152b85",
   "metadata": {},
   "outputs": [],
   "source": [
    "from scipy import stats"
   ]
  },
  {
   "cell_type": "code",
   "execution_count": 125,
   "id": "97e56691-8b0b-4938-885f-9b1f7e2088be",
   "metadata": {},
   "outputs": [],
   "source": [
    "sp_list_provided = [\"C\",\"E\",\"M\",\"P\",\"S\",\"T\"]\n",
    "\n",
    "sstv3 = pd.read_pickle(\"~/compressed_sensingv1/realdatasets/starch-sanchez-v5/starch-sanchez-relative.pkl\")\n",
    "\n",
    "wellsp = list(sstv3.index)"
   ]
  },
  {
   "cell_type": "code",
   "execution_count": 126,
   "id": "12aa5a57-5d40-4529-90ef-e07956e090d0",
   "metadata": {},
   "outputs": [],
   "source": [
    "#table[wellsp]"
   ]
  },
  {
   "cell_type": "code",
   "execution_count": 127,
   "id": "4073817f-adfd-4cd2-b678-6876f9d3ceca",
   "metadata": {},
   "outputs": [],
   "source": [
    "dataTR = pd.read_pickle(\"~/compressed_sensingv1/realdatasets/starch-sanchez-v5/traindataRELss.pkl\")\n",
    "dataTE = pd.read_pickle(\"~/compressed_sensingv1/realdatasets/starch-sanchez-v5/testdataRELss.pkl\")"
   ]
  },
  {
   "cell_type": "code",
   "execution_count": 128,
   "id": "807c6a74-4d71-470c-978b-87087fd42689",
   "metadata": {},
   "outputs": [],
   "source": [
    "cv_splitsl = [3,5] \n",
    "max_depthl = [2,5,10,15,20]\n",
    "ntrees = [100,200,300,400,500,1000]\n",
    "max_featuresl = [\"auto\",\"sqrt\",\"log2\"]"
   ]
  },
  {
   "cell_type": "code",
   "execution_count": 129,
   "id": "3d61b4dc-2e75-4bcd-bd34-6fdc5d9073d5",
   "metadata": {},
   "outputs": [],
   "source": [
    "rdf = pd.read_pickle(\"RF-REL-per.pkl\")"
   ]
  },
  {
   "cell_type": "code",
   "execution_count": 130,
   "id": "2fbb2c6c-1bc8-4e23-9f18-9e89a486e773",
   "metadata": {},
   "outputs": [],
   "source": [
    "rndf  = rdf[[\"species\",\"maxdepth\",\"ntrees\",\"ypred\",\"yobs\",\"k-fold\",\"features\"]]"
   ]
  },
  {
   "cell_type": "code",
   "execution_count": 131,
   "id": "e36ef1b7-143d-476e-a83f-4f28bf3e31ab",
   "metadata": {},
   "outputs": [],
   "source": [
    "crossval = [] \n",
    "for m in cv_splitsl:\n",
    "    samp = rndf[rndf[\"k-fold\"]==m]\n",
    "    for speciesc in range(6):\n",
    "        species = speciesc\n",
    "        df2 = pd.DataFrame(species_ones[speciesc])\n",
    "        idxlist = list(df2[0].values)\n",
    "        abunvec = pd.DataFrame(sstv3[sp_list_provided[speciesc]][list(set(wellsp).intersection(species_ones[speciesc]))])\n",
    "        pp = list(abunvec.index)\n",
    "        redlist = []\n",
    "        for kk in pp:\n",
    "            redlist.append(idxlist.index(kk))\n",
    "        abunvec.index = redlist\n",
    "        sp1 = samp[samp[\"species\"]==species]\n",
    "        for md in max_depthl:\n",
    "            mdf = sp1[sp1[\"maxdepth\"]==md]\n",
    "            for n_est in ntrees:\n",
    "                ntr = mdf[mdf[\"ntrees\"]==n_est]\n",
    "                for mfeatures in max_featuresl:\n",
    "                    mfeats = ntr[ntr[\"features\"]==mfeatures]\n",
    "                    r2 = [] \n",
    "                    yallbest  = []\n",
    "                    yallact  = [] \n",
    "                    mfeats.index = np.arange(0,len(mfeats),1)\n",
    "                    for iterii in range(m):\n",
    "                        yact = mfeats[\"yobs\"][iterii]\n",
    "                        ybest = mfeats[\"ypred\"][iterii]\n",
    "                        ybestdf1 = pd.DataFrame(ybest)\n",
    "                        ybestdf1[ybestdf1[0]<1e-10]=0\n",
    "                        slope, intercept,r_value, p_value, std_err = stats.linregress(yact.astype(float),ybestdf1[0].values)\n",
    "                        yallbest.append(ybestdf1[0].values)\n",
    "                        yallact.append(yact)\n",
    "                        rval = r2_score(yact,ybestdf1[0].values)\n",
    "                        gop = 1/(2-rval)\n",
    "                        mape1 = mape(yact,ybestdf1[0].values)\n",
    "                        r2.append([gop,rval,mape1,slope,intercept,r_value**2])\n",
    "                    r2df = pd.DataFrame(r2)\n",
    "                    if m == 2:\n",
    "                        ybestagg = [*yallbest[0],*yallbest[1]]\n",
    "                        yactagg = [*yallact[0],*yallact[1]]\n",
    "                    if m == 3:\n",
    "                        ybestagg = [*yallbest[0],*yallbest[1],*yallbest[2]]\n",
    "                        yactagg = [*yallact[0],*yallact[1],*yallact[2]]\n",
    "                    if m == 5:\n",
    "                        ybestagg = [*yallbest[0],*yallbest[1],*yallbest[2],*yallbest[3],*yallbest[4]]\n",
    "                        yactagg = [*yallact[0],*yallact[1],*yallact[2],*yallact[3],*yallact[4]]\n",
    "                    if m == 7:\n",
    "                        ybestagg = [*yallbest[0],*yallbest[1],*yallbest[2],*yallbest[3],*yallbest[4],*yallbest[5],*yallbest[6]]\n",
    "                        yactagg = [*yallact[0],*yallact[1],*yallact[2],*yallact[3],*yallact[4],*yallact[5],*yallact[6]]\n",
    "                    slope, intercept,r_value, p_value, std_err = stats.linregress(yactagg,ybestagg)\n",
    "                    rval2 = r2_score(yactagg,ybestagg)\n",
    "                    gop2 = 1/(2-rval2)\n",
    "                    mean1 = r2df.mean().values[0]\n",
    "                    mean2 = r2df.mean().values[1]\n",
    "                    mean3 = r2df.mean().values[2]\n",
    "                    mean4 = r2df.mean().values[3]\n",
    "                    mean5 = r2df.mean().values[4]\n",
    "                    mean6 = r2df.mean().values[5]\n",
    "                    mape2 = mape(yactagg,ybestagg)\n",
    "                    crossval.append([m,species,md,mfeatures,n_est,gop2,rval2,mape2,slope,intercept,r_value**2,\"break\",mean1,mean2,mean3,mean4,mean5,mean6,yactagg,ybestagg])"
   ]
  },
  {
   "cell_type": "code",
   "execution_count": 132,
   "id": "d949c780-9d2d-4d13-aa8c-7a1858a132ce",
   "metadata": {},
   "outputs": [],
   "source": [
    "crossdf = pd.DataFrame(crossval,columns=[\"k-fold\",\"sp\",\"max_depth\",\"features\",\"trees\",\"nnseagg\",\"r2agg\",\"mapeagg\",\"slagg\",\"intagg\",\"rlinagg\",\"means on right\",\"nnseavg\",\"r2avg\",\"mapeavg\",\"slavg\",\"intavg\",\"rlinavg\",\"testact\",\"testpred\"])"
   ]
  },
  {
   "cell_type": "code",
   "execution_count": 141,
   "id": "45c00cd8-a173-41dd-86e5-3ca62dafccdd",
   "metadata": {},
   "outputs": [],
   "source": [
    "crossdf.to_pickle(\"RF-SS-analysis.pkl\")"
   ]
  },
  {
   "cell_type": "code",
   "execution_count": 142,
   "id": "482428fc-2db5-4952-b6d0-59d17e67440a",
   "metadata": {},
   "outputs": [],
   "source": [
    "cv3 = crossdf[crossdf[\"k-fold\"]==3]\n",
    "bestbynnse = [] \n",
    "for species in range(6):\n",
    "    spdf = cv3[cv3[\"sp\"]==species]\n",
    "    bidx = spdf[\"nnseagg\"].idxmax()\n",
    "    bestbynnse.append(spdf.T[bidx].T[[\"max_depth\",\"features\",\"trees\",\"nnseagg\",\"sp\"]])"
   ]
  },
  {
   "cell_type": "code",
   "execution_count": 144,
   "id": "4eb7012a-6a42-408a-abb6-f4587ab9009a",
   "metadata": {},
   "outputs": [],
   "source": [
    "perdff2 = pd.DataFrame(bestbynnse)"
   ]
  },
  {
   "cell_type": "code",
   "execution_count": 145,
   "id": "778cb8ba-9151-414a-914b-27e379b074e2",
   "metadata": {},
   "outputs": [
    {
     "data": {
      "text/html": [
       "<div>\n",
       "<style scoped>\n",
       "    .dataframe tbody tr th:only-of-type {\n",
       "        vertical-align: middle;\n",
       "    }\n",
       "\n",
       "    .dataframe tbody tr th {\n",
       "        vertical-align: top;\n",
       "    }\n",
       "\n",
       "    .dataframe thead th {\n",
       "        text-align: right;\n",
       "    }\n",
       "</style>\n",
       "<table border=\"1\" class=\"dataframe\">\n",
       "  <thead>\n",
       "    <tr style=\"text-align: right;\">\n",
       "      <th></th>\n",
       "      <th>max_depth</th>\n",
       "      <th>features</th>\n",
       "      <th>trees</th>\n",
       "      <th>nnseagg</th>\n",
       "      <th>sp</th>\n",
       "    </tr>\n",
       "  </thead>\n",
       "  <tbody>\n",
       "    <tr>\n",
       "      <th>2</th>\n",
       "      <td>2</td>\n",
       "      <td>log2</td>\n",
       "      <td>100</td>\n",
       "      <td>0.478732</td>\n",
       "      <td>0</td>\n",
       "    </tr>\n",
       "    <tr>\n",
       "      <th>94</th>\n",
       "      <td>2</td>\n",
       "      <td>sqrt</td>\n",
       "      <td>200</td>\n",
       "      <td>0.481444</td>\n",
       "      <td>1</td>\n",
       "    </tr>\n",
       "    <tr>\n",
       "      <th>255</th>\n",
       "      <td>20</td>\n",
       "      <td>auto</td>\n",
       "      <td>200</td>\n",
       "      <td>0.738247</td>\n",
       "      <td>2</td>\n",
       "    </tr>\n",
       "    <tr>\n",
       "      <th>348</th>\n",
       "      <td>20</td>\n",
       "      <td>auto</td>\n",
       "      <td>300</td>\n",
       "      <td>0.604910</td>\n",
       "      <td>3</td>\n",
       "    </tr>\n",
       "    <tr>\n",
       "      <th>398</th>\n",
       "      <td>10</td>\n",
       "      <td>log2</td>\n",
       "      <td>100</td>\n",
       "      <td>0.473638</td>\n",
       "      <td>4</td>\n",
       "    </tr>\n",
       "    <tr>\n",
       "      <th>526</th>\n",
       "      <td>20</td>\n",
       "      <td>sqrt</td>\n",
       "      <td>200</td>\n",
       "      <td>0.737210</td>\n",
       "      <td>5</td>\n",
       "    </tr>\n",
       "  </tbody>\n",
       "</table>\n",
       "</div>"
      ],
      "text/plain": [
       "     max_depth features  trees   nnseagg  sp\n",
       "2            2     log2    100  0.478732   0\n",
       "94           2     sqrt    200  0.481444   1\n",
       "255         20     auto    200  0.738247   2\n",
       "348         20     auto    300  0.604910   3\n",
       "398         10     log2    100  0.473638   4\n",
       "526         20     sqrt    200  0.737210   5"
      ]
     },
     "execution_count": 145,
     "metadata": {},
     "output_type": "execute_result"
    }
   ],
   "source": [
    "perdff2"
   ]
  },
  {
   "cell_type": "code",
   "execution_count": 146,
   "id": "ae0ab0a6-3db8-442b-a62a-eb34e1f78390",
   "metadata": {},
   "outputs": [],
   "source": [
    "perdff2.to_pickle(\"SS-per-RF.pkl\")"
   ]
  },
  {
   "cell_type": "code",
   "execution_count": null,
   "id": "da013d15-2074-45cb-a0d1-3b536a2ff9ec",
   "metadata": {},
   "outputs": [],
   "source": []
  }
 ],
 "metadata": {
  "kernelspec": {
   "display_name": "Python 3 (ipykernel)",
   "language": "python",
   "name": "python3"
  },
  "language_info": {
   "codemirror_mode": {
    "name": "ipython",
    "version": 3
   },
   "file_extension": ".py",
   "mimetype": "text/x-python",
   "name": "python",
   "nbconvert_exporter": "python",
   "pygments_lexer": "ipython3",
   "version": "3.9.11"
  }
 },
 "nbformat": 4,
 "nbformat_minor": 5
}
