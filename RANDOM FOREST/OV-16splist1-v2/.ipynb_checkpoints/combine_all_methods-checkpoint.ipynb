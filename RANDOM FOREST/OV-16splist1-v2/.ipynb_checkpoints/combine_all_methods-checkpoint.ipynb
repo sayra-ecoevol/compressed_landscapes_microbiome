{
 "cells": [
  {
   "cell_type": "code",
   "execution_count": 1,
   "id": "a92ef38f-eb4c-4de2-8380-18905e786a93",
   "metadata": {},
   "outputs": [],
   "source": [
    "import pandas as pd\n",
    "import numpy as np\n",
    "import scipy as sp\n",
    "import matplotlib.pyplot as plt\n",
    "import seaborn as sns"
   ]
  },
  {
   "cell_type": "code",
   "execution_count": 2,
   "id": "da784f29-4f6d-4fc8-bf0c-e5b9998f8154",
   "metadata": {},
   "outputs": [],
   "source": [
    "rfper = pd.read_pickle(\"OV-v2-RF-REL16sp-5runsPER.pkl\")"
   ]
  },
  {
   "cell_type": "code",
   "execution_count": 3,
   "id": "77298438-e7d7-452f-86df-87ff397a3389",
   "metadata": {},
   "outputs": [],
   "source": [
    "whper = pd.read_pickle(\"~/compressed_sensingv1/realdatasets/OV-v2/2pow15-matrices/WH_per_run5REL.pkl\")"
   ]
  },
  {
   "cell_type": "code",
   "execution_count": 4,
   "id": "5fba997d-f42a-4e0c-bbcc-61a50e629449",
   "metadata": {},
   "outputs": [],
   "source": [
    "linper = pd.read_pickle(\"~/compressed_sensingv1/realdatasets/OV-v2/2pow15-matrices/lin_per_run5REL.pkl\")"
   ]
  },
  {
   "cell_type": "code",
   "execution_count": null,
   "id": "8e885a1c-2565-4681-a6d0-1ae41aefdaa7",
   "metadata": {},
   "outputs": [],
   "source": []
  }
 ],
 "metadata": {
  "kernelspec": {
   "display_name": "Python 3 (ipykernel)",
   "language": "python",
   "name": "python3"
  },
  "language_info": {
   "codemirror_mode": {
    "name": "ipython",
    "version": 3
   },
   "file_extension": ".py",
   "mimetype": "text/x-python",
   "name": "python",
   "nbconvert_exporter": "python",
   "pygments_lexer": "ipython3",
   "version": "3.9.11"
  }
 },
 "nbformat": 4,
 "nbformat_minor": 5
}
