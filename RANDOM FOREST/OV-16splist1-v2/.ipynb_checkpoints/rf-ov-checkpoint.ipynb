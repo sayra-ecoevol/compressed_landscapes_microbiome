{
 "cells": [
  {
   "cell_type": "code",
   "execution_count": 3,
   "id": "813db095-f58c-4ac9-b918-9ca2516ca5b1",
   "metadata": {},
   "outputs": [],
   "source": [
    "import pandas as pd\n",
    "import random\n",
    "import time\n",
    "import numpy as np\n",
    "\n",
    "\n",
    "from sklearn.model_selection import LeaveOneOut\n",
    "from sklearn.model_selection import KFold\n",
    "\n",
    "\n",
    "\n",
    "from sklearn.ensemble import RandomForestRegressor\n",
    "\n",
    "import warnings\n",
    "warnings.filterwarnings(\"ignore\")"
   ]
  },
  {
   "cell_type": "code",
   "execution_count": 4,
   "id": "038c261f-d6a1-48df-9824-5c23ddbc4016",
   "metadata": {},
   "outputs": [],
   "source": [
    "B = pd.read_pickle(\"~/bge-analysis-simv3/B.pkl\")\n",
    "A = pd.read_pickle(\"~/bge-analysis-simv3/A.pkl\")\n",
    "\n",
    "tableg=A.T\n",
    "species_onesall = [] \n",
    "for species in range(16):\n",
    "    species_onesall.append(tableg[tableg[species]==1.0][species].index.to_list())\n",
    "species_zerosall = []\n",
    "for species in range(16):\n",
    "    species_zerosall.append(tableg[tableg[species]==0.0][species].index.to_list())"
   ]
  },
  {
   "cell_type": "code",
   "execution_count": 5,
   "id": "d1c0cc4e-815b-4455-9929-3a8f38b85d90",
   "metadata": {},
   "outputs": [],
   "source": [
    "pa_redv1 = pd.read_pickle(\"~/compressed_sensingv1/realdatasets/misc/ophelli-ryan/eff-16-list1-red-pa.pkl\")\n",
    "\n",
    "##### compile the well numbers for each species for its presence \n",
    "\n",
    "species_ones = []\n",
    "for i in range(16):\n",
    "    species_ones.append(pa_redv1[pa_redv1[i]==1.0][\"well number\"].values)\n",
    "\n",
    "ones_len = [] \n",
    "for ii in range(len(species_ones)):\n",
    "    ones_len.append(len(species_ones[ii])) "
   ]
  },
  {
   "cell_type": "code",
   "execution_count": 6,
   "id": "b7d88f2b-25e8-47be-b1d1-55f6694d0204",
   "metadata": {},
   "outputs": [],
   "source": [
    "steadystate = pd.read_pickle(\"~/compressed_sensingv1/realdatasets/misc/ophelli-ryan/eff-16-list1-red-sst-REL.pkl\")\n",
    "sst = steadystate.T"
   ]
  },
  {
   "cell_type": "code",
   "execution_count": 7,
   "id": "10671270-c38a-4995-af1f-f7598966c680",
   "metadata": {},
   "outputs": [],
   "source": [
    "cv_splitsl = [3,5,7] \n",
    "max_depthl = [2,5,10,15,20]\n",
    "ntrees = [100,500]\n",
    "max_featuresl = [\"auto\",\"sqrt\",\"log2\"]"
   ]
  },
  {
   "cell_type": "code",
   "execution_count": null,
   "id": "ed39b993-3238-4c70-b1fc-ce198b0b18b3",
   "metadata": {},
   "outputs": [],
   "source": []
  },
  {
   "cell_type": "code",
   "execution_count": 8,
   "id": "15e3c8a6-a3ea-42e5-af65-b386df736264",
   "metadata": {},
   "outputs": [],
   "source": [
    "listll = [7,15] \n",
    "\n",
    "df = [] \n",
    "for kk in listll:\n",
    "    df.append(pd.read_pickle(\"~/compressed_sensingv1/realdatasets/OV-v2/2pow15-matrices/16l1-\"+str(kk)+\"-bge.pkl\"))"
   ]
  },
  {
   "cell_type": "code",
   "execution_count": 9,
   "id": "e7164f03-cf38-4b48-91ff-49b583639a3d",
   "metadata": {},
   "outputs": [],
   "source": [
    "df2 = pd.concat([df[0],df[1]])\n",
    "#df2 = pd.concat([df[0],df[1],df[2],df[3],df[4],df[5],df[6]])\n",
    "\n",
    "dflin = [] \n",
    "for kk in listll:\n",
    "    dflin.append(pd.read_pickle(\"~/compressed_sensingv1/realdatasets/OV-v2/2pow15-matrices/16l1-\"+str(kk)+\"-lin.pkl\"))\n",
    "\n",
    "dflin2 = pd.concat([dflin[0],dflin[1]])\n",
    "#dflin2  = pd.concat([dflin[0],dflin[1],dflin[2],dflin[3],dflin[4],dflin[5],dflin[6]])"
   ]
  },
  {
   "cell_type": "code",
   "execution_count": 10,
   "id": "58e952a3-656d-428a-a7f7-204931c465bf",
   "metadata": {},
   "outputs": [],
   "source": [
    "bias_var_listm = [3,3,3,3,3,3,3,3,5,3,5,3,3,7,5,7]"
   ]
  },
  {
   "cell_type": "code",
   "execution_count": null,
   "id": "e7d98229-c659-4cc9-91fb-71786cbdb9f2",
   "metadata": {},
   "outputs": [],
   "source": [
    "startt = time.time()\n",
    "rfper = [] \n",
    "for iteras in range(5):\n",
    "    runidx = df2[df2[0]==iteras]\n",
    "    for species in range(16):\n",
    "        speciesc = species \n",
    "        #subsetall = A[species_onesall[species]].T\n",
    "        #subsetall[\"indexinwhole\"] = subsetall.index\n",
    "        3subsetall.index = np.arange(0,2**15,1)\n",
    "        givendata = subsetall[subsetall[\"indexinwhole\"].isin(species_ones[species])]\n",
    "        sstgiven = steadystate.T[subsetall[subsetall[\"indexinwhole\"].isin(species_ones[species])][\"indexinwhole\"].values].T\n",
    "        sstgiven.index = givendata.index\n",
    "        m = bias_var_listm[species]\n",
    "        spidx = runidx[runidx[2]==species][:m]\n",
    "        for folds in range(m):\n",
    "            trfold = spidx[5].iloc[folds]\n",
    "            tefold = spidx[4].iloc[folds]\n",
    "            sstdatatrY = sstgiven.T[trfold][:16].T[species]\n",
    "            trX = givendata.T[:16][trfold].T\n",
    "            sstact_tey = sstgiven.T[tefold][:16].T[species]\n",
    "            teX =  givendata.T[:16][tefold].T\n",
    "            for md in max_depthl:\n",
    "                for n_est in ntrees:\n",
    "                    for mfeatures in max_featuresl:\n",
    "                            regr = RandomForestRegressor(max_depth=md,n_estimators=n_est,max_features=mfeatures)\n",
    "                            regr.fit(trX,sstdatatrY)\n",
    "                            ypred = regr.predict(teX)\n",
    "                            rfper.append([species,iteras,m,folds,md,n_est,mfeatures,ypred,sstact_tey.values,trfold,tefold])\n",
    "print(time.time() - startt)            "
   ]
  },
  {
   "cell_type": "code",
   "execution_count": 26,
   "id": "551f5052-856a-4229-bff3-081079ffd20c",
   "metadata": {},
   "outputs": [],
   "source": [
    "rdf = pd.DataFrame(rfper,columns = [\"species\",\"run idx\",\"k-fold\",\"k-fold idx\",\"max depth\",\"trees\",\"feats\",\"ypred\",\"yact\",\"train data\",\"te data\"])"
   ]
  },
  {
   "cell_type": "code",
   "execution_count": 27,
   "id": "6c0247e8-4dc2-40cc-b507-5db8980d0c04",
   "metadata": {},
   "outputs": [],
   "source": [
    "rdf.to_pickle(\"RF-16sp-OV-REL-5runs.pkl\")"
   ]
  },
  {
   "cell_type": "code",
   "execution_count": null,
   "id": "6c1a8374-fcab-471f-a89c-250af7c8bcb0",
   "metadata": {},
   "outputs": [],
   "source": []
  }
 ],
 "metadata": {
  "kernelspec": {
   "display_name": "Python 3 (ipykernel)",
   "language": "python",
   "name": "python3"
  },
  "language_info": {
   "codemirror_mode": {
    "name": "ipython",
    "version": 3
   },
   "file_extension": ".py",
   "mimetype": "text/x-python",
   "name": "python",
   "nbconvert_exporter": "python",
   "pygments_lexer": "ipython3",
   "version": "3.9.11"
  }
 },
 "nbformat": 4,
 "nbformat_minor": 5
}
