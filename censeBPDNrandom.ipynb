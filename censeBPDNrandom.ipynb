{
 "cells": [
  {
   "cell_type": "markdown",
   "id": "0c21ad23-3bb6-464c-818e-481ddad31eaf",
   "metadata": {},
   "source": [
    "### in this notebook, we will run BPDN/LASSO on random input of species and replicates (for small_simulation v3). We will use independent pools for each species and replicates. \n",
    "### We will reduce the dimensions of the space to $2^{15}$\n",
    "#### We will make predictions only using data that has the given species being present at the start. \n",
    "#### We will save the time taken, the predictions, and also the wells supplied to make the predictions. \n",
    "#### We will need to tune the LASSO parameter -- run simulations for multiple parameter values "
   ]
  },
  {
   "cell_type": "code",
   "execution_count": 1,
   "id": "fbc39e30-0468-4f96-9d52-70e05001c695",
   "metadata": {},
   "outputs": [],
   "source": [
    "import pandas as pd\n",
    "import numpy as np\n",
    "import cvxpy as cvx\n",
    "import random\n",
    "import time\n",
    "from __future__ import print_function\n",
    "from builtins import input\n",
    "\n",
    "\n",
    "from sporco.admm import bpdn\n",
    "### using the ADMM algorithm \n",
    "### we can also use the PGM algorithm \n",
    "from sporco import util\n",
    "from sporco import plot\n",
    "plot.config_notebook_plotting()\n",
    "\n",
    "from scipy.linalg import hadamard\n",
    "\n",
    "import matplotlib.pyplot as plt\n",
    "\n",
    "from sklearn.model_selection import LeaveOneOut\n",
    "from sklearn.model_selection import KFold\n",
    "\n",
    "import time \n",
    "from scipy import stats\n",
    "from matplotlib import pyplot\n",
    "plt.style.use('ggplot')\n",
    "plt.style.use('seaborn-dark-palette')\n",
    "iHiV = pd.read_pickle(\"~/compressed_sensingv1/realdatasets/ophelli-ryan/iHiV15.pkl\")\n",
    "B = pd.read_pickle(\"~/bge-analysis-simv3/B.pkl\")\n",
    "A = pd.read_pickle(\"~/bge-analysis-simv3/A.pkl\")\n",
    "replist = np.arange(0,10,1)\n",
    "timearray = []\n",
    "import os"
   ]
  },
  {
   "cell_type": "markdown",
   "id": "cb22d064-e460-4f52-9754-98cb0d1a641d",
   "metadata": {},
   "source": [
    "#### set up the BPDN model "
   ]
  },
  {
   "cell_type": "code",
   "execution_count": 2,
   "id": "716b92dd-b8f1-4361-9330-ae72a6545d70",
   "metadata": {},
   "outputs": [],
   "source": [
    "opt = bpdn.BPDN.Options({'Verbose': False, 'MaxMainIter': 500,\n",
    "                         'RelStopTol': 1e-8, 'AutoRho': {'RsdlTarget': 1.0}})"
   ]
  },
  {
   "cell_type": "code",
   "execution_count": 3,
   "id": "7a8b3472-3c76-40e3-aafb-d7cd5ab3aa66",
   "metadata": {
    "tags": []
   },
   "outputs": [],
   "source": [
    "tableg=A.T\n",
    "species_ones = [] \n",
    "for species in range(16):\n",
    "    species_ones.append(tableg[tableg[species]==1.0][species].index.to_list())"
   ]
  },
  {
   "cell_type": "code",
   "execution_count": 4,
   "id": "0955aeaf-e9b4-4efe-9ca8-8a33a0a5eed1",
   "metadata": {},
   "outputs": [],
   "source": [
    "samplist = [32, 65, 327, 655]"
   ]
  },
  {
   "cell_type": "code",
   "execution_count": 6,
   "id": "7d177eae-8ba7-44a3-905e-e66eae2c555a",
   "metadata": {},
   "outputs": [],
   "source": [
    "### generate lambda parameters :\n",
    "labdl = np.round(np.logspace(-5,0.8,5),5)\n",
    "lam = list(labdl)\n",
    "lam.append([0.5,0.8,1.0,2.0,3.0,4.0,5.0,8.0,10.0,12.0])\n",
    "lamf = list(pd.DataFrame(lam)[0].explode().values)\n",
    "lamf.sort()\n",
    "#lamf = [15.0,20.0,30.0,50.0]"
   ]
  },
  {
   "cell_type": "code",
   "execution_count": 7,
   "id": "dfa6605f-899b-4db0-8251-c851c212e781",
   "metadata": {},
   "outputs": [],
   "source": [
    "npath = os.getcwd()\n",
    "npath = \"~/compressed_sensingv1/abun_simv3/sparse-recovery-nonBP/reduced-matrices-uniform\"\n",
    "for lmda in lamf:\n",
    "    os.mkdir(\"/raid/home/shreyaa5/compressed_sensingv1/abun_simv3/sparse-recovery-nonBP/reduced-matrices-uniform/rel-abun\"+\"/pt\"+str(lmda))"
   ]
  },
  {
   "cell_type": "code",
   "execution_count": null,
   "id": "a34261a0-2eb1-4d0a-a9cd-fd25bd23290c",
   "metadata": {},
   "outputs": [],
   "source": [
    "timearray  = []\n",
    "listt = list(np.arange(0,2**15,1))\n",
    "for species in range(16):\n",
    "    starttt = time.time()\n",
    "    entime = time.time() - starttt\n",
    "    for replica in range(10):\n",
    "        steadystate = pd.read_pickle(\"~/compressed_sensingv1/fullsearch/15_2.3_\"+str(replica)+\"/steady-state.pkl\")\n",
    "        n = 2**16\n",
    "        sst = steadystate.T\n",
    "        sstv2 = sst.copy()\n",
    "        sstv2[\"total\"] = sstv2.T.sum()\n",
    "        for i in range(16):\n",
    "            sstv2[i] = sstv2[i]/sstv2[\"total\"]\n",
    "        sstv3 = sstv2.fillna(0)\n",
    "        abunvec = pd.DataFrame(sstv3[species].values[species_ones[species]])\n",
    "        abunvec.index = np.arange(0,2**15,1)\n",
    "        for m in samplist:\n",
    "            ri = pd.read_pickle(\"~/compressed_sensingv1/abun_simv3/training-data/sp\"+str(species)+\"_rep\"+str(replica)+\"-in-sample-\"+str(m)+\".pkl\")    \n",
    "            y1 = abunvec[0][ri]\n",
    "            s2 = np.array([y1.values])\n",
    "            s3 = s2.T\n",
    "            startt = time.time()\n",
    "            D = iHiV[ri,:]\n",
    "            for lmda in lamf:\n",
    "                os.chdir(\"/raid/home/shreyaa5/compressed_sensingv1/abun_simv3/sparse-recovery-nonBP/reduced-matrices-uniform/rel-abun/pt\"+str(lmda))\n",
    "                b = bpdn.BPDN(D, s3, lmda, opt)\n",
    "                x = b.solve()\n",
    "                reconCSybge = np.dot(iHiV,x.ravel())\n",
    "                endtime = time.time() - startt\n",
    "                timearray.append([replica,species,endtime,entime])\n",
    "                pd.to_pickle(ri,str(species)+\"_rep\"+str(replica)+\"-in-sample-\"+str(m)+\".pkl\")\n",
    "                pd.to_pickle(reconCSybge,\"abun_for_sp\"+str(species)+\"_rep\"+str(replica)+\"_samp\"+str(m)+\".pkl\")\n",
    "                pd.to_pickle(x.ravel(),\"beta_for_sp\"+str(species)+\"_rep\"+str(replica)+\"_samp\"+str(m)+\".pkl\")"
   ]
  },
  {
   "cell_type": "code",
   "execution_count": 8,
   "id": "4b7643a1-387b-4430-b02a-626e30804ec2",
   "metadata": {},
   "outputs": [],
   "source": [
    "#### in this part, we will run the high-performing (at 1p) species in replicates (for optimally chosen lambda) for higher data points training \n",
    "gp = pd.read_pickle(\"~/compressed_sensingv1/abun_simv3/sparse-recovery-nonBP/reduced-matrices-uniform/high-performing-at1p.pkl\")"
   ]
  },
  {
   "cell_type": "code",
   "execution_count": 18,
   "id": "64b1335d-e797-42a9-9eab-0e251a24dccc",
   "metadata": {},
   "outputs": [],
   "source": [
    "updsamp = [1310, 2616, 3270, 6540]"
   ]
  },
  {
   "cell_type": "code",
   "execution_count": 17,
   "id": "dd7d46a9-35bd-43d9-b21c-35cb0a7d7795",
   "metadata": {},
   "outputs": [],
   "source": [
    "timearray  = []\n",
    "listt = list(np.arange(0,2**15,1))\n",
    "for param in gp:\n",
    "    replica = int(param[0])\n",
    "    species = int(param[1])\n",
    "    lmda = param[2]\n",
    "    steadystate = pd.read_pickle(\"~/compressed_sensingv1/fullsearch/15_2.3_\"+str(replica)+\"/steady-state.pkl\")\n",
    "    n = 2**16\n",
    "    sst = steadystate.T\n",
    "    abunvec = pd.DataFrame(sst[species].values[species_ones[species]])\n",
    "    abunvec.index = np.arange(0,2**15,1)\n",
    "    for m in updsamp:\n",
    "        ri = pd.read_pickle(\"~/compressed_sensingv1/abun_simv3/training-data/sp\"+str(species)+\"_rep\"+str(replica)+\"-in-sample-\"+str(m)+\".pkl\")    \n",
    "        y1 = abunvec[0][ri]\n",
    "        s2 = np.array([y1.values])\n",
    "        s3 = s2.T\n",
    "        startt = time.time()\n",
    "        D = iHiV[ri,:]\n",
    "        os.chdir(\"/raid/home/shreyaa5/compressed_sensingv1/abun_simv3/sparse-recovery-nonBP/reduced-matrices-uniform/pt\"+str(lmda))\n",
    "        b = bpdn.BPDN(D, s3, lmda, opt)\n",
    "        x = b.solve()\n",
    "        reconCSybge = np.dot(iHiV,x.ravel())\n",
    "        endtime = time.time() - startt\n",
    "        timearray.append([replica,species,endtime,m])\n",
    "        pd.to_pickle(ri,str(species)+\"_rep\"+str(replica)+\"-in-sample-\"+str(m)+\".pkl\")\n",
    "        pd.to_pickle(reconCSybge,\"abun_for_sp\"+str(species)+\"_rep\"+str(replica)+\"_samp\"+str(m)+\".pkl\")\n",
    "        pd.to_pickle(x.ravel(),\"beta_for_sp\"+str(species)+\"_rep\"+str(replica)+\"_samp\"+str(m)+\".pkl\")"
   ]
  },
  {
   "cell_type": "code",
   "execution_count": null,
   "id": "cadd892e-3e55-493a-b7a8-05d5db212931",
   "metadata": {},
   "outputs": [],
   "source": [
    "#### for samplist (0.1, 0.2, 1, 2)% samplings, run CS three more times. \n",
    "### using the same training dataset?"
   ]
  },
  {
   "cell_type": "code",
   "execution_count": 71,
   "id": "b256de38-b848-4b8f-849f-2d2f15f1353d",
   "metadata": {},
   "outputs": [],
   "source": [
    "timearray  = []\n",
    "listt = list(np.arange(0,2**15,1))\n",
    "for param in gp:\n",
    "    replica = int(param[0])\n",
    "    species = int(param[1])\n",
    "    lmda = param[2]\n",
    "    steadystate = pd.read_pickle(\"~/compressed_sensingv1/fullsearch/15_2.3_\"+str(replica)+\"/steady-state.pkl\")\n",
    "    n = 2**16\n",
    "    sst = steadystate.T\n",
    "    abunvec = pd.DataFrame(sst[species].values[species_ones[species]])\n",
    "    abunvec.index = np.arange(0,2**15,1)\n",
    "    for m in [32,65,327,655]:\n",
    "        #ri = #pd.read_pickle(\"~/compressed_sensingv1/abun_simv3/training-data/sp\"+str(species)+\"_rep\"+str(replica)+\"-in-sample-\"+str(m)+\".pkl\")    \n",
    "        ri = random.sample(listt,m)\n",
    "        y1 = abunvec[0][ri]\n",
    "        s2 = np.array([y1.values])\n",
    "        s3 = s2.T\n",
    "        startt = time.time()\n",
    "        D = iHiV[ri,:]\n",
    "        os.chdir(\"/raid/home/shreyaa5/compressed_sensingv1/abun_simv3/sparse-recovery-nonBP/reduced-matrices-uniform/pt\"+str(lmda))\n",
    "        b = bpdn.BPDN(D, s3, lmda, opt)\n",
    "        x = b.solve()\n",
    "        reconCSybge = np.dot(iHiV,x.ravel())\n",
    "        endtime = time.time() - startt\n",
    "        timearray.append([replica,species,endtime,m])\n",
    "        pd.to_pickle(ri,str(species)+\"_rep\"+str(replica)+\"-in-sample-\"+str(m)+\"run4.pkl\")\n",
    "        pd.to_pickle(reconCSybge,\"abun_for_sp\"+str(species)+\"_rep\"+str(replica)+\"_samp\"+str(m)+\"run4.pkl\")\n",
    "        pd.to_pickle(x.ravel(),\"beta_for_sp\"+str(species)+\"_rep\"+str(replica)+\"_samp\"+str(m)+\"run4.pkl\")"
   ]
  }
 ],
 "metadata": {
  "kernelspec": {
   "display_name": "Python 3 (ipykernel)",
   "language": "python",
   "name": "python3"
  },
  "language_info": {
   "codemirror_mode": {
    "name": "ipython",
    "version": 3
   },
   "file_extension": ".py",
   "mimetype": "text/x-python",
   "name": "python",
   "nbconvert_exporter": "python",
   "pygments_lexer": "ipython3",
   "version": "3.9.11"
  }
 },
 "nbformat": 4,
 "nbformat_minor": 5
}
