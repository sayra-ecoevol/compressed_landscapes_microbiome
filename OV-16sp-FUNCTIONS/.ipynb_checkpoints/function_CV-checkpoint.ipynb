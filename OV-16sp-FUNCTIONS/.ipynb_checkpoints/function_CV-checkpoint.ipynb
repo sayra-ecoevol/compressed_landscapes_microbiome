{
 "cells": [
  {
   "cell_type": "code",
   "execution_count": null,
   "id": "16987e68-33a3-479b-963b-1e815909b909",
   "metadata": {},
   "outputs": [],
   "source": [
    "import pandas as pd\n",
    "import numpy as np\n",
    "import cvxpy as cvx\n",
    "import random\n",
    "import time\n",
    "from __future__ import print_function\n",
    "from builtins import input\n",
    "\n",
    "\n",
    "from sporco.admm import bpdn\n",
    "### using the ADMM algorithm \n",
    "### we can also use the PGM algorithm \n",
    "from sporco import util\n",
    "from sporco import plot\n",
    "plot.config_notebook_plotting()\n",
    "\n",
    "from scipy.linalg import hadamard\n",
    "\n",
    "import matplotlib.pyplot as plt\n",
    "\n",
    "from sklearn.model_selection import LeaveOneOut\n",
    "from sklearn.model_selection import KFold\n",
    "\n",
    "import time \n",
    "from scipy import stats\n",
    "from matplotlib import pyplot\n",
    "iHiV = pd.read_pickle(\"~/bge-analysis-simv3/iHiV.pkl\")\n",
    "B = pd.read_pickle(\"~/bge-analysis-simv3/B.pkl\")\n",
    "\n",
    "\n",
    "import warnings\n",
    "warnings.filterwarnings(\"ignore\")"
   ]
  },
  {
   "cell_type": "code",
   "execution_count": null,
   "id": "01bf6f21-13b6-4207-96f9-84381b081cdf",
   "metadata": {},
   "outputs": [],
   "source": [
    "X = pd.read_pickle(\"~/bge-analysis-simv3/X16.pkl\")"
   ]
  },
  {
   "cell_type": "code",
   "execution_count": null,
   "id": "188435a6-5204-4b0c-b6c8-25fae2276a6d",
   "metadata": {},
   "outputs": [],
   "source": [
    "from sklearn.metrics import r2_score"
   ]
  },
  {
   "cell_type": "code",
   "execution_count": null,
   "id": "843f114a-134e-4c70-8366-4b891f2477e6",
   "metadata": {},
   "outputs": [],
   "source": [
    "labdl = np.round(np.logspace(-5,0.8,5),5)\n",
    "lam = list(labdl)\n",
    "lam.append([7.0,9.0,10.0,15.0,20.0])\n",
    "lamf = list(pd.DataFrame(lam)[0].explode().values)\n",
    "lamf.sort()"
   ]
  },
  {
   "cell_type": "code",
   "execution_count": null,
   "id": "cd975b45-4a4f-4ef4-9b01-b750bf42e5f3",
   "metadata": {},
   "outputs": [],
   "source": [
    "lamf"
   ]
  },
  {
   "cell_type": "code",
   "execution_count": null,
   "id": "5b206765-2e06-4c5d-ad18-398c53b0ddae",
   "metadata": {},
   "outputs": [],
   "source": [
    "n = 2**16\n",
    "random_state = None\n",
    "laml = lamf"
   ]
  },
  {
   "cell_type": "code",
   "execution_count": null,
   "id": "618d33f0-22e8-49f5-9e7b-942047ad1aa5",
   "metadata": {},
   "outputs": [],
   "source": [
    "opt = bpdn.BPDN.Options({'Verbose': False, 'MaxMainIter': 500,\n",
    "                         'RelStopTol': 1e-8, 'AutoRho': {'RsdlTarget': 1.0}})"
   ]
  },
  {
   "cell_type": "code",
   "execution_count": null,
   "id": "8696082d-8776-41be-bb68-027abc6faab5",
   "metadata": {},
   "outputs": [],
   "source": [
    "sst_redv1 = pd.read_pickle(\"~/compressed_sensingv1/realdatasets/OV-16sp-FUNCTIONS/16-list1-allmetabols.pkl\")\n"
   ]
  },
  {
   "cell_type": "code",
   "execution_count": 30,
   "id": "1a060665-7f0d-4369-b111-532399b69cf1",
   "metadata": {},
   "outputs": [
    {
     "data": {
      "text/plain": [
       "['succinate']"
      ]
     },
     "execution_count": 30,
     "metadata": {},
     "output_type": "execute_result"
    }
   ],
   "source": [
    "metabolite_list = [\"butyrate\"]"
   ]
  },
  {
   "cell_type": "code",
   "execution_count": null,
   "id": "de652bb7-d3e6-496f-bb36-cfd3b029a750",
   "metadata": {},
   "outputs": [],
   "source": [
    "whper = [] \n",
    "linper = [] \n",
    "for metabol in metabolite_list: \n",
    "    datab = sst_redv1[str(metabol)]\n",
    "    databdf = pd.DataFrame(datab)\n",
    "    datap = list(databdf.index)\n",
    "    for runs in range(4):\n",
    "        for cv_splits in [3,5]:\n",
    "            xs = list(datap)\n",
    "            random.shuffle(xs)\n",
    "            data_present = np.array(xs)\n",
    "            kf = KFold(n_splits=cv_splits)\n",
    "            kf.get_n_splits(data_present)\n",
    "            KFold(n_splits=cv_splits, random_state=random_state, shuffle=True)\n",
    "            for lmda in laml:\n",
    "                for train_index, test_index in kf.split(data_present):\n",
    "                    X_train, X_test = data_present[train_index], data_present[test_index]\n",
    "                    rinew = list(X_train)\n",
    "                    rileft = list(X_test)\n",
    "                    D = iHiV[rinew,:]\n",
    "                    y2 = databdf.T[rinew].T.values\n",
    "                    yact = databdf.T[rileft].T.values\n",
    "                    s3 = y2 \n",
    "                    b = bpdn.BPDN(D, s3, lmda, opt)\n",
    "                    x = b.solve()\n",
    "                    yrecon = np.dot(iHiV,x.ravel())\n",
    "                    whper.append([runs,lmda,str(metabol),yrecon[rileft],yact,rileft,rinew,cv_splits,len(rileft),len(rinew)])\n",
    "                    D = X[rinew,:]\n",
    "                    y2 = databdf.T[rinew].T.values\n",
    "                    s3 = y2 \n",
    "                    b = bpdn.BPDN(D, s3, lmda, opt)\n",
    "                    x = b.solve()\n",
    "                    yrecon = np.dot(X,x.ravel())\n",
    "                    linper.append([runs,lmda,str(metabol),yrecon[rileft],yact,rileft,rinew,cv_splits,len(rileft),len(rinew)])\n",
    "                    #print(runs,lamf)"
   ]
  },
  {
   "cell_type": "code",
   "execution_count": null,
   "id": "41d4739f-6086-40e7-8cae-45f447bbe3e6",
   "metadata": {},
   "outputs": [],
   "source": [
    "whdf  = pd.DataFrame(whper)\n",
    "lindf = pd.DataFrame(linper)\n",
    "pd.to_pickle(whdf,\"3n5_cv_WH\"+str(metabol)+\".pkl\")\n",
    "pd.to_pickle(lindf,\"3n5_cv_l1\"+str(metabol)+\".pkl\")"
   ]
  },
  {
   "cell_type": "code",
   "execution_count": 27,
   "id": "8662259f-4e15-427c-a407-8cbdbb56eaac",
   "metadata": {},
   "outputs": [],
   "source": [
    "whdf  = pd.DataFrame(whper)\n",
    "lindf = pd.DataFrame(linper)"
   ]
  },
  {
   "cell_type": "code",
   "execution_count": null,
   "id": "796e2877-2779-41aa-b2de-c0802661a9f3",
   "metadata": {},
   "outputs": [],
   "source": []
  }
 ],
 "metadata": {
  "kernelspec": {
   "display_name": "Python 3 (ipykernel)",
   "language": "python",
   "name": "python3"
  },
  "language_info": {
   "codemirror_mode": {
    "name": "ipython",
    "version": 3
   },
   "file_extension": ".py",
   "mimetype": "text/x-python",
   "name": "python",
   "nbconvert_exporter": "python",
   "pygments_lexer": "ipython3",
   "version": "3.9.11"
  }
 },
 "nbformat": 4,
 "nbformat_minor": 5
}
