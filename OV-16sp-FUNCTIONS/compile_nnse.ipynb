{
 "cells": [
  {
   "cell_type": "code",
   "execution_count": 91,
   "id": "b68ed343-a25d-498e-bfa3-d98b0ccd2a43",
   "metadata": {},
   "outputs": [],
   "source": [
    "import pandas as pd\n",
    "import numpy as np\n",
    "import seaborn as sns"
   ]
  },
  {
   "cell_type": "code",
   "execution_count": 92,
   "id": "d8547e32-81b6-45be-8384-934c3dc60206",
   "metadata": {},
   "outputs": [],
   "source": [
    "import scipy as sp"
   ]
  },
  {
   "cell_type": "code",
   "execution_count": 125,
   "id": "9e263136-75d3-46fd-b63b-896053f630d0",
   "metadata": {},
   "outputs": [],
   "source": [
    "cvchoose = 10"
   ]
  },
  {
   "cell_type": "code",
   "execution_count": 126,
   "id": "4e5ac418-831e-496c-9b17-a20efc9089a6",
   "metadata": {},
   "outputs": [
    {
     "data": {
      "text/html": [
       "<div>\n",
       "<style scoped>\n",
       "    .dataframe tbody tr th:only-of-type {\n",
       "        vertical-align: middle;\n",
       "    }\n",
       "\n",
       "    .dataframe tbody tr th {\n",
       "        vertical-align: top;\n",
       "    }\n",
       "\n",
       "    .dataframe thead th {\n",
       "        text-align: right;\n",
       "    }\n",
       "</style>\n",
       "<table border=\"1\" class=\"dataframe\">\n",
       "  <thead>\n",
       "    <tr style=\"text-align: right;\">\n",
       "      <th></th>\n",
       "      <th>0</th>\n",
       "      <th>1</th>\n",
       "      <th>2</th>\n",
       "      <th>3</th>\n",
       "      <th>4</th>\n",
       "      <th>5</th>\n",
       "    </tr>\n",
       "  </thead>\n",
       "  <tbody>\n",
       "    <tr>\n",
       "      <th>3</th>\n",
       "      <td>10</td>\n",
       "      <td>butyrate</td>\n",
       "      <td>0.850405</td>\n",
       "      <td>0.004970</td>\n",
       "      <td>6.30957</td>\n",
       "      <td>2</td>\n",
       "    </tr>\n",
       "    <tr>\n",
       "      <th>7</th>\n",
       "      <td>10</td>\n",
       "      <td>acetate</td>\n",
       "      <td>0.561097</td>\n",
       "      <td>0.024259</td>\n",
       "      <td>20.00000</td>\n",
       "      <td>3</td>\n",
       "    </tr>\n",
       "    <tr>\n",
       "      <th>11</th>\n",
       "      <td>10</td>\n",
       "      <td>lactate</td>\n",
       "      <td>0.784109</td>\n",
       "      <td>0.004940</td>\n",
       "      <td>7.00000</td>\n",
       "      <td>1</td>\n",
       "    </tr>\n",
       "    <tr>\n",
       "      <th>15</th>\n",
       "      <td>10</td>\n",
       "      <td>succinate</td>\n",
       "      <td>0.824445</td>\n",
       "      <td>0.005320</td>\n",
       "      <td>6.30957</td>\n",
       "      <td>2</td>\n",
       "    </tr>\n",
       "  </tbody>\n",
       "</table>\n",
       "</div>"
      ],
      "text/plain": [
       "     0          1         2         3         4  5\n",
       "3   10   butyrate  0.850405  0.004970   6.30957  2\n",
       "7   10    acetate  0.561097  0.024259  20.00000  3\n",
       "11  10    lactate  0.784109  0.004940   7.00000  1\n",
       "15  10  succinate  0.824445  0.005320   6.30957  2"
      ]
     },
     "execution_count": 126,
     "metadata": {},
     "output_type": "execute_result"
    }
   ],
   "source": [
    "r1 = pd.read_pickle(\"WH_OV_functions.pkl\")\n",
    "wh = r1[r1[0]==cvchoose]\n",
    "wh"
   ]
  },
  {
   "cell_type": "code",
   "execution_count": 127,
   "id": "a506d100-d9fc-446c-a120-b2c1f00d9f73",
   "metadata": {},
   "outputs": [
    {
     "data": {
      "text/html": [
       "<div>\n",
       "<style scoped>\n",
       "    .dataframe tbody tr th:only-of-type {\n",
       "        vertical-align: middle;\n",
       "    }\n",
       "\n",
       "    .dataframe tbody tr th {\n",
       "        vertical-align: top;\n",
       "    }\n",
       "\n",
       "    .dataframe thead th {\n",
       "        text-align: right;\n",
       "    }\n",
       "</style>\n",
       "<table border=\"1\" class=\"dataframe\">\n",
       "  <thead>\n",
       "    <tr style=\"text-align: right;\">\n",
       "      <th></th>\n",
       "      <th>0</th>\n",
       "      <th>1</th>\n",
       "      <th>2</th>\n",
       "      <th>3</th>\n",
       "      <th>4</th>\n",
       "      <th>5</th>\n",
       "    </tr>\n",
       "  </thead>\n",
       "  <tbody>\n",
       "    <tr>\n",
       "      <th>3</th>\n",
       "      <td>10</td>\n",
       "      <td>butyrate</td>\n",
       "      <td>0.832181</td>\n",
       "      <td>0.006277</td>\n",
       "      <td>6.30957</td>\n",
       "      <td>1</td>\n",
       "    </tr>\n",
       "    <tr>\n",
       "      <th>7</th>\n",
       "      <td>10</td>\n",
       "      <td>acetate</td>\n",
       "      <td>0.550042</td>\n",
       "      <td>0.016939</td>\n",
       "      <td>20.00000</td>\n",
       "      <td>3</td>\n",
       "    </tr>\n",
       "    <tr>\n",
       "      <th>11</th>\n",
       "      <td>10</td>\n",
       "      <td>lactate</td>\n",
       "      <td>0.759782</td>\n",
       "      <td>0.003459</td>\n",
       "      <td>7.00000</td>\n",
       "      <td>2</td>\n",
       "    </tr>\n",
       "    <tr>\n",
       "      <th>15</th>\n",
       "      <td>10</td>\n",
       "      <td>succinate</td>\n",
       "      <td>0.803097</td>\n",
       "      <td>0.007151</td>\n",
       "      <td>6.30957</td>\n",
       "      <td>2</td>\n",
       "    </tr>\n",
       "  </tbody>\n",
       "</table>\n",
       "</div>"
      ],
      "text/plain": [
       "     0          1         2         3         4  5\n",
       "3   10   butyrate  0.832181  0.006277   6.30957  1\n",
       "7   10    acetate  0.550042  0.016939  20.00000  3\n",
       "11  10    lactate  0.759782  0.003459   7.00000  2\n",
       "15  10  succinate  0.803097  0.007151   6.30957  2"
      ]
     },
     "execution_count": 127,
     "metadata": {},
     "output_type": "execute_result"
    }
   ],
   "source": [
    "r2 = pd.read_pickle(\"l1_OV_functions.pkl\")\n",
    "l1 =  r2[r2[0]==cvchoose]\n",
    "l1"
   ]
  },
  {
   "cell_type": "code",
   "execution_count": 128,
   "id": "4438e152-04c3-4ac7-af00-235a6e0ee76c",
   "metadata": {},
   "outputs": [],
   "source": [
    "r3 = pd.read_pickle(\"RF-OVfunctionsavg.pkl\")"
   ]
  },
  {
   "cell_type": "code",
   "execution_count": 129,
   "id": "9cfabb9b-531a-4b19-a462-c586b914890d",
   "metadata": {},
   "outputs": [],
   "source": [
    "rf = r3[r3[0]==cvchoose]"
   ]
  },
  {
   "cell_type": "code",
   "execution_count": 130,
   "id": "a5927ba7-9607-4e9a-a6e4-83d3bcca2ad0",
   "metadata": {},
   "outputs": [
    {
     "name": "stderr",
     "output_type": "stream",
     "text": [
      "/tmp/ipykernel_838333/2455551138.py:1: SettingWithCopyWarning: \n",
      "A value is trying to be set on a copy of a slice from a DataFrame.\n",
      "Try using .loc[row_indexer,col_indexer] = value instead\n",
      "\n",
      "See the caveats in the documentation: https://pandas.pydata.org/pandas-docs/stable/user_guide/indexing.html#returning-a-view-versus-a-copy\n",
      "  wh[\"l1\"] = l1[2].values\n",
      "/tmp/ipykernel_838333/2455551138.py:2: SettingWithCopyWarning: \n",
      "A value is trying to be set on a copy of a slice from a DataFrame.\n",
      "Try using .loc[row_indexer,col_indexer] = value instead\n",
      "\n",
      "See the caveats in the documentation: https://pandas.pydata.org/pandas-docs/stable/user_guide/indexing.html#returning-a-view-versus-a-copy\n",
      "  wh[\"l1std\"] = l1[3].values\n",
      "/tmp/ipykernel_838333/2455551138.py:3: SettingWithCopyWarning: \n",
      "A value is trying to be set on a copy of a slice from a DataFrame.\n",
      "Try using .loc[row_indexer,col_indexer] = value instead\n",
      "\n",
      "See the caveats in the documentation: https://pandas.pydata.org/pandas-docs/stable/user_guide/indexing.html#returning-a-view-versus-a-copy\n",
      "  wh[\"rf\"] = rf[2].values\n",
      "/tmp/ipykernel_838333/2455551138.py:4: SettingWithCopyWarning: \n",
      "A value is trying to be set on a copy of a slice from a DataFrame.\n",
      "Try using .loc[row_indexer,col_indexer] = value instead\n",
      "\n",
      "See the caveats in the documentation: https://pandas.pydata.org/pandas-docs/stable/user_guide/indexing.html#returning-a-view-versus-a-copy\n",
      "  wh[\"rfstd\"] = rf[3].values\n"
     ]
    }
   ],
   "source": [
    "wh[\"l1\"] = l1[2].values\n",
    "wh[\"l1std\"] = l1[3].values\n",
    "wh[\"rf\"] = rf[2].values\n",
    "wh[\"rfstd\"] = rf[3].values"
   ]
  },
  {
   "cell_type": "code",
   "execution_count": 131,
   "id": "d0484fa4-a93f-4496-98e5-5e7fcf55fb26",
   "metadata": {},
   "outputs": [],
   "source": [
    "pd.to_pickle(wh,\"10cv_nnse.pkl\")"
   ]
  },
  {
   "cell_type": "code",
   "execution_count": 132,
   "id": "b351c4e7-6372-4e2b-9a4a-8e928c6be861",
   "metadata": {},
   "outputs": [
    {
     "data": {
      "text/html": [
       "<div>\n",
       "<style scoped>\n",
       "    .dataframe tbody tr th:only-of-type {\n",
       "        vertical-align: middle;\n",
       "    }\n",
       "\n",
       "    .dataframe tbody tr th {\n",
       "        vertical-align: top;\n",
       "    }\n",
       "\n",
       "    .dataframe thead th {\n",
       "        text-align: right;\n",
       "    }\n",
       "</style>\n",
       "<table border=\"1\" class=\"dataframe\">\n",
       "  <thead>\n",
       "    <tr style=\"text-align: right;\">\n",
       "      <th></th>\n",
       "      <th>0</th>\n",
       "      <th>1</th>\n",
       "      <th>2</th>\n",
       "      <th>3</th>\n",
       "      <th>4</th>\n",
       "      <th>5</th>\n",
       "      <th>l1</th>\n",
       "      <th>l1std</th>\n",
       "      <th>rf</th>\n",
       "      <th>rfstd</th>\n",
       "    </tr>\n",
       "  </thead>\n",
       "  <tbody>\n",
       "    <tr>\n",
       "      <th>3</th>\n",
       "      <td>10</td>\n",
       "      <td>butyrate</td>\n",
       "      <td>0.850405</td>\n",
       "      <td>0.004970</td>\n",
       "      <td>6.30957</td>\n",
       "      <td>2</td>\n",
       "      <td>0.832181</td>\n",
       "      <td>0.006277</td>\n",
       "      <td>0.831327</td>\n",
       "      <td>0.004412</td>\n",
       "    </tr>\n",
       "    <tr>\n",
       "      <th>7</th>\n",
       "      <td>10</td>\n",
       "      <td>acetate</td>\n",
       "      <td>0.561097</td>\n",
       "      <td>0.024259</td>\n",
       "      <td>20.00000</td>\n",
       "      <td>3</td>\n",
       "      <td>0.550042</td>\n",
       "      <td>0.016939</td>\n",
       "      <td>0.545946</td>\n",
       "      <td>0.008934</td>\n",
       "    </tr>\n",
       "    <tr>\n",
       "      <th>11</th>\n",
       "      <td>10</td>\n",
       "      <td>lactate</td>\n",
       "      <td>0.784109</td>\n",
       "      <td>0.004940</td>\n",
       "      <td>7.00000</td>\n",
       "      <td>1</td>\n",
       "      <td>0.759782</td>\n",
       "      <td>0.003459</td>\n",
       "      <td>0.752763</td>\n",
       "      <td>0.004914</td>\n",
       "    </tr>\n",
       "    <tr>\n",
       "      <th>15</th>\n",
       "      <td>10</td>\n",
       "      <td>succinate</td>\n",
       "      <td>0.824445</td>\n",
       "      <td>0.005320</td>\n",
       "      <td>6.30957</td>\n",
       "      <td>2</td>\n",
       "      <td>0.803097</td>\n",
       "      <td>0.007151</td>\n",
       "      <td>0.815864</td>\n",
       "      <td>0.005366</td>\n",
       "    </tr>\n",
       "  </tbody>\n",
       "</table>\n",
       "</div>"
      ],
      "text/plain": [
       "     0          1         2         3         4  5        l1     l1std  \\\n",
       "3   10   butyrate  0.850405  0.004970   6.30957  2  0.832181  0.006277   \n",
       "7   10    acetate  0.561097  0.024259  20.00000  3  0.550042  0.016939   \n",
       "11  10    lactate  0.784109  0.004940   7.00000  1  0.759782  0.003459   \n",
       "15  10  succinate  0.824445  0.005320   6.30957  2  0.803097  0.007151   \n",
       "\n",
       "          rf     rfstd  \n",
       "3   0.831327  0.004412  \n",
       "7   0.545946  0.008934  \n",
       "11  0.752763  0.004914  \n",
       "15  0.815864  0.005366  "
      ]
     },
     "execution_count": 132,
     "metadata": {},
     "output_type": "execute_result"
    }
   ],
   "source": [
    "pd.read_pickle(\"10cv_nnse.pkl\")"
   ]
  },
  {
   "cell_type": "code",
   "execution_count": null,
   "id": "99799f51-1cbd-404f-93aa-0ca2960686dc",
   "metadata": {},
   "outputs": [],
   "source": []
  }
 ],
 "metadata": {
  "kernelspec": {
   "display_name": "Python 3 (ipykernel)",
   "language": "python",
   "name": "python3"
  },
  "language_info": {
   "codemirror_mode": {
    "name": "ipython",
    "version": 3
   },
   "file_extension": ".py",
   "mimetype": "text/x-python",
   "name": "python",
   "nbconvert_exporter": "python",
   "pygments_lexer": "ipython3",
   "version": "3.9.11"
  }
 },
 "nbformat": 4,
 "nbformat_minor": 5
}
