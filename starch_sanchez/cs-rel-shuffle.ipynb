{
 "cells": [
  {
   "cell_type": "code",
   "execution_count": 1,
   "id": "d7ce90c6-7ae6-4406-8278-7d671e954aa1",
   "metadata": {
    "tags": []
   },
   "outputs": [],
   "source": [
    "import pandas as pd\n",
    "import numpy as np\n",
    "import cvxpy as cvx\n",
    "import random\n",
    "import time\n",
    "from __future__ import print_function\n",
    "from builtins import input\n",
    "\n",
    "from sporco.admm import bpdn\n",
    "from sporco import util\n",
    "from sporco import plot\n",
    "plot.config_notebook_plotting()\n",
    "\n",
    "from sklearn.model_selection import LeaveOneOut\n",
    "from sklearn.model_selection import KFold\n",
    "\n",
    "from scipy import stats\n",
    "from scipy.stats import spearmanr\n",
    "\n",
    "import warnings\n",
    "warnings.filterwarnings(\"ignore\")\n",
    "\n",
    "\n",
    "\n",
    "table = pd.read_pickle(\"~/compressed_sensingv1/realdatasets/misc/starch-sanchez-v3/matrices/A6.pkl\")\n",
    "iHiVred = pd.read_pickle(\"~/compressed_sensingv1/realdatasets/misc/starch-sanchez-v3/matrices/iHiV5.pkl\")\n",
    "iHiV = pd.read_pickle(\"~/compressed_sensingv1/realdatasets/misc/starch-sanchez-v3/matrices/iHiV6.pkl\")\n",
    "VHred = pd.read_pickle(\"~/compressed_sensingv1/realdatasets/misc/starch-sanchez-v3/matrices/VH4.pkl\")\n",
    "tableg = table.T\n",
    "\n",
    "B = pd.read_pickle(\"~/compressed_sensingv1/realdatasets/misc/starch-sanchez-v3/matrices/B6.pkl\")\n",
    "Bdf = pd.DataFrame(B)\n",
    "\n",
    "VH = pd.read_pickle(\"~/compressed_sensingv1/realdatasets/misc/starch-sanchez-v3/matrices/VH6.pkl\")\n",
    "tableg = table.T\n",
    "species_ones = [] \n",
    "for i in range(6):\n",
    "    species = i\n",
    "    species_ones.append(list(tableg[tableg[species]==1].index))\n",
    "    \n",
    "    \n",
    "species_zeros = []\n",
    "for i in range(6):\n",
    "    species = i\n",
    "    species_zeros.append(list(tableg[tableg[species]==0].index))                                                                                                                                                                                                                                                                                                                                                                                                                                                                                                                                                                                                                                                                                                                                                                                                                                                                                                                                                                                                                                                                                                                                                                                                                                                                                                                                                                                                                                                                                                                                                                                                                                                                                                                                                                       \n"
   ]
  },
  {
   "cell_type": "code",
   "execution_count": 2,
   "id": "8df7225a-daf4-4485-922b-3ccf93d0dd66",
   "metadata": {},
   "outputs": [
    {
     "data": {
      "text/plain": [
       "(32, 32)"
      ]
     },
     "execution_count": 2,
     "metadata": {},
     "output_type": "execute_result"
    }
   ],
   "source": [
    "iHiVred.shape"
   ]
  },
  {
   "cell_type": "code",
   "execution_count": 3,
   "id": "20a997eb-1db9-441c-a4e6-d8d8239d221d",
   "metadata": {},
   "outputs": [],
   "source": [
    "laml = [1e-30,100e-30,1e-20,1e-10,1e-5,.01,.05,.06,.0650,.0675,.07,0.08,0.1,0.13,0.15,0.18,0.2,0.5,1.0,5.0,10.0]\n",
    "from sklearn.metrics import r2_score\n",
    "from sklearn.metrics import mean_absolute_percentage_error as mape\n",
    "g = np.array([[1, 0], [-1, 1]])\n",
    "\n",
    "for i in range(4):\n",
    "    g = np.block([[g, np.zeros(g.shape)], [-g, g]])\n",
    "\n",
    "Gred = g\n",
    "Xred = np.linalg.inv(Gred)\n",
    "\n",
    "import matplotlib.font_manager as fm\n",
    " \n",
    "gs_font = fm.FontProperties(fname='gillsans.ttf', size=15, weight='bold')\n",
    "light_grey=(0.5,0.5,0.5)\n",
    "\n",
    "\n",
    "import matplotlib.patches as mpatches"
   ]
  },
  {
   "cell_type": "code",
   "execution_count": 4,
   "id": "0ff094b5-5b5a-44cb-8e9e-5b80c9a151a7",
   "metadata": {},
   "outputs": [
    {
     "data": {
      "text/plain": [
       "(32, 32)"
      ]
     },
     "execution_count": 4,
     "metadata": {},
     "output_type": "execute_result"
    }
   ],
   "source": [
    "Xred.shape"
   ]
  },
  {
   "cell_type": "code",
   "execution_count": 5,
   "id": "ffc30394-7bce-498e-bdd5-6de8c1c6527f",
   "metadata": {},
   "outputs": [],
   "source": [
    "sp_list_provided = [\"C\",\"E\",\"M\",\"P\",\"S\",\"T\"]\n",
    "\n",
    "#### get all data -- design matrix, steady state abundances, and list of wells present\n",
    "\n",
    "opt = bpdn.BPDN.Options({'Verbose': False, 'MaxMainIter': 1000,\n",
    "                         'RelStopTol': 1e-10, 'AutoRho': {'RsdlTarget': 1.0}})\n",
    "\n",
    "### hyperparameter values in LASSO \n",
    "n = 2**6\n",
    "random_state = 33\n",
    "cv_splitsl = [3,5]"
   ]
  },
  {
   "cell_type": "code",
   "execution_count": 6,
   "id": "ad6c016a-f28a-43b9-b9dc-f51852af4174",
   "metadata": {},
   "outputs": [],
   "source": [
    "sstv3 = pd.read_pickle(\"starch-sanchez-relative.pkl\")"
   ]
  },
  {
   "cell_type": "code",
   "execution_count": 7,
   "id": "fe35a095-bad9-42c3-88b5-f886c0c92a53",
   "metadata": {},
   "outputs": [],
   "source": [
    "wellsp = list(sstv3.index)"
   ]
  },
  {
   "cell_type": "code",
   "execution_count": 8,
   "id": "4073817f-adfd-4cd2-b678-6876f9d3ceca",
   "metadata": {},
   "outputs": [],
   "source": [
    "dataTR = pd.read_pickle(\"traindataRELss.pkl\")\n",
    "dataTE = pd.read_pickle(\"testdataRELss.pkl\")"
   ]
  },
  {
   "cell_type": "code",
   "execution_count": 9,
   "id": "f8fe0934-6067-4a1f-81c8-2edc91872ba9",
   "metadata": {},
   "outputs": [],
   "source": [
    "list_present = wellsp\n",
    "err = []\n",
    "errlin = [] \n",
    "for cv_splits in cv_splitsl: \n",
    "    datatrain = dataTR[dataTR[\"k-fold\"]==cv_splits]\n",
    "    datatest = dataTE[dataTE[\"k-fold\"]==cv_splits]\n",
    "    for speciesc in range(6):\n",
    "        datatousetrain = datatrain[datatrain[\"species\"]==speciesc]\n",
    "        datatousetest = datatest[datatest[\"species\"]==speciesc]\n",
    "        df2 = pd.DataFrame(species_ones[speciesc])\n",
    "        idxlist = list(df2[0].values)\n",
    "        abunvec = pd.DataFrame(sstv3[sp_list_provided[speciesc]][list(set(wellsp).intersection(species_ones[speciesc]))])\n",
    "        pp = list(abunvec.index)\n",
    "        redlist = []\n",
    "        for kk in pp:\n",
    "            redlist.append(idxlist.index(kk))\n",
    "        abunvec.index = redlist\n",
    "        for lmda in laml:\n",
    "            for iterii in range(cv_splits):\n",
    "                rinew = datatousetrain[datatousetrain[\"fold number\"]==iterii][\"train data\"].values[0]\n",
    "                rileft = datatousetest[datatousetest[\"fold number\"]==iterii][\"test data\"].values[0]\n",
    "                y3 = abunvec.T[rinew].T[sp_list_provided[speciesc]].values                                                                                                                                                                                                                                                                                                                                                                                                                                                                                                                                                                                                                                                                                                                                                                                                                                                                                                                                                                                                                                                                                                                                                                                                                                                                                                                                                                                                                                                                                                                                                                                                                                                                                                                                                                                                                                                                                                                                                                                                                                                                                                                                                                                                                                                                                                                                                                                                                                                                                                                                                                                                                                                                                                                                                                                                                                                                                                                                                                                                                                                                                                                                                                                                                                                                                                                                                                                                                                                                                                                                                                                                                                                                                                                                                                                                                                                                                                                                                                                                                                                                                                                                                                                                                                                                                                                                                                                                                                                                                                                                                                                                                                                                                                                                                                                                                                                                                                                                                                                                                                                                                                                                                                                                                                                                                                                                                                                                                                                                                                                                                                                                                                                                                                                                                                                                                                                                                                                                                                                                                                                                                                                                                                                                                                                                                                                                                                                                                                                                                                                                                                                                                                                                                                                                                                                                                                                                                                                                                                                                                        \n",
    "                D = iHiVred[rinew,:]\n",
    "                s2 = np.asarray([y3]).astype(float)\n",
    "                s3 = s2.T\n",
    "                b = bpdn.BPDN(D, s3, lmda, opt)\n",
    "                x = b.solve()\n",
    "                yrecon = np.dot(iHiVred,x.ravel())\n",
    "                err.append([lmda,speciesc,yrecon[rileft],rileft,rinew,cv_splits])\n",
    "                y3 = abunvec.T[rinew].T[sp_list_provided[speciesc]].values                                                                                                                                                                                                                                                                                                                                                                                                                                                                                                                                                                                                                                                                                                                                                                                                                                                                                                                                                                                                                                                                                                                                                                                                                                                                                                                                                                                                                                                                                                                                                                                                                                                                                                                                                                                                                                                                                                                                                                                                                                                                                                                                                                                                                                                                                                                                                                                                                                                                                                                                                                                                                                                                                                                                                                                                                                                                                                                                                                                                                                                                                                                                                                                                                                                                                                                                                                                                                                                                                                                                                                                                                                                                                                                                                                                                                                                                                                                                                                                                                                                                                                                                                                                                                                                                                                                                                                                                                                                                                                                                                                                                                                                                                                                                                                                                                                                                                                                                                                                                                                                                                                                                                                                                                                                                                                                                                                                                                                                                                                                                                                                                                                                                                                                                                                                                                                                                                                                                                                                                                                                                                                                                                                                                                                                                                                                                                                                                                                                                                                                                                                                                                                                                                                                                                                                                                                                                                                                                                                                                                        \n",
    "                D = Xred[rinew,:]\n",
    "                s2 = np.asarray([y3]).astype(float)\n",
    "                s3 = s2.T\n",
    "                b = bpdn.BPDN(D, s3, lmda, opt)\n",
    "                x = b.solve()\n",
    "                yrecon = np.dot(Xred,x.ravel())\n",
    "                errlin.append([lmda,speciesc,yrecon[rileft],rileft,rinew,cv_splits])\n"
   ]
  },
  {
   "cell_type": "code",
   "execution_count": 10,
   "id": "4b7792b4-b305-49b3-83ac-597a55040982",
   "metadata": {},
   "outputs": [],
   "source": [
    "errdf= pd.DataFrame(err)\n",
    "errlindf = pd.DataFrame(errlin)\n",
    "\n",
    "\n",
    "errdf.to_pickle(\"rel_CS_WH.pkl\")\n",
    "errlindf.to_pickle(\"rel_CS_sigma.pkl\")"
   ]
  },
  {
   "cell_type": "code",
   "execution_count": null,
   "id": "ef9ae6a0-7219-4e9c-951a-9daee0b59654",
   "metadata": {},
   "outputs": [],
   "source": []
  }
 ],
 "metadata": {
  "kernelspec": {
   "display_name": "Python 3 (ipykernel)",
   "language": "python",
   "name": "python3"
  },
  "language_info": {
   "codemirror_mode": {
    "name": "ipython",
    "version": 3
   },
   "file_extension": ".py",
   "mimetype": "text/x-python",
   "name": "python",
   "nbconvert_exporter": "python",
   "pygments_lexer": "ipython3",
   "version": "3.9.11"
  }
 },
 "nbformat": 4,
 "nbformat_minor": 5
}
