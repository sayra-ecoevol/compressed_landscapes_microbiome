{
 "cells": [
  {
   "cell_type": "code",
   "execution_count": 1,
   "id": "5fa95953-3403-4d58-9483-8196d25b1d79",
   "metadata": {},
   "outputs": [],
   "source": [
    "#### relative data, where the replicates were considered, their OD relative ratio taken and the mean evaluated\n",
    "#### modification : remove wells that correspond to high variability and bistability (three such wells)\n",
    "\n",
    "#### generate permanent data for test-train split"
   ]
  },
  {
   "cell_type": "code",
   "execution_count": 2,
   "id": "31f4ddcc-d216-4501-a201-4d8df5341ec2",
   "metadata": {},
   "outputs": [],
   "source": [
    "import pandas as pd\n",
    "import numpy as np\n",
    "import random\n",
    "\n",
    "\n",
    "from scipy.linalg import hadamard\n",
    "\n",
    "import matplotlib.pyplot as plt\n",
    "\n",
    "from sklearn.model_selection import LeaveOneOut\n",
    "from sklearn.model_selection import KFold\n",
    "\n",
    "from scipy import stats\n",
    "from matplotlib import pyplot\n",
    "from scipy.stats import spearmanr\n",
    "\n",
    "import warnings\n",
    "warnings.filterwarnings(\"ignore\")\n",
    "\n",
    "table = pd.read_pickle(\"~/compressed_sensingv1/realdatasets/misc/Friedman-v3/A8.pkl\")\n",
    "tableg = table.T\n",
    "B = pd.read_pickle(\"~/compressed_sensingv1/realdatasets/misc/Friedman-v3/B8.pkl\")\n",
    "\n",
    "Bdf = pd.DataFrame(B)\n",
    "\n",
    "species_ones = [] \n",
    "for i in range(8):\n",
    "    species = i\n",
    "    species_ones.append(list(tableg[tableg[species]==1].index))\n",
    "    \n",
    "    \n",
    "species_zeros = []\n",
    "for i in range(8):\n",
    "    species = i\n",
    "    species_zeros.append(list(tableg[tableg[species]==0].index))                                                                                                                                                                                                                                                                                                                                                                                                                                                                                                                                                                                                                                                                                                                                                                                                                                                                                                                                                                                                                                                                                                                                                                                                                                                                                                                                                                                                                                                                                                                                                                                                                                                                                                                                                                       \n",
    "\n"
   ]
  },
  {
   "cell_type": "code",
   "execution_count": 3,
   "id": "c9e6a35a-ee44-4262-9eaf-74534c7da03c",
   "metadata": {},
   "outputs": [
    {
     "data": {
      "text/html": [
       "<div>\n",
       "<style scoped>\n",
       "    .dataframe tbody tr th:only-of-type {\n",
       "        vertical-align: middle;\n",
       "    }\n",
       "\n",
       "    .dataframe tbody tr th {\n",
       "        vertical-align: top;\n",
       "    }\n",
       "\n",
       "    .dataframe thead th {\n",
       "        text-align: right;\n",
       "    }\n",
       "</style>\n",
       "<table border=\"1\" class=\"dataframe\">\n",
       "  <thead>\n",
       "    <tr style=\"text-align: right;\">\n",
       "      <th></th>\n",
       "      <th>0</th>\n",
       "      <th>1</th>\n",
       "      <th>2</th>\n",
       "      <th>3</th>\n",
       "      <th>4</th>\n",
       "      <th>5</th>\n",
       "      <th>6</th>\n",
       "      <th>7</th>\n",
       "      <th>well index</th>\n",
       "    </tr>\n",
       "  </thead>\n",
       "  <tbody>\n",
       "    <tr>\n",
       "      <th>0</th>\n",
       "      <td>0.0</td>\n",
       "      <td>0.0</td>\n",
       "      <td>0.0</td>\n",
       "      <td>0.0</td>\n",
       "      <td>0.0</td>\n",
       "      <td>0.0</td>\n",
       "      <td>0.0</td>\n",
       "      <td>0.0</td>\n",
       "      <td>0</td>\n",
       "    </tr>\n",
       "    <tr>\n",
       "      <th>1</th>\n",
       "      <td>0.0</td>\n",
       "      <td>0.0</td>\n",
       "      <td>0.0</td>\n",
       "      <td>0.0</td>\n",
       "      <td>0.0</td>\n",
       "      <td>0.0</td>\n",
       "      <td>0.0</td>\n",
       "      <td>1.0</td>\n",
       "      <td>1</td>\n",
       "    </tr>\n",
       "    <tr>\n",
       "      <th>2</th>\n",
       "      <td>0.0</td>\n",
       "      <td>0.0</td>\n",
       "      <td>0.0</td>\n",
       "      <td>0.0</td>\n",
       "      <td>0.0</td>\n",
       "      <td>0.0</td>\n",
       "      <td>1.0</td>\n",
       "      <td>0.0</td>\n",
       "      <td>2</td>\n",
       "    </tr>\n",
       "  </tbody>\n",
       "</table>\n",
       "</div>"
      ],
      "text/plain": [
       "     0    1    2    3    4    5    6    7  well index\n",
       "0  0.0  0.0  0.0  0.0  0.0  0.0  0.0  0.0           0\n",
       "1  0.0  0.0  0.0  0.0  0.0  0.0  0.0  1.0           1\n",
       "2  0.0  0.0  0.0  0.0  0.0  0.0  1.0  0.0           2"
      ]
     },
     "execution_count": 3,
     "metadata": {},
     "output_type": "execute_result"
    }
   ],
   "source": [
    "list_present  = pd.read_pickle(\"~/compressed_sensingv1/realdatasets/misc/Friedman-v3/list-present-friedman.pkl\")\n",
    "sst_rel = pd.read_pickle(\"~/compressed_sensingv1/realdatasets/misc/Friedman-v3/Friedman-data-sst-relv2.pkl\")\n",
    "\n",
    "sp_list_provided = [\"Ea\",\"Pa\",\"Pch\",\"Pci\",\"Pf\",\"Pp\",\"Pv\",\"Sm\"] \n",
    "sst_rel2 = sst_rel.rename(columns={\"Sm\":0,\"Pv\":1,\"Pp\":2,\"Pf\":3,\"Pci\":4,\"Pch\":5,\"Pa\":6,\"Ea\":7})\n",
    "sstv3 = sst_rel2[[0,1,2,3,4,5,6,7,\"well index\"]]\n",
    "\n",
    "sstv4 = sstv3.fillna(0)\n",
    "\n",
    "sstv4.head(3)"
   ]
  },
  {
   "cell_type": "code",
   "execution_count": 4,
   "id": "9cd29b76-da15-416a-af6f-3b70e3cf11a0",
   "metadata": {},
   "outputs": [],
   "source": [
    "n = 2**7\n",
    "random_state = None\n",
    "cv_splitsl = [3,5,7]"
   ]
  },
  {
   "cell_type": "code",
   "execution_count": 5,
   "id": "f7958d06-bb79-4749-bf3f-23ab99f61d82",
   "metadata": {},
   "outputs": [],
   "source": [
    "to_be_removed = {73,164,193}\n",
    "list_presentv2 = [item for item in list_present if item not in to_be_removed ]"
   ]
  },
  {
   "cell_type": "code",
   "execution_count": 6,
   "id": "8d8b58f0-3a44-4736-960e-17a486af7e8f",
   "metadata": {},
   "outputs": [],
   "source": [
    "dtr = []\n",
    "dte = [] \n",
    "for cv_splits in cv_splitsl: \n",
    "    for speciesc in range(8):\n",
    "        bspecies = Bdf.T[species_ones[speciesc]].T\n",
    "        bspecies[\"index all\"] = bspecies.index\n",
    "        bspecies.index = np.arange(0,2**7,1)\n",
    "        abunvec = pd.DataFrame(sstv4[speciesc].values).T[species_ones[speciesc]].T\n",
    "        abunvec.index = np.arange(0,2**7,1)\n",
    "        listl = list(abunvec.T[list(bspecies[bspecies[\"index all\"].isin(list_presentv2)].index)].T.index)\n",
    "        data_present = list(abunvec.T[listl].T.index)\n",
    "        random.shuffle(data_present)\n",
    "        data_present1 = np.array(data_present)\n",
    "        kf = KFold(n_splits=cv_splits)\n",
    "        kf.get_n_splits(data_present1)\n",
    "        KFold(n_splits=cv_splits, random_state=random_state, shuffle=True)\n",
    "        count = 0 \n",
    "        for train_index, test_index in kf.split(data_present1):\n",
    "            X_train, X_test = data_present1[train_index], data_present1[test_index]\n",
    "            rinew = list(X_train)\n",
    "            rileft = list(X_test)\n",
    "            y3 = abunvec.T[rinew].T[0].values  \n",
    "            dtr.append([cv_splits,count,rinew,speciesc])\n",
    "            dte.append([cv_splits,count,rileft,speciesc])\n",
    "            count = count + 1\n"
   ]
  },
  {
   "cell_type": "code",
   "execution_count": 7,
   "id": "21599c38-2f00-4087-a087-7b2aa689db9c",
   "metadata": {},
   "outputs": [],
   "source": [
    "dtrf = pd.DataFradtrf = pd.DataFrame(dtr,columns=[\"k-fold\",\"fold number\",\"train data\",\"species\"])\n",
    "\n",
    "dtef = pd.DataFrame(dte,columns=[\"k-fold\",\"fold number\",\"test data\",\"species\"])\n",
    "\n",
    "dtrf.to_pickle(\"traindataRELfried.pkl\")\n",
    "dtef.to_pickle(\"testdataRELfried.pkl\")\n"
   ]
  },
  {
   "cell_type": "code",
   "execution_count": 8,
   "id": "a241e41b-6fb9-44df-828c-4b27cda0b13a",
   "metadata": {},
   "outputs": [],
   "source": [
    "def flatten(l):\n",
    "    return [item for sublist in l for item in sublist]"
   ]
  },
  {
   "cell_type": "code",
   "execution_count": null,
   "id": "07b3de0a-b6a2-4b6f-8688-b6afee479ff0",
   "metadata": {},
   "outputs": [],
   "source": []
  }
 ],
 "metadata": {
  "kernelspec": {
   "display_name": "Python 3 (ipykernel)",
   "language": "python",
   "name": "python3"
  },
  "language_info": {
   "codemirror_mode": {
    "name": "ipython",
    "version": 3
   },
   "file_extension": ".py",
   "mimetype": "text/x-python",
   "name": "python",
   "nbconvert_exporter": "python",
   "pygments_lexer": "ipython3",
   "version": "3.9.11"
  }
 },
 "nbformat": 4,
 "nbformat_minor": 5
}
