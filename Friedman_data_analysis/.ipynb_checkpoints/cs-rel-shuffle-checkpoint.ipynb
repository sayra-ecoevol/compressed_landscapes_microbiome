{
 "cells": [
  {
   "cell_type": "code",
   "execution_count": 1,
   "id": "5fa95953-3403-4d58-9483-8196d25b1d79",
   "metadata": {},
   "outputs": [],
   "source": [
    "#### relative data, where the replicates were considered, their OD relative ratio taken and the mean evaluated\n",
    "#### modification : remove wells that correspond to high variability and bistability (three such wells)"
   ]
  },
  {
   "cell_type": "code",
   "execution_count": 2,
   "id": "31f4ddcc-d216-4501-a201-4d8df5341ec2",
   "metadata": {},
   "outputs": [],
   "source": [
    "import pandas as pd\n",
    "import numpy as np\n",
    "import cvxpy as cvx\n",
    "import random\n",
    "import time\n",
    "from __future__ import print_function\n",
    "from builtins import input\n",
    "\n",
    "from sporco.admm import bpdn\n",
    "### using the ADMM algorithm \n",
    "### we can also use the PGM algorithm \n",
    "from sporco import util\n",
    "from sporco import plot\n",
    "plot.config_notebook_plotting()\n",
    "\n",
    "from scipy.linalg import hadamard\n",
    "\n",
    "import matplotlib.pyplot as plt\n",
    "\n",
    "from sklearn.model_selection import LeaveOneOut\n",
    "from sklearn.model_selection import KFold\n",
    "\n",
    "from scipy import stats\n",
    "from matplotlib import pyplot\n",
    "from scipy.stats import spearmanr\n",
    "\n",
    "import warnings\n",
    "warnings.filterwarnings(\"ignore\")\n",
    "\n",
    "\n",
    "import seaborn as sns\n",
    "\n",
    "table = pd.read_pickle(\"~/compressed_sensingv1/realdatasets/misc/Friedman-v3/A8.pkl\")\n",
    "iHiVred = pd.read_pickle(\"~/compressed_sensingv1/realdatasets/misc/Friedman-v3/iHiV7.pkl\")\n",
    "iHiV = pd.read_pickle(\"~/compressed_sensingv1/realdatasets/misc/Friedman-v3/iHiV8.pkl\")\n",
    "VHred = pd.read_pickle(\"~/compressed_sensingv1/realdatasets/misc/Friedman-v3/VH7.pkl\")\n",
    "tableg = table.T\n",
    "\n",
    "#iFT = pd.read_pickle(\"iFT4.pkl\")\n",
    "\n",
    "VH = pd.read_pickle(\"~/compressed_sensingv1/realdatasets/misc/Friedman-v3/VH8.pkl\")\n",
    "tableg = table.T\n",
    "B = pd.read_pickle(\"~/compressed_sensingv1/realdatasets/misc/Friedman-v3/B8.pkl\")\n",
    "\n",
    "Bdf = pd.DataFrame(B)\n",
    "\n",
    "species_ones = [] \n",
    "for i in range(8):\n",
    "    species = i\n",
    "    species_ones.append(list(tableg[tableg[species]==1].index))\n",
    "    \n",
    "    \n",
    "species_zeros = []\n",
    "for i in range(8):\n",
    "    species = i\n",
    "    species_zeros.append(list(tableg[tableg[species]==0].index))                                                                                                                                                                                                                                                                                                                                                                                                                                                                                                                                                                                                                                                                                                                                                                                                                                                                                                                                                                                                                                                                                                                                                                                                                                                                                                                                                                                                                                                                                                                                                                                                                                                                                                                                                                       \n",
    "\n",
    "\n",
    "#### get all data -- design matrix, steady state abundances, and list of wells present\n",
    "\n",
    "#sst = pd.read_pickle(\"Friedman-data-sst-rel.pkl\")\n",
    "#sst = pd.read_pickle(\"will-ludd-log10-properdata.pkl\")\n",
    "#sstv3 = sst.copy()\n",
    "\n",
    "laml = [1e-20,1e-10,1e-5,.01,.02,.03,.04,.05,.06,.0650,.0675,.07,0.08,0.1,0.13,0.15,0.18,0.2,0.5,1.0,2.0,3.0,5.0,10.0,20.0,50.0,100.0]\n",
    "from sklearn.metrics import r2_score\n",
    "\n",
    "g = np.array([[1, 0], [-1, 1]])\n",
    "\n",
    "for i in range(6):\n",
    "    g = np.block([[g, np.zeros(g.shape)], [-g, g]])\n",
    "\n",
    "G = g\n",
    "X = np.linalg.inv(G)\n"
   ]
  },
  {
   "cell_type": "code",
   "execution_count": 3,
   "id": "56cef5da-28b3-4e83-bb61-8c5ba5c8597a",
   "metadata": {},
   "outputs": [
    {
     "name": "stdout",
     "output_type": "stream",
     "text": [
      "(128, 128) (128, 128)\n"
     ]
    }
   ],
   "source": [
    "print(iHiVred.shape, X.shape)\n",
    "Xred = X"
   ]
  },
  {
   "cell_type": "code",
   "execution_count": 4,
   "id": "c9e6a35a-ee44-4262-9eaf-74534c7da03c",
   "metadata": {},
   "outputs": [
    {
     "data": {
      "text/html": [
       "<div>\n",
       "<style scoped>\n",
       "    .dataframe tbody tr th:only-of-type {\n",
       "        vertical-align: middle;\n",
       "    }\n",
       "\n",
       "    .dataframe tbody tr th {\n",
       "        vertical-align: top;\n",
       "    }\n",
       "\n",
       "    .dataframe thead th {\n",
       "        text-align: right;\n",
       "    }\n",
       "</style>\n",
       "<table border=\"1\" class=\"dataframe\">\n",
       "  <thead>\n",
       "    <tr style=\"text-align: right;\">\n",
       "      <th></th>\n",
       "      <th>0</th>\n",
       "      <th>1</th>\n",
       "      <th>2</th>\n",
       "      <th>3</th>\n",
       "      <th>4</th>\n",
       "      <th>5</th>\n",
       "      <th>6</th>\n",
       "      <th>7</th>\n",
       "      <th>well index</th>\n",
       "    </tr>\n",
       "  </thead>\n",
       "  <tbody>\n",
       "    <tr>\n",
       "      <th>0</th>\n",
       "      <td>0.0</td>\n",
       "      <td>0.0</td>\n",
       "      <td>0.0</td>\n",
       "      <td>0.0</td>\n",
       "      <td>0.0</td>\n",
       "      <td>0.0</td>\n",
       "      <td>0.0</td>\n",
       "      <td>0.0</td>\n",
       "      <td>0</td>\n",
       "    </tr>\n",
       "    <tr>\n",
       "      <th>1</th>\n",
       "      <td>0.0</td>\n",
       "      <td>0.0</td>\n",
       "      <td>0.0</td>\n",
       "      <td>0.0</td>\n",
       "      <td>0.0</td>\n",
       "      <td>0.0</td>\n",
       "      <td>0.0</td>\n",
       "      <td>1.0</td>\n",
       "      <td>1</td>\n",
       "    </tr>\n",
       "    <tr>\n",
       "      <th>2</th>\n",
       "      <td>0.0</td>\n",
       "      <td>0.0</td>\n",
       "      <td>0.0</td>\n",
       "      <td>0.0</td>\n",
       "      <td>0.0</td>\n",
       "      <td>0.0</td>\n",
       "      <td>1.0</td>\n",
       "      <td>0.0</td>\n",
       "      <td>2</td>\n",
       "    </tr>\n",
       "  </tbody>\n",
       "</table>\n",
       "</div>"
      ],
      "text/plain": [
       "     0    1    2    3    4    5    6    7  well index\n",
       "0  0.0  0.0  0.0  0.0  0.0  0.0  0.0  0.0           0\n",
       "1  0.0  0.0  0.0  0.0  0.0  0.0  0.0  1.0           1\n",
       "2  0.0  0.0  0.0  0.0  0.0  0.0  1.0  0.0           2"
      ]
     },
     "execution_count": 4,
     "metadata": {},
     "output_type": "execute_result"
    }
   ],
   "source": [
    "list_present  = pd.read_pickle(\"~/compressed_sensingv1/realdatasets/misc/Friedman-v3/list-present-friedman.pkl\")\n",
    "sst_rel = pd.read_pickle(\"~/compressed_sensingv1/realdatasets/misc/Friedman-v3/Friedman-data-sst-relv2.pkl\")\n",
    "\n",
    "sp_list_provided = [\"Ea\",\"Pa\",\"Pch\",\"Pci\",\"Pf\",\"Pp\",\"Pv\",\"Sm\"] \n",
    "sst_rel2 = sst_rel.rename(columns={\"Sm\":0,\"Pv\":1,\"Pp\":2,\"Pf\":3,\"Pci\":4,\"Pch\":5,\"Pa\":6,\"Ea\":7})\n",
    "sstv3 = sst_rel2[[0,1,2,3,4,5,6,7,\"well index\"]]\n",
    "\n",
    "sstv4 = sstv3.fillna(0)\n",
    "\n",
    "sstv4.head(3)"
   ]
  },
  {
   "cell_type": "code",
   "execution_count": 5,
   "id": "9cd29b76-da15-416a-af6f-3b70e3cf11a0",
   "metadata": {},
   "outputs": [],
   "source": [
    "n = 2**7\n",
    "cv_splitsl = [3,5]"
   ]
  },
  {
   "cell_type": "code",
   "execution_count": 6,
   "id": "f7958d06-bb79-4749-bf3f-23ab99f61d82",
   "metadata": {},
   "outputs": [],
   "source": [
    "to_be_removed = {73,164,193}\n",
    "list_presentv2 = [item for item in list_present if item not in to_be_removed ]"
   ]
  },
  {
   "cell_type": "code",
   "execution_count": 7,
   "id": "987bd0ba-8d20-4034-8794-ff98fddc231a",
   "metadata": {},
   "outputs": [],
   "source": [
    "opt = bpdn.BPDN.Options({'Verbose': False, 'MaxMainIter': 500,\n",
    "                         'RelStopTol': 1e-8, 'AutoRho': {'RsdlTarget': 1.0}})"
   ]
  },
  {
   "cell_type": "code",
   "execution_count": 8,
   "id": "1e8116d7-491a-49f9-a985-21f70769f31b",
   "metadata": {},
   "outputs": [],
   "source": [
    "dataTR = pd.read_pickle(\"traindataRELfried.pkl\")\n",
    "dataTE = pd.read_pickle(\"testdataRELfried.pkl\")"
   ]
  },
  {
   "cell_type": "code",
   "execution_count": 9,
   "id": "57d6953f-e81b-4e44-9b44-268271b601aa",
   "metadata": {},
   "outputs": [],
   "source": [
    "err = []\n",
    "errlin = []\n",
    "betaspred  = [] \n",
    "for cv_splits in cv_splitsl: \n",
    "    datatrain = dataTR[dataTR[\"k-fold\"]==cv_splits]\n",
    "    datatest = dataTE[dataTE[\"k-fold\"]==cv_splits]\n",
    "    for speciesc in range(8):\n",
    "        datatousetrain = datatrain[datatrain[\"species\"]==speciesc]\n",
    "        datatousetest = datatest[datatest[\"species\"]==speciesc]\n",
    "        abunvec = pd.DataFrame(sstv4[speciesc].values).T[species_ones[speciesc]].T\n",
    "        abunvec.index = np.arange(0,2**7,1)\n",
    "        for lmda in laml:\n",
    "            for iterii in range(cv_splits):\n",
    "                rinew = datatousetrain[datatousetrain[\"fold number\"]==iterii][\"train data\"].values[0]\n",
    "                rileft = datatousetest[datatousetest[\"fold number\"]==iterii][\"test data\"].values[0]\n",
    "                y3 = abunvec.T[rinew].T[0].values                                                                                                                                                                                                                                                                                                                                                                                                                                                                                                                                                                                                                                                                                                                                                                                                                                                                                                                                                                                                                                                                                                                                                                                                                                                                                                                                                                                                                                                                                                                                                                                                                                                                                                                                                                                                                                                                                                                                                                                                                                                                                                                                                                                                                                                                                                                                                                                                                                                                                                                                                                                                                                                                                                                                                                                                                                                                                                                                                                                                                                                                                                                                                                                                                                                                                                                                                                                                                                                                                                                                                                                                                                                                                                                                                                                                                                                                                                                                                                                                                                                                                                                                                                                                                                                                                                                                                                                                                                                                                                                                                                                                                                                                                                                                                                                                                                                                                                                                                                                                                                                                                                                                                                                                                                                                                                                                                                                                                                                                                                                                                                                                                                                                                                                                                                                                                                                                                                                                                                                                                                                                                                                                                                                                                                                                                                                                                                                                                                                                                                                                                                                                                                                                                                                                                                                                                                                                                                                                                                                                                        \n",
    "                D = iHiVred[rinew,:]\n",
    "                s2 = np.asarray([y3]).astype(float)\n",
    "                s3 = s2.T\n",
    "                b = bpdn.BPDN(D, s3, lmda, opt)\n",
    "                x = b.solve()\n",
    "                yrecon = np.dot(iHiVred,x.ravel())\n",
    "                err.append([lmda,speciesc,yrecon[rileft],rileft,rinew,cv_splits])\n",
    "                betaspred.append([lmda,cv_splits,speciesc,x.ravel()])\n",
    "                y3 = abunvec.T[rinew].T[0].values                                                                                                                                                                                                                                                                                                                                                                                                                                                                                                                                                                                                                                                                                                                                                                                                                                                                                                                                                                                                                                                                                                                                                                                                                                                                                                                                                                                                                                                                                                                                                                                                                                                                                                                                                                                                                                                                                                                                                                                                                                                                                                                                                                                                                                                                                                                                                                                                                                                                                                                                                                                                                                                                                                                                                                                                                                                                                                                                                                                                                                                                                                                                                                                                                                                                                                                                                                                                                                                                                                                                                                                                                                                                                                                                                                                                                                                                                                                                                                                                                                                                                                                                                                                                                                                                                                                                                                                                                                                                                                                                                                                                                                                                                                                                                                                                                                                                                                                                                                                                                                                                                                                                                                                                                                                                                                                                                                                                                                                                                                                                                                                                                                                                                                                                                                                                                                                                                                                                                                                                                                                                                                                                                                                                                                                                                                                                                                                                                                                                                                                                                                                                                                                                                                                                                                                                                                                                                                                                                                                                                        \n",
    "                D = Xred[rinew,:]\n",
    "                s2 = np.asarray([y3]).astype(float)\n",
    "                s3 = s2.T\n",
    "                b = bpdn.BPDN(D, s3, lmda, opt)\n",
    "                x = b.solve()\n",
    "                yrecon = np.dot(Xred,x.ravel())\n",
    "                errlin.append([lmda,speciesc,yrecon[rileft],rileft,rinew,cv_splits])"
   ]
  },
  {
   "cell_type": "code",
   "execution_count": 10,
   "id": "34d55eb8-7c95-4cea-b3c5-92c98988cf83",
   "metadata": {},
   "outputs": [],
   "source": [
    "errdf= pd.DataFrame(err)\n",
    "errlindf = pd.DataFrame(errlin)"
   ]
  },
  {
   "cell_type": "code",
   "execution_count": 11,
   "id": "89a3c031-0c62-4025-967b-ee8cdb236da9",
   "metadata": {},
   "outputs": [],
   "source": [
    "pd.to_pickle(errdf,\"CS-rel-WH.pkl\")\n",
    "pd.to_pickle(errlindf,\"CS-rel-sigma.pkl\")"
   ]
  },
  {
   "cell_type": "code",
   "execution_count": null,
   "id": "59c63ca1-0d81-4b5b-a023-1f2b856781a4",
   "metadata": {},
   "outputs": [],
   "source": []
  }
 ],
 "metadata": {
  "kernelspec": {
   "display_name": "Python 3 (ipykernel)",
   "language": "python",
   "name": "python3"
  },
  "language_info": {
   "codemirror_mode": {
    "name": "ipython",
    "version": 3
   },
   "file_extension": ".py",
   "mimetype": "text/x-python",
   "name": "python",
   "nbconvert_exporter": "python",
   "pygments_lexer": "ipython3",
   "version": "3.9.11"
  }
 },
 "nbformat": 4,
 "nbformat_minor": 5
}
