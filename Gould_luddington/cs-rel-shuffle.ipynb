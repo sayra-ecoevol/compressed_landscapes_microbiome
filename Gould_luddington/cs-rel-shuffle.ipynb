{
 "cells": [
  {
   "cell_type": "code",
   "execution_count": 1,
   "id": "bb91e547-356d-4696-89e4-519261b2eec3",
   "metadata": {},
   "outputs": [],
   "source": [
    "#### run LASSO with WH and l1 reg. regression for already generated test train splits "
   ]
  },
  {
   "cell_type": "code",
   "execution_count": 2,
   "id": "62b04d4e-09ef-4455-ab01-90dc747f67fc",
   "metadata": {
    "tags": []
   },
   "outputs": [],
   "source": [
    "import pandas as pd\n",
    "import numpy as np\n",
    "import random\n",
    "import time\n",
    "from __future__ import print_function\n",
    "from builtins import input\n",
    "\n",
    "from sporco.admm import bpdn\n",
    "### using the ADMM algorithm \n",
    "### we can also use the PGM algorithm \n",
    "from sporco import util\n",
    "from sporco import plot\n",
    "plot.config_notebook_plotting()\n",
    "\n",
    "\n",
    "import warnings\n",
    "warnings.filterwarnings(\"ignore\")\n",
    "\n",
    "\n",
    "\n",
    "\n",
    "table = pd.read_pickle(\"~/compressed_sensingv1/realdatasets/misc/will-luddington-v4/A5.pkl\")\n",
    "iHiVred = pd.read_pickle(\"~/compressed_sensingv1/realdatasets/misc/will-luddington-v4/iHiV4.pkl\")\n",
    "iHiV = pd.read_pickle(\"~/compressed_sensingv1/realdatasets/misc/will-luddington-v4/iHiV5.pkl\")\n",
    "VHred = pd.read_pickle(\"~/compressed_sensingv1/realdatasets/misc/will-luddington-v4/VH4.pkl\")\n",
    "tableg = table.T\n",
    "\n",
    "iFT = pd.read_pickle(\"~/compressed_sensingv1/realdatasets/misc/will-luddington-v4/iFT4.pkl\")\n",
    "\n",
    "VH = pd.read_pickle(\"~/compressed_sensingv1/realdatasets/misc/will-luddington-v4/VH5.pkl\")\n",
    "tableg = table.T\n",
    "B = pd.read_pickle(\"~/compressed_sensingv1/realdatasets/misc/will-luddington-v4/B5.pkl\")\n",
    "\n",
    "Bdf = pd.DataFrame(B)\n",
    "\n",
    "species_ones = [] \n",
    "for i in range(5):\n",
    "    species = i\n",
    "    species_ones.append(list(tableg[tableg[species]==1].index))\n",
    "    \n",
    "    \n",
    "species_zeros = []\n",
    "for i in range(5):\n",
    "    species = i\n",
    "    species_zeros.append(list(tableg[tableg[species]==0].index))                                                                                                                                                                                                                                                                                                                                                                                                                                                                                                                                                                                                                                                                                                                                                                                                                                                                                                                                                                                                                                                                                                                                                                                                                                                                                                                                                                                                                                                                                                                                                                                                                                                                                                                                                                       \n",
    "\n",
    "sp_list_provided = ['LP', 'LB', 'AP', 'AT', 'AO']\n",
    "\n",
    "#### get all data -- design matrix, steady state abundances, and list of wells present\n",
    "\n",
    "sst = pd.read_pickle(\"~/compressed_sensingv1/realdatasets/misc/will-luddington-v5/Gould-etal-5species-relative-abundance-Oct22.pkl\")\n",
    "#sst = pd.read_pickle(\"~/compressed_sensingv1/realdatasets/will-luddington-v7/Gould-etal-5species-relative-abundance-Feb23median.pkl\")\n",
    "sstv3 = sst.copy()\n",
    "\n",
    "laml = [1e-100,1e-30,5e-30,1e-25,1e-20,5e-20,500e-20,1e-11,1e-10,1e-5,.01,.05,.06,.0650,.0675,.07,0.08,0.1,0.13,0.15,0.18,0.2,0.5,1.0,2.0]\n",
    "betasact = []\n",
    "for species in range(5):\n",
    "    abunvec = pd.DataFrame(sstv3[species][species_ones[species]].values)\n",
    "    betasact.append([species,np.dot(VHred,abunvec).ravel()])\n",
    "betac = pd.DataFrame(betasact)\n",
    "\n",
    "from sklearn.metrics import r2_score\n",
    "\n",
    "g = np.array([[1, 0], [-1, 1]])\n",
    "\n",
    "for i in range(3):\n",
    "    g = np.block([[g, np.zeros(g.shape)], [-g, g]])\n",
    "\n",
    "Gred = g\n",
    "Xred = np.linalg.inv(Gred)"
   ]
  },
  {
   "cell_type": "code",
   "execution_count": 3,
   "id": "6225c4c2-981e-4605-aebd-887256ac1247",
   "metadata": {},
   "outputs": [
    {
     "data": {
      "text/plain": [
       "30.998149500356988"
      ]
     },
     "execution_count": 3,
     "metadata": {},
     "output_type": "execute_result"
    }
   ],
   "source": [
    "sst.T[:5].sum().sum()"
   ]
  },
  {
   "cell_type": "code",
   "execution_count": 4,
   "id": "48caa10c-38f1-4535-a079-0a40de19c2c0",
   "metadata": {},
   "outputs": [],
   "source": [
    "sp_list_provided = ['LP', 'LB', 'AP', 'AT', 'AO']\n",
    "bugnames = [\"Lactobacillus plantarum\",\"L. brevis\", \"Acetobacter pasteurianus\", \"A. tropicalis\",\"A. orientalis,\"]\n",
    "\n",
    "opt = bpdn.BPDN.Options({'Verbose': False, 'MaxMainIter': 1000,\n",
    "                         'RelStopTol': 1e-10, 'AutoRho': {'RsdlTarget': 1.0}})\n",
    "\n",
    "n = 2**5\n",
    "random_state = None\n",
    "cv_splitsl = [3]"
   ]
  },
  {
   "cell_type": "code",
   "execution_count": 5,
   "id": "c8fe1e80-e600-4b8c-bdc9-7fa4d0e226b0",
   "metadata": {},
   "outputs": [],
   "source": [
    "dataTR = pd.read_pickle(\"~/compressed_sensingv1/realdatasets/will-luddington-v6/traindataRELwill.pkl\")\n",
    "dataTE = pd.read_pickle(\"~/compressed_sensingv1/realdatasets/will-luddington-v6/testdataRELwill.pkl\")"
   ]
  },
  {
   "cell_type": "code",
   "execution_count": 6,
   "id": "74aa0558-1241-48ff-b630-e71af82b1335",
   "metadata": {},
   "outputs": [],
   "source": [
    "err = []\n",
    "betaspred  = [] \n",
    "errlin  = [] \n",
    "for cv_splits in cv_splitsl: \n",
    "    datatrain = dataTR[dataTR[\"k-fold\"]==cv_splits]\n",
    "    datatest = dataTE[dataTE[\"k-fold\"]==cv_splits]\n",
    "    for species in range(5):\n",
    "        datatousetrain = datatrain[datatrain[\"species\"]==species]\n",
    "        datatousetest = datatest[datatest[\"species\"]==species]\n",
    "        abunvec = pd.DataFrame(sstv3[species][species_ones[species]].values)\n",
    "        for lmda in laml:\n",
    "            for iterii in range(cv_splits):\n",
    "                rinew = datatousetrain[datatousetrain[\"fold number\"]==iterii][\"train data\"].values[0]\n",
    "                rileft = datatousetest[datatousetest[\"fold number\"]==iterii][\"test data\"].values[0]\n",
    "                y3 = abunvec.T[rinew].T[0].values                                                                                                                                                                                                                                                                                                                                                                                                                                                                                                                                                                                                                                                                                                                                                                                                                                                                                                                                                                                                                                                                                                                                                                                                                                                                                                                                                                                                                                                                                                                                                                                                                                                                                                                                                                                                                                                                                                                                                                                                                                                                                                                                                                                                                                                                                                                                                                                                                                                                                                                                                                                                                                                                                                                                                                                                                                                                                                                                                                                                                                                                                                                                                                                                                                                                                                                                                                                                                                                                                                                                                                                                                                                                                                                                                                                                                                                                                                                                                                                                                                                                                                                                                                                                                                                                                                                                                                                                                                                                                                                                                                                                                                                                                                                                                                                                                                                                                                                                                                                                                                                                                                                                                                                                                                                                                                                                                                                                                                                                                                                                                                                                                                                                                                                                                                                                                                                                                                                                                                                                                                                                                                                                                                                                                                                                                                                                                                                                                                                                                                                                                                                                                                                                                                                                                                                                                                                                                                                                                                                                                        \n",
    "                D = iHiVred[rinew,:]\n",
    "                s2 = np.asarray([y3]).astype(float)\n",
    "                s3 = s2.T\n",
    "                b = bpdn.BPDN(D, s3, lmda, opt)\n",
    "                x = b.solve()\n",
    "                yrecon = np.dot(iHiVred,x.ravel())\n",
    "                err.append([lmda,species,yrecon[rileft],rileft,rinew,cv_splits])\n",
    "                betaspred.append([lmda,cv_splits,species,x.ravel()])\n",
    "                y3 = abunvec.T[rinew].T[0].values                                                                                                                                                                                                                                                                                                                                                                                                                                                                                                                                                                                                                                                                                                                                                                                                                                                                                                                                                                                                                                                                                                                                                                                                                                                                                                                                                                                                                                                                                                                                                                                                                                                                                                                                                                                                                                                                                                                                                                                                                                                                                                                                                                                                                                                                                                                                                                                                                                                                                                                                                                                                                                                                                                                                                                                                                                                                                                                                                                                                                                                                                                                                                                                                                                                                                                                                                                                                                                                                                                                                                                                                                                                                                                                                                                                                                                                                                                                                                                                                                                                                                                                                                                                                                                                                                                                                                                                                                                                                                                                                                                                                                                                                                                                                                                                                                                                                                                                                                                                                                                                                                                                                                                                                                                                                                                                                                                                                                                                                                                                                                                                                                                                                                                                                                                                                                                                                                                                                                                                                                                                                                                                                                                                                                                                                                                                                                                                                                                                                                                                                                                                                                                                                                                                                                                                                                                                                                                                                                                                                                        \n",
    "                D = Xred[rinew,:]\n",
    "                s2 = np.asarray([y3]).astype(float)\n",
    "                s3 = s2.T\n",
    "                b = bpdn.BPDN(D, s3, lmda, opt)\n",
    "                x = b.solve()\n",
    "                yrecon = np.dot(Xred,x.ravel())\n",
    "                errlin.append([lmda,species,yrecon[rileft],rileft,rinew,cv_splits])"
   ]
  },
  {
   "cell_type": "code",
   "execution_count": 7,
   "id": "4c897678-edf8-4448-a306-ef82b40de390",
   "metadata": {},
   "outputs": [],
   "source": [
    "errdf= pd.DataFrame(err)\n",
    "betadf = pd.DataFrame(betaspred)\n",
    "errlindf = pd.DataFrame(errlin)\n",
    "errdf.to_pickle(\"rel_CS_WH.pkl\")\n",
    "errlindf.to_pickle(\"rel_l1_sigma.pkl\")"
   ]
  },
  {
   "cell_type": "code",
   "execution_count": null,
   "id": "daf2ffa2-3c10-472a-bffe-7cb2d119b1fb",
   "metadata": {},
   "outputs": [],
   "source": []
  }
 ],
 "metadata": {
  "kernelspec": {
   "display_name": "Python 3 (ipykernel)",
   "language": "python",
   "name": "python3"
  },
  "language_info": {
   "codemirror_mode": {
    "name": "ipython",
    "version": 3
   },
   "file_extension": ".py",
   "mimetype": "text/x-python",
   "name": "python",
   "nbconvert_exporter": "python",
   "pygments_lexer": "ipython3",
   "version": "3.9.11"
  }
 },
 "nbformat": 4,
 "nbformat_minor": 5
}
