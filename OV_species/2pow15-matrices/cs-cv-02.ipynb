{
 "cells": [
  {
   "cell_type": "markdown",
   "id": "9855e68f-b78c-4de0-85da-528638f18157",
   "metadata": {
    "tags": []
   },
   "source": [
    "#### In this notebook, assuming an effective size of 15 (one present always) species, we will look at CS (BPDN,ADMM) on effectively 187 points. For each species, we will only look at predictions on the points where the species was present to begin with. (this is the first set of species that maximises data points)"
   ]
  },
  {
   "cell_type": "markdown",
   "id": "e182cb29-3543-4e38-b3e1-ad214c7a094e",
   "metadata": {},
   "source": [
    "#### import the relevant files and modules"
   ]
  },
  {
   "cell_type": "code",
   "execution_count": 12,
   "id": "ace45779-2943-40d9-b0da-4af6b6f7c5e8",
   "metadata": {},
   "outputs": [],
   "source": [
    "import pandas as pd\n",
    "import numpy as np\n",
    "import cvxpy as cvx\n",
    "import random\n",
    "import time\n",
    "\n",
    "from sporco.admm import bpdn\n",
    "### using the ADMM algorithm \n",
    "### we can also use the PGM algorithm \n",
    "\n",
    "\n",
    "from scipy.linalg import hadamard\n",
    "\n",
    "\n",
    "from sklearn.model_selection import LeaveOneOut\n",
    "from sklearn.model_selection import KFold\n",
    "\n",
    "import time \n",
    "from scipy import stats\n",
    "\n",
    "iHiV = pd.read_pickle(\"~/bge-analysis-simv3/iHiV.pkl\")\n",
    "iHiVred = pd.read_pickle(\"~/compressed_sensingv1/realdatasets/misc/ophelli-ryan/iHiV15.pkl\")\n",
    "\n",
    "import warnings\n",
    "warnings.filterwarnings(\"ignore\")\n",
    "\n",
    "X = pd.read_pickle(\"~/bge-analysis-simv3/X15.pkl\")\n",
    "\n",
    "opt = bpdn.BPDN.Options({'Verbose': False, 'MaxMainIter': 500,\n",
    "                         'RelStopTol': 1e-8, 'AutoRho': {'RsdlTarget': 1.0}})\n",
    "\n",
    "#### read the effective species presence-absence\n",
    "\n",
    "pa_redv1 = pd.read_pickle(\"~/compressed_sensingv1/realdatasets/misc/ophelli-ryan/eff-16-list1-red-pa.pkl\")\n",
    "\n",
    "labdl = np.round(np.logspace(-5,0.8,5),5)\n",
    "lam = list(labdl)\n",
    "lam.append([0.5,0.6,1.0])\n",
    "lamf = list(pd.DataFrame(lam)[0].explode().values)\n",
    "lamf.sort()\n",
    "lamf = lamf[:7]\n",
    "lamf\n",
    "\n",
    "random_state = None\n",
    "laml = lamf\n",
    "\n",
    "#pa_redv1\n",
    "\n",
    "B = pd.read_pickle(\"~/bge-analysis-simv3/B.pkl\")\n",
    "A = pd.read_pickle(\"~/bge-analysis-simv3/A.pkl\")\n",
    "\n",
    "tableg=A.T\n",
    "species_onesall = [] \n",
    "for species in range(16):\n",
    "    species_onesall.append(tableg[tableg[species]==1.0][species].index.to_list())\n",
    "species_zerosall = []\n",
    "for species in range(16):\n",
    "    species_zerosall.append(tableg[tableg[species]==0.0][species].index.to_list())\n",
    "\n",
    "##### compile the well numbers for each species for its presence \n",
    "\n",
    "species_ones = []\n",
    "for i in range(16):\n",
    "    species_ones.append(pa_redv1[pa_redv1[i]==1.0][\"well number\"].values)\n",
    "\n",
    "ones_len = [] \n",
    "for ii in range(len(species_ones)):\n",
    "    ones_len.append(len(species_ones[ii])) \n",
    "\n",
    "steadystate = pd.read_pickle(\"~/compressed_sensingv1/realdatasets/misc/ophelli-ryan/eff-16-list1-red-sst-REL.pkl\")\n",
    "sst = steadystate.T\n",
    "\n",
    "bias_var_listm = [3,3,3,3,3,3,3,3,5,3,5,3,3,7,5,7]"
   ]
  },
  {
   "cell_type": "code",
   "execution_count": null,
   "id": "d848adec-7535-46aa-9040-efdbd7121701",
   "metadata": {},
   "outputs": [],
   "source": [
    "err = []\n",
    "errlin = []\n",
    "samp = 100\n",
    "for species in range(8):\n",
    "    cv_splits = bias_var_listm[species]\n",
    "    subsetall = A[species_onesall[species]].T\n",
    "    subsetall[\"indexinwhole\"] = subsetall.index\n",
    "    subsetall.index = np.arange(0,2**15,1)\n",
    "    givendata = subsetall[subsetall[\"indexinwhole\"].isin(species_ones[species])]\n",
    "    m = int(samp*(ones_len[species])/100)\n",
    "    cvdata = m\n",
    "    ri = random.sample(list(givendata.index),m)\n",
    "    ri.sort() \n",
    "    sstgiven = steadystate.T[subsetall[subsetall[\"indexinwhole\"].isin(species_ones[species])][\"indexinwhole\"].values].T\n",
    "    sstgiven.index = givendata.index\n",
    "    y2 = sstgiven.T[ri].T[species]\n",
    "    #y2 = sst[ri].T[species]\n",
    "    data_present = sstgiven.T[ri].T.index\n",
    "    xs = list(data_present)\n",
    "    random.shuffle(xs)\n",
    "    for iteras in range(5):\n",
    "        kf = KFold(n_splits=cv_splits, random_state=iteras*10, shuffle=True)\n",
    "        kf.get_n_splits(data_present)\n",
    "        for lmda in laml:\n",
    "            for train_index, test_index in kf.split(data_present):\n",
    "                startt = time.time()\n",
    "                X_train, X_test = data_present[train_index], data_present[test_index]\n",
    "                rinew = list(X_train)\n",
    "                rileft = list(X_test)\n",
    "                D = iHiVred[rinew,:]\n",
    "                y3 = y2[rinew]\n",
    "                s2 = np.array([y3.values])\n",
    "                s3 = s2.T\n",
    "                b = bpdn.BPDN(D, s3, lmda, opt)\n",
    "                x = b.solve()\n",
    "                yrecon = np.dot(iHiVred,x.ravel())\n",
    "                #print(time.time()-startt,iteras,\"cs\")\n",
    "                err.append([iteras,lmda,species,yrecon[rileft],rileft,rinew,cv_splits,len(rileft),len(rinew)])\n",
    "                startt = time.time()\n",
    "                D = X[rinew,:]\n",
    "                y3 = y2[rinew]\n",
    "                s2 = np.array([y3.values])\n",
    "                s3 = s2.T\n",
    "                b = bpdn.BPDN(D, s3, lmda, opt)\n",
    "                x = b.solve()\n",
    "                yrecon = np.dot(X,x.ravel())\n",
    "                #print(time.time()-startt,iteras,\"linreg\")\n",
    "                errlin.append([iteras,lmda,species,yrecon[rileft],rileft,rinew,cv_splits,len(rileft),len(rinew)])\n"
   ]
  },
  {
   "cell_type": "code",
   "execution_count": null,
   "id": "c71aaff8-8b95-465c-89c6-5f19af60123f",
   "metadata": {},
   "outputs": [],
   "source": [
    "errdf  = pd.DataFrame(err)\n",
    "errdflin = pd.DataFrame(errlin)"
   ]
  },
  {
   "cell_type": "code",
   "execution_count": null,
   "id": "49f6aa8e-874d-4b5b-a053-6f754448a042",
   "metadata": {},
   "outputs": [],
   "source": [
    "pd.to_pickle(errdf,\"16l1-\"+str(species)+\"-bge.pkl\")\n",
    "pd.to_pickle(errdflin,\"16l1-\"+str(species)+\"-lin.pkl\")"
   ]
  },
  {
   "cell_type": "code",
   "execution_count": null,
   "id": "046a8737-a2db-4488-9ab7-ad9d58cf7873",
   "metadata": {},
   "outputs": [],
   "source": [
    "pd.read_pickle(\"16l1-\"+str(species)+\"-bge.pkl\")\n",
    "pd.read_pickle(\"16l1-\"+str(species)+\"-lin.pkl\")"
   ]
  },
  {
   "cell_type": "code",
   "execution_count": null,
   "id": "d87aca55-b8d1-4239-b55d-820956a390ba",
   "metadata": {},
   "outputs": [],
   "source": []
  }
 ],
 "metadata": {
  "kernelspec": {
   "display_name": "Python 3 (ipykernel)",
   "language": "python",
   "name": "python3"
  },
  "language_info": {
   "codemirror_mode": {
    "name": "ipython",
    "version": 3
   },
   "file_extension": ".py",
   "mimetype": "text/x-python",
   "name": "python",
   "nbconvert_exporter": "python",
   "pygments_lexer": "ipython3",
   "version": "3.9.11"
  }
 },
 "nbformat": 4,
 "nbformat_minor": 5
}
