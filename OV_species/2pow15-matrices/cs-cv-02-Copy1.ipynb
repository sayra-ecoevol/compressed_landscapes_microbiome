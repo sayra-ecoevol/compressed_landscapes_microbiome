{
 "cells": [
  {
   "cell_type": "markdown",
   "id": "9855e68f-b78c-4de0-85da-528638f18157",
   "metadata": {
    "tags": []
   },
   "source": [
    "#### In this notebook, assuming an effective size of 15 (one present always) species, we will look at CS (BPDN,ADMM) on effectively 187 points. For each species, we will only look at predictions on the points where the species was present to begin with. (this is the first set of species that maximises data points)"
   ]
  },
  {
   "cell_type": "markdown",
   "id": "e182cb29-3543-4e38-b3e1-ad214c7a094e",
   "metadata": {},
   "source": [
    "#### import the relevant files and modules"
   ]
  },
  {
   "cell_type": "code",
   "execution_count": 1,
   "id": "3492d0c6-9c37-40e5-92a0-820e2c9459ec",
   "metadata": {
    "tags": []
   },
   "outputs": [],
   "source": [
    "import pandas as pd\n",
    "import numpy as np\n",
    "import cvxpy as cvx\n",
    "import random\n",
    "import time\n",
    "\n",
    "from sporco.admm import bpdn\n",
    "### using the ADMM algorithm \n",
    "### we can also use the PGM algorithm \n",
    "\n",
    "\n",
    "from scipy.linalg import hadamard\n",
    "\n",
    "\n",
    "from sklearn.model_selection import LeaveOneOut\n",
    "from sklearn.model_selection import KFold\n",
    "\n",
    "import time \n",
    "from scipy import stats\n",
    "\n",
    "iHiV = pd.read_pickle(\"~/bge-analysis-simv3/iHiV.pkl\")\n",
    "iHiVred = pd.read_pickle(\"~/compressed_sensingv1/realdatasets/misc/ophelli-ryan/iHiV15.pkl\")\n",
    "\n",
    "import warnings\n",
    "warnings.filterwarnings(\"ignore\")"
   ]
  },
  {
   "cell_type": "code",
   "execution_count": 2,
   "id": "096ea983-d3d0-4dbe-ba7b-cac963297963",
   "metadata": {},
   "outputs": [],
   "source": [
    "X = pd.read_pickle(\"~/bge-analysis-simv3/X15.pkl\")"
   ]
  },
  {
   "cell_type": "code",
   "execution_count": 3,
   "id": "fcf16f83-1d18-4bdb-9f4f-c7aac1d87d15",
   "metadata": {
    "tags": []
   },
   "outputs": [],
   "source": [
    "opt = bpdn.BPDN.Options({'Verbose': False, 'MaxMainIter': 500,\n",
    "                         'RelStopTol': 1e-8, 'AutoRho': {'RsdlTarget': 1.0}})"
   ]
  },
  {
   "cell_type": "markdown",
   "id": "5e77784c-ec40-41bd-b8a3-c4c84e0d4cc7",
   "metadata": {},
   "source": [
    "#### read the effective species presence-absence"
   ]
  },
  {
   "cell_type": "code",
   "execution_count": 4,
   "id": "7d1943a4-f7b9-4111-9b03-52ea3044077d",
   "metadata": {
    "tags": []
   },
   "outputs": [],
   "source": [
    "pa_redv1 = pd.read_pickle(\"~/compressed_sensingv1/realdatasets/misc/ophelli-ryan/eff-16-list1-red-pa.pkl\")"
   ]
  },
  {
   "cell_type": "code",
   "execution_count": 5,
   "id": "f49a9c14-7021-4ef1-8795-f27e3d1ff413",
   "metadata": {},
   "outputs": [
    {
     "data": {
      "text/plain": [
       "[1e-05, 0.00028, 0.00794, 0.22387, 0.5, 0.6, 1.0]"
      ]
     },
     "execution_count": 5,
     "metadata": {},
     "output_type": "execute_result"
    }
   ],
   "source": [
    "labdl = np.round(np.logspace(-5,0.8,5),5)\n",
    "lam = list(labdl)\n",
    "lam.append([0.5,0.6,1.0])\n",
    "lamf = list(pd.DataFrame(lam)[0].explode().values)\n",
    "lamf.sort()\n",
    "lamf = lamf[:7]\n",
    "lamf"
   ]
  },
  {
   "cell_type": "code",
   "execution_count": 6,
   "id": "dd402270-7cc5-40fe-9598-d1ce7c3b52b3",
   "metadata": {},
   "outputs": [],
   "source": [
    "random_state = None\n",
    "laml = lamf"
   ]
  },
  {
   "cell_type": "code",
   "execution_count": 7,
   "id": "f600769d-92dc-40bb-83cf-3d4e7d6db787",
   "metadata": {},
   "outputs": [],
   "source": [
    "#pa_redv1"
   ]
  },
  {
   "cell_type": "code",
   "execution_count": 8,
   "id": "c6b3b506-8d8d-4d29-99aa-5935dce1eab7",
   "metadata": {},
   "outputs": [],
   "source": [
    "B = pd.read_pickle(\"~/bge-analysis-simv3/B.pkl\")\n",
    "A = pd.read_pickle(\"~/bge-analysis-simv3/A.pkl\")\n",
    "\n",
    "tableg=A.T\n",
    "species_onesall = [] \n",
    "for species in range(16):\n",
    "    species_onesall.append(tableg[tableg[species]==1.0][species].index.to_list())\n",
    "species_zerosall = []\n",
    "for species in range(16):\n",
    "    species_zerosall.append(tableg[tableg[species]==0.0][species].index.to_list())"
   ]
  },
  {
   "cell_type": "markdown",
   "id": "f0a4061a-c0fd-433b-8bbd-2b9810377035",
   "metadata": {
    "tags": []
   },
   "source": [
    "##### compile the well numbers for each species for its presence "
   ]
  },
  {
   "cell_type": "code",
   "execution_count": 9,
   "id": "8ff7adbc-05ba-4879-afeb-8d77c6713a11",
   "metadata": {
    "tags": []
   },
   "outputs": [],
   "source": [
    "species_ones = []\n",
    "for i in range(16):\n",
    "    species_ones.append(pa_redv1[pa_redv1[i]==1.0][\"well number\"].values)"
   ]
  },
  {
   "cell_type": "code",
   "execution_count": 10,
   "id": "7108edb2-8f30-4e6b-973b-66f534219982",
   "metadata": {
    "tags": []
   },
   "outputs": [],
   "source": [
    "ones_len = [] \n",
    "for ii in range(len(species_ones)):\n",
    "    ones_len.append(len(species_ones[ii])) "
   ]
  },
  {
   "cell_type": "code",
   "execution_count": 11,
   "id": "d2e9927d-bdc8-4a5e-9c92-bc183a3fba83",
   "metadata": {
    "tags": []
   },
   "outputs": [],
   "source": [
    "steadystate = pd.read_pickle(\"~/compressed_sensingv1/realdatasets/misc/ophelli-ryan/eff-16-list1-red-sst-REL.pkl\")\n",
    "sst = steadystate.T"
   ]
  },
  {
   "cell_type": "code",
   "execution_count": 12,
   "id": "b2a338a2-3b53-4ddb-95cd-79158351e614",
   "metadata": {},
   "outputs": [],
   "source": [
    "bias_var_listm = [3,3,3,3,3,3,3,3,5,3,5,3,3,7,5,7]"
   ]
  },
  {
   "cell_type": "code",
   "execution_count": null,
   "id": "d848adec-7535-46aa-9040-efdbd7121701",
   "metadata": {},
   "outputs": [],
   "source": [
    "err = []\n",
    "errlin = []\n",
    "samp = 100\n",
    "for species in range(8,16):\n",
    "    cv_splits = bias_var_listm[species]\n",
    "    subsetall = A[species_onesall[species]].T\n",
    "    subsetall[\"indexinwhole\"] = subsetall.index\n",
    "    subsetall.index = np.arange(0,2**15,1)\n",
    "    givendata = subsetall[subsetall[\"indexinwhole\"].isin(species_ones[species])]\n",
    "    m = int(samp*(ones_len[species])/100)\n",
    "    cvdata = m\n",
    "    ri = random.sample(list(givendata.index),m)\n",
    "    ri.sort() \n",
    "    sstgiven = steadystate.T[subsetall[subsetall[\"indexinwhole\"].isin(species_ones[species])][\"indexinwhole\"].values].T\n",
    "    sstgiven.index = givendata.index\n",
    "    y2 = sstgiven.T[ri].T[species]\n",
    "    #y2 = sst[ri].T[species]\n",
    "    data_present = sstgiven.T[ri].T.index\n",
    "    xs = list(data_present)\n",
    "    random.shuffle(xs)\n",
    "    for iteras in range(5):\n",
    "        kf = KFold(n_splits=cv_splits, random_state=iteras*10, shuffle=True)\n",
    "        kf.get_n_splits(data_present)\n",
    "        for lmda in laml:\n",
    "            for train_index, test_index in kf.split(data_present):\n",
    "                startt = time.time()\n",
    "                X_train, X_test = data_present[train_index], data_present[test_index]\n",
    "                rinew = list(X_train)\n",
    "                rileft = list(X_test)\n",
    "                D = iHiVred[rinew,:]\n",
    "                y3 = y2[rinew]\n",
    "                s2 = np.array([y3.values])\n",
    "                s3 = s2.T\n",
    "                b = bpdn.BPDN(D, s3, lmda, opt)\n",
    "                x = b.solve()\n",
    "                yrecon = np.dot(iHiVred,x.ravel())\n",
    "                #print(time.time()-startt,iteras,\"cs\")\n",
    "                err.append([iteras,lmda,species,yrecon[rileft],rileft,rinew,cv_splits,len(rileft),len(rinew)])\n",
    "                startt = time.time()\n",
    "                D = X[rinew,:]\n",
    "                y3 = y2[rinew]\n",
    "                s2 = np.array([y3.values])\n",
    "                s3 = s2.T\n",
    "                b = bpdn.BPDN(D, s3, lmda, opt)\n",
    "                x = b.solve()\n",
    "                yrecon = np.dot(X,x.ravel())\n",
    "                #print(time.time()-startt,iteras,\"linreg\")\n",
    "                errlin.append([iteras,lmda,species,yrecon[rileft],rileft,rinew,cv_splits,len(rileft),len(rinew)])\n"
   ]
  },
  {
   "cell_type": "code",
   "execution_count": null,
   "id": "c71aaff8-8b95-465c-89c6-5f19af60123f",
   "metadata": {},
   "outputs": [],
   "source": [
    "errdf  = pd.DataFrame(err)\n",
    "errdflin = pd.DataFrame(errlin)"
   ]
  },
  {
   "cell_type": "code",
   "execution_count": null,
   "id": "49f6aa8e-874d-4b5b-a053-6f754448a042",
   "metadata": {},
   "outputs": [],
   "source": [
    "pd.to_pickle(errdf,\"16l1-\"+str(species)+\"-bge.pkl\")\n",
    "pd.to_pickle(errdflin,\"16l1-\"+str(species)+\"-lin.pkl\")"
   ]
  },
  {
   "cell_type": "code",
   "execution_count": null,
   "id": "046a8737-a2db-4488-9ab7-ad9d58cf7873",
   "metadata": {},
   "outputs": [],
   "source": [
    "pd.read_pickle(\"16l1-\"+str(species)+\"-bge.pkl\")\n",
    "pd.read_pickle(\"16l1-\"+str(species)+\"-lin.pkl\")"
   ]
  },
  {
   "cell_type": "code",
   "execution_count": null,
   "id": "d87aca55-b8d1-4239-b55d-820956a390ba",
   "metadata": {},
   "outputs": [],
   "source": [
    "c"
   ]
  },
  {
   "cell_type": "code",
   "execution_count": 1,
   "id": "cff3f80b-1f20-45e9-a3de-49dacbee4783",
   "metadata": {},
   "outputs": [
    {
     "data": {
      "text/html": [
       "<div>\n",
       "<style scoped>\n",
       "    .dataframe tbody tr th:only-of-type {\n",
       "        vertical-align: middle;\n",
       "    }\n",
       "\n",
       "    .dataframe tbody tr th {\n",
       "        vertical-align: top;\n",
       "    }\n",
       "\n",
       "    .dataframe thead th {\n",
       "        text-align: right;\n",
       "    }\n",
       "</style>\n",
       "<table border=\"1\" class=\"dataframe\">\n",
       "  <thead>\n",
       "    <tr style=\"text-align: right;\">\n",
       "      <th></th>\n",
       "      <th>0</th>\n",
       "      <th>1</th>\n",
       "      <th>2</th>\n",
       "      <th>3</th>\n",
       "      <th>4</th>\n",
       "      <th>5</th>\n",
       "      <th>6</th>\n",
       "      <th>7</th>\n",
       "      <th>8</th>\n",
       "    </tr>\n",
       "  </thead>\n",
       "  <tbody>\n",
       "    <tr>\n",
       "      <th>0</th>\n",
       "      <td>0</td>\n",
       "      <td>0.00001</td>\n",
       "      <td>0</td>\n",
       "      <td>[0.9142107008370788, 0.45360880709973733, 0.74...</td>\n",
       "      <td>[1, 260, 4226, 4228, 4256, 8197, 24581]</td>\n",
       "      <td>[0, 2, 4, 20, 32, 128, 132, 4102, 4230, 8199, ...</td>\n",
       "      <td>3</td>\n",
       "      <td>7</td>\n",
       "      <td>14</td>\n",
       "    </tr>\n",
       "    <tr>\n",
       "      <th>1</th>\n",
       "      <td>0</td>\n",
       "      <td>0.00001</td>\n",
       "      <td>0</td>\n",
       "      <td>[0.9981190840081415, 0.6563016788958447, 0.973...</td>\n",
       "      <td>[2, 20, 32, 128, 8325, 12420, 16644]</td>\n",
       "      <td>[0, 1, 4, 132, 260, 4102, 4226, 4228, 4230, 42...</td>\n",
       "      <td>3</td>\n",
       "      <td>7</td>\n",
       "      <td>14</td>\n",
       "    </tr>\n",
       "    <tr>\n",
       "      <th>2</th>\n",
       "      <td>0</td>\n",
       "      <td>0.00001</td>\n",
       "      <td>0</td>\n",
       "      <td>[0.46512738421946254, 0.1819860220116709, 0.64...</td>\n",
       "      <td>[0, 4, 132, 4102, 4230, 8199, 12294]</td>\n",
       "      <td>[1, 2, 20, 32, 128, 260, 4226, 4228, 4256, 819...</td>\n",
       "      <td>3</td>\n",
       "      <td>7</td>\n",
       "      <td>14</td>\n",
       "    </tr>\n",
       "    <tr>\n",
       "      <th>3</th>\n",
       "      <td>0</td>\n",
       "      <td>0.00028</td>\n",
       "      <td>0</td>\n",
       "      <td>[0.9137556052895592, 0.4533387786154435, 0.743...</td>\n",
       "      <td>[1, 260, 4226, 4228, 4256, 8197, 24581]</td>\n",
       "      <td>[0, 2, 4, 20, 32, 128, 132, 4102, 4230, 8199, ...</td>\n",
       "      <td>3</td>\n",
       "      <td>7</td>\n",
       "      <td>14</td>\n",
       "    </tr>\n",
       "    <tr>\n",
       "      <th>4</th>\n",
       "      <td>0</td>\n",
       "      <td>0.00028</td>\n",
       "      <td>0</td>\n",
       "      <td>[0.9964990840812247, 0.6568416789796441, 0.968...</td>\n",
       "      <td>[2, 20, 32, 128, 8325, 12420, 16644]</td>\n",
       "      <td>[0, 1, 4, 132, 260, 4102, 4226, 4228, 4230, 42...</td>\n",
       "      <td>3</td>\n",
       "      <td>7</td>\n",
       "      <td>14</td>\n",
       "    </tr>\n",
       "    <tr>\n",
       "      <th>...</th>\n",
       "      <td>...</td>\n",
       "      <td>...</td>\n",
       "      <td>...</td>\n",
       "      <td>...</td>\n",
       "      <td>...</td>\n",
       "      <td>...</td>\n",
       "      <td>...</td>\n",
       "      <td>...</td>\n",
       "      <td>...</td>\n",
       "    </tr>\n",
       "    <tr>\n",
       "      <th>835</th>\n",
       "      <td>4</td>\n",
       "      <td>0.60000</td>\n",
       "      <td>7</td>\n",
       "      <td>[0.28202509888596816, 0.4215674616744828, 0.36...</td>\n",
       "      <td>[1, 4, 160, 161, 544, 16388]</td>\n",
       "      <td>[0, 2, 32, 33, 38, 112, 128, 162, 672, 1185, 1...</td>\n",
       "      <td>3</td>\n",
       "      <td>6</td>\n",
       "      <td>12</td>\n",
       "    </tr>\n",
       "    <tr>\n",
       "      <th>836</th>\n",
       "      <td>4</td>\n",
       "      <td>0.60000</td>\n",
       "      <td>7</td>\n",
       "      <td>[0.27881359055489674, 0.27881359055489674, 0.2...</td>\n",
       "      <td>[2, 33, 38, 112, 128, 1185]</td>\n",
       "      <td>[0, 1, 4, 32, 160, 161, 162, 544, 672, 12545, ...</td>\n",
       "      <td>3</td>\n",
       "      <td>6</td>\n",
       "      <td>12</td>\n",
       "    </tr>\n",
       "    <tr>\n",
       "      <th>837</th>\n",
       "      <td>4</td>\n",
       "      <td>1.00000</td>\n",
       "      <td>7</td>\n",
       "      <td>[0.25290598127894326, 0.25290598127894326, 0.2...</td>\n",
       "      <td>[0, 32, 162, 672, 12545, 24580]</td>\n",
       "      <td>[1, 2, 4, 33, 38, 112, 128, 160, 161, 544, 118...</td>\n",
       "      <td>3</td>\n",
       "      <td>6</td>\n",
       "      <td>12</td>\n",
       "    </tr>\n",
       "    <tr>\n",
       "      <th>838</th>\n",
       "      <td>4</td>\n",
       "      <td>1.00000</td>\n",
       "      <td>7</td>\n",
       "      <td>[0.3196328856137202, 0.3196328856137202, 0.319...</td>\n",
       "      <td>[1, 4, 160, 161, 544, 16388]</td>\n",
       "      <td>[0, 2, 32, 33, 38, 112, 128, 162, 672, 1185, 1...</td>\n",
       "      <td>3</td>\n",
       "      <td>6</td>\n",
       "      <td>12</td>\n",
       "    </tr>\n",
       "    <tr>\n",
       "      <th>839</th>\n",
       "      <td>4</td>\n",
       "      <td>1.00000</td>\n",
       "      <td>7</td>\n",
       "      <td>[0.24548025734277898, 0.24548025734277898, 0.2...</td>\n",
       "      <td>[2, 33, 38, 112, 128, 1185]</td>\n",
       "      <td>[0, 1, 4, 32, 160, 161, 162, 544, 672, 12545, ...</td>\n",
       "      <td>3</td>\n",
       "      <td>6</td>\n",
       "      <td>12</td>\n",
       "    </tr>\n",
       "  </tbody>\n",
       "</table>\n",
       "<p>840 rows × 9 columns</p>\n",
       "</div>"
      ],
      "text/plain": [
       "     0        1  2                                                  3  \\\n",
       "0    0  0.00001  0  [0.9142107008370788, 0.45360880709973733, 0.74...   \n",
       "1    0  0.00001  0  [0.9981190840081415, 0.6563016788958447, 0.973...   \n",
       "2    0  0.00001  0  [0.46512738421946254, 0.1819860220116709, 0.64...   \n",
       "3    0  0.00028  0  [0.9137556052895592, 0.4533387786154435, 0.743...   \n",
       "4    0  0.00028  0  [0.9964990840812247, 0.6568416789796441, 0.968...   \n",
       "..  ..      ... ..                                                ...   \n",
       "835  4  0.60000  7  [0.28202509888596816, 0.4215674616744828, 0.36...   \n",
       "836  4  0.60000  7  [0.27881359055489674, 0.27881359055489674, 0.2...   \n",
       "837  4  1.00000  7  [0.25290598127894326, 0.25290598127894326, 0.2...   \n",
       "838  4  1.00000  7  [0.3196328856137202, 0.3196328856137202, 0.319...   \n",
       "839  4  1.00000  7  [0.24548025734277898, 0.24548025734277898, 0.2...   \n",
       "\n",
       "                                           4  \\\n",
       "0    [1, 260, 4226, 4228, 4256, 8197, 24581]   \n",
       "1       [2, 20, 32, 128, 8325, 12420, 16644]   \n",
       "2       [0, 4, 132, 4102, 4230, 8199, 12294]   \n",
       "3    [1, 260, 4226, 4228, 4256, 8197, 24581]   \n",
       "4       [2, 20, 32, 128, 8325, 12420, 16644]   \n",
       "..                                       ...   \n",
       "835             [1, 4, 160, 161, 544, 16388]   \n",
       "836              [2, 33, 38, 112, 128, 1185]   \n",
       "837          [0, 32, 162, 672, 12545, 24580]   \n",
       "838             [1, 4, 160, 161, 544, 16388]   \n",
       "839              [2, 33, 38, 112, 128, 1185]   \n",
       "\n",
       "                                                     5  6  7   8  \n",
       "0    [0, 2, 4, 20, 32, 128, 132, 4102, 4230, 8199, ...  3  7  14  \n",
       "1    [0, 1, 4, 132, 260, 4102, 4226, 4228, 4230, 42...  3  7  14  \n",
       "2    [1, 2, 20, 32, 128, 260, 4226, 4228, 4256, 819...  3  7  14  \n",
       "3    [0, 2, 4, 20, 32, 128, 132, 4102, 4230, 8199, ...  3  7  14  \n",
       "4    [0, 1, 4, 132, 260, 4102, 4226, 4228, 4230, 42...  3  7  14  \n",
       "..                                                 ... .. ..  ..  \n",
       "835  [0, 2, 32, 33, 38, 112, 128, 162, 672, 1185, 1...  3  6  12  \n",
       "836  [0, 1, 4, 32, 160, 161, 162, 544, 672, 12545, ...  3  6  12  \n",
       "837  [1, 2, 4, 33, 38, 112, 128, 160, 161, 544, 118...  3  6  12  \n",
       "838  [0, 2, 32, 33, 38, 112, 128, 162, 672, 1185, 1...  3  6  12  \n",
       "839  [0, 1, 4, 32, 160, 161, 162, 544, 672, 12545, ...  3  6  12  \n",
       "\n",
       "[840 rows x 9 columns]"
      ]
     },
     "execution_count": 1,
     "metadata": {},
     "output_type": "execute_result"
    }
   ],
   "source": [
    "import pandas as pd\n",
    "pd.read_pickle(\"~/compressed_sensingv1/realdatasets/OV-v2/2pow15-matrices/16l1-7-lin.pkl\")"
   ]
  },
  {
   "cell_type": "code",
   "execution_count": null,
   "id": "5f1df02f-b35f-49f9-8ccd-5e93171e2a64",
   "metadata": {},
   "outputs": [],
   "source": []
  }
 ],
 "metadata": {
  "kernelspec": {
   "display_name": "Python 3 (ipykernel)",
   "language": "python",
   "name": "python3"
  },
  "language_info": {
   "codemirror_mode": {
    "name": "ipython",
    "version": 3
   },
   "file_extension": ".py",
   "mimetype": "text/x-python",
   "name": "python",
   "nbconvert_exporter": "python",
   "pygments_lexer": "ipython3",
   "version": "3.9.11"
  }
 },
 "nbformat": 4,
 "nbformat_minor": 5
}
