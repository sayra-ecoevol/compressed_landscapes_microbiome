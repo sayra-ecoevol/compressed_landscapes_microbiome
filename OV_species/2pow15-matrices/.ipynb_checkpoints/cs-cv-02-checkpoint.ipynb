{
 "cells": [
  {
   "cell_type": "markdown",
   "id": "9855e68f-b78c-4de0-85da-528638f18157",
   "metadata": {
    "tags": []
   },
   "source": [
    "#### In this notebook, assuming an effective size of 15 (one present always) species, we will look at CS (BPDN,ADMM) on effectively 187 points. For each species, we will only look at predictions on the points where the species was present to begin with. (this is the first set of species that maximises data points)"
   ]
  },
  {
   "cell_type": "markdown",
   "id": "e182cb29-3543-4e38-b3e1-ad214c7a094e",
   "metadata": {},
   "source": [
    "#### import the relevant files and modules"
   ]
  },
  {
   "cell_type": "code",
   "execution_count": 2,
   "id": "3492d0c6-9c37-40e5-92a0-820e2c9459ec",
   "metadata": {
    "tags": []
   },
   "outputs": [],
   "source": [
    "import pandas as pd\n",
    "import numpy as np\n",
    "import cvxpy as cvx\n",
    "import random\n",
    "import time\n",
    "\n",
    "from sporco.admm import bpdn\n",
    "### using the ADMM algorithm \n",
    "### we can also use the PGM algorithm \n",
    "\n",
    "\n",
    "from scipy.linalg import hadamard\n",
    "\n",
    "\n",
    "from sklearn.model_selection import LeaveOneOut\n",
    "from sklearn.model_selection import KFold\n",
    "\n",
    "import time \n",
    "from scipy import stats\n",
    "\n",
    "iHiV = pd.read_pickle(\"~/bge-analysis-simv3/iHiV.pkl\")\n",
    "iHiVred = pd.read_pickle(\"~/compressed_sensingv1/realdatasets/misc/ophelli-ryan/iHiV15.pkl\")\n",
    "\n",
    "import warnings\n",
    "warnings.filterwarnings(\"ignore\")"
   ]
  },
  {
   "cell_type": "code",
   "execution_count": 3,
   "id": "096ea983-d3d0-4dbe-ba7b-cac963297963",
   "metadata": {},
   "outputs": [],
   "source": [
    "X = pd.read_pickle(\"~/bge-analysis-simv3/X15.pkl\")"
   ]
  },
  {
   "cell_type": "code",
   "execution_count": 4,
   "id": "fcf16f83-1d18-4bdb-9f4f-c7aac1d87d15",
   "metadata": {
    "tags": []
   },
   "outputs": [],
   "source": [
    "opt = bpdn.BPDN.Options({'Verbose': False, 'MaxMainIter': 500,\n",
    "                         'RelStopTol': 1e-8, 'AutoRho': {'RsdlTarget': 1.0}})"
   ]
  },
  {
   "cell_type": "markdown",
   "id": "5e77784c-ec40-41bd-b8a3-c4c84e0d4cc7",
   "metadata": {},
   "source": [
    "#### read the effective species presence-absence"
   ]
  },
  {
   "cell_type": "code",
   "execution_count": 5,
   "id": "7d1943a4-f7b9-4111-9b03-52ea3044077d",
   "metadata": {
    "tags": []
   },
   "outputs": [],
   "source": [
    "pa_redv1 = pd.read_pickle(\"~/compressed_sensingv1/realdatasets/misc/ophelli-ryan/eff-16-list1-red-pa.pkl\")"
   ]
  },
  {
   "cell_type": "code",
   "execution_count": 6,
   "id": "f49a9c14-7021-4ef1-8795-f27e3d1ff413",
   "metadata": {},
   "outputs": [
    {
     "data": {
      "text/plain": [
       "[1e-05, 0.00028, 0.00794, 0.22387, 0.5, 0.6, 1.0]"
      ]
     },
     "execution_count": 6,
     "metadata": {},
     "output_type": "execute_result"
    }
   ],
   "source": [
    "labdl = np.round(np.logspace(-5,0.8,5),5)\n",
    "lam = list(labdl)\n",
    "lam.append([0.5,0.6,1.0])\n",
    "lamf = list(pd.DataFrame(lam)[0].explode().values)\n",
    "lamf.sort()\n",
    "lamf = lamf[:7]\n",
    "lamf"
   ]
  },
  {
   "cell_type": "code",
   "execution_count": 7,
   "id": "dd402270-7cc5-40fe-9598-d1ce7c3b52b3",
   "metadata": {},
   "outputs": [],
   "source": [
    "random_state = None\n",
    "laml = lamf"
   ]
  },
  {
   "cell_type": "code",
   "execution_count": 8,
   "id": "f600769d-92dc-40bb-83cf-3d4e7d6db787",
   "metadata": {},
   "outputs": [],
   "source": [
    "#pa_redv1"
   ]
  },
  {
   "cell_type": "code",
   "execution_count": 9,
   "id": "c6b3b506-8d8d-4d29-99aa-5935dce1eab7",
   "metadata": {},
   "outputs": [],
   "source": [
    "B = pd.read_pickle(\"~/bge-analysis-simv3/B.pkl\")\n",
    "A = pd.read_pickle(\"~/bge-analysis-simv3/A.pkl\")\n",
    "\n",
    "tableg=A.T\n",
    "species_onesall = [] \n",
    "for species in range(16):\n",
    "    species_onesall.append(tableg[tableg[species]==1.0][species].index.to_list())\n",
    "species_zerosall = []\n",
    "for species in range(16):\n",
    "    species_zerosall.append(tableg[tableg[species]==0.0][species].index.to_list())"
   ]
  },
  {
   "cell_type": "markdown",
   "id": "f0a4061a-c0fd-433b-8bbd-2b9810377035",
   "metadata": {
    "tags": []
   },
   "source": [
    "##### compile the well numbers for each species for its presence "
   ]
  },
  {
   "cell_type": "code",
   "execution_count": 10,
   "id": "8ff7adbc-05ba-4879-afeb-8d77c6713a11",
   "metadata": {
    "tags": []
   },
   "outputs": [],
   "source": [
    "species_ones = []\n",
    "for i in range(16):\n",
    "    species_ones.append(pa_redv1[pa_redv1[i]==1.0][\"well number\"].values)"
   ]
  },
  {
   "cell_type": "code",
   "execution_count": 11,
   "id": "7108edb2-8f30-4e6b-973b-66f534219982",
   "metadata": {
    "tags": []
   },
   "outputs": [],
   "source": [
    "ones_len = [] \n",
    "for ii in range(len(species_ones)):\n",
    "    ones_len.append(len(species_ones[ii])) "
   ]
  },
  {
   "cell_type": "code",
   "execution_count": 12,
   "id": "d2e9927d-bdc8-4a5e-9c92-bc183a3fba83",
   "metadata": {
    "tags": []
   },
   "outputs": [],
   "source": [
    "steadystate = pd.read_pickle(\"~/compressed_sensingv1/realdatasets/misc/ophelli-ryan/eff-16-list1-red-sst-REL.pkl\")\n",
    "sst = steadystate.T"
   ]
  },
  {
   "cell_type": "code",
   "execution_count": 13,
   "id": "b2a338a2-3b53-4ddb-95cd-79158351e614",
   "metadata": {},
   "outputs": [],
   "source": [
    "bias_var_listm = [3,3,3,3,3,3,3,3,5,3,5,3,3,7,5,7]"
   ]
  },
  {
   "cell_type": "code",
   "execution_count": null,
   "id": "d848adec-7535-46aa-9040-efdbd7121701",
   "metadata": {},
   "outputs": [
    {
     "name": "stdout",
     "output_type": "stream",
     "text": [
      "2.8785719871520996 0 cs\n",
      "2.193769931793213 0 linreg\n",
      "2.1371028423309326 0 cs\n",
      "1.6653919219970703 0 linreg\n",
      "2.4177510738372803 0 cs\n",
      "2.5575380325317383 0 linreg\n",
      "2.655768632888794 0 cs\n",
      "2.5997977256774902 0 linreg\n",
      "2.5467894077301025 0 cs\n",
      "1.302548885345459 0 linreg\n",
      "2.285992383956909 0 cs\n",
      "2.235037088394165 0 linreg\n",
      "2.321706533432007 0 cs\n",
      "2.268789529800415 0 linreg\n",
      "2.531184196472168 0 cs\n",
      "2.4727418422698975 0 linreg\n",
      "2.684302806854248 0 cs\n",
      "2.611768960952759 0 linreg\n",
      "1.5606694221496582 0 cs\n",
      "0.9323322772979736 0 linreg\n",
      "1.5929129123687744 0 cs\n",
      "0.8220226764678955 0 linreg\n"
     ]
    }
   ],
   "source": [
    "err = []\n",
    "errlin = []\n",
    "samp = 100\n",
    "for species in range(1):\n",
    "    cv_splits = bias_var_listm[species]\n",
    "    subsetall = A[species_onesall[species]].T\n",
    "    subsetall[\"indexinwhole\"] = subsetall.index\n",
    "    subsetall.index = np.arange(0,2**15,1)\n",
    "    givendata = subsetall[subsetall[\"indexinwhole\"].isin(species_ones[species])]\n",
    "    m = int(samp*(ones_len[species])/100)\n",
    "    cvdata = m\n",
    "    ri = random.sample(list(givendata.index),m)\n",
    "    ri.sort() \n",
    "    sstgiven = steadystate.T[subsetall[subsetall[\"indexinwhole\"].isin(species_ones[species])][\"indexinwhole\"].values].T\n",
    "    sstgiven.index = givendata.index\n",
    "    y2 = sstgiven.T[ri].T[species]\n",
    "    #y2 = sst[ri].T[species]\n",
    "    data_present = sstgiven.T[ri].T.index\n",
    "    xs = list(data_present)\n",
    "    random.shuffle(xs)\n",
    "    for iteras in range(5):\n",
    "        kf = KFold(n_splits=cv_splits, random_state=iteras*10, shuffle=True)\n",
    "        kf.get_n_splits(data_present)\n",
    "        for lmda in laml:\n",
    "            for train_index, test_index in kf.split(data_present):\n",
    "                startt = time.time()\n",
    "                X_train, X_test = data_present[train_index], data_present[test_index]\n",
    "                rinew = list(X_train)\n",
    "                rileft = list(X_test)\n",
    "                D = iHiVred[rinew,:]\n",
    "                y3 = y2[rinew]\n",
    "                s2 = np.array([y3.values])\n",
    "                s3 = s2.T\n",
    "                b = bpdn.BPDN(D, s3, lmda, opt)\n",
    "                x = b.solve()\n",
    "                yrecon = np.dot(iHiVred,x.ravel())\n",
    "                print(time.time()-startt,iteras,\"cs\")\n",
    "                err.append([iteras,lmda,species,yrecon[rileft],rileft,rinew,cv_splits,len(rileft),len(rinew)])\n",
    "                startt = time.time()\n",
    "                D = X[rinew,:]\n",
    "                y3 = y2[rinew]\n",
    "                s2 = np.array([y3.values])\n",
    "                s3 = s2.T\n",
    "                b = bpdn.BPDN(D, s3, lmda, opt)\n",
    "                x = b.solve()\n",
    "                yrecon = np.dot(X,x.ravel())\n",
    "                print(time.time()-startt,iteras,\"linreg\")\n",
    "                errlin.append([iteras,lmda,species,yrecon[rileft],rileft,rinew,cv_splits,len(rileft),len(rinew)])\n"
   ]
  },
  {
   "cell_type": "code",
   "execution_count": null,
   "id": "c71aaff8-8b95-465c-89c6-5f19af60123f",
   "metadata": {},
   "outputs": [],
   "source": [
    "errdf  = pd.DataFrame(err)\n",
    "errdflin = pd.DataFrame(errlin)"
   ]
  },
  {
   "cell_type": "code",
   "execution_count": null,
   "id": "49f6aa8e-874d-4b5b-a053-6f754448a042",
   "metadata": {},
   "outputs": [],
   "source": [
    "pd.to_pickle(errdf,\"16l1-\"+str(species)+\"-bge.pkl\")\n",
    "pd.to_pickle(errdflin,\"16l1-\"+str(species)+\"-lin.pkl\")"
   ]
  },
  {
   "cell_type": "code",
   "execution_count": null,
   "id": "046a8737-a2db-4488-9ab7-ad9d58cf7873",
   "metadata": {},
   "outputs": [],
   "source": [
    "pd.read_pickle(\"16l1-\"+str(species)+\"-bge.pkl\")\n",
    "pd.read_pickle(\"16l1-\"+str(species)+\"-lin.pkl\")"
   ]
  },
  {
   "cell_type": "code",
   "execution_count": null,
   "id": "d87aca55-b8d1-4239-b55d-820956a390ba",
   "metadata": {},
   "outputs": [],
   "source": []
  }
 ],
 "metadata": {
  "kernelspec": {
   "display_name": "Python 3 (ipykernel)",
   "language": "python",
   "name": "python3"
  },
  "language_info": {
   "codemirror_mode": {
    "name": "ipython",
    "version": 3
   },
   "file_extension": ".py",
   "mimetype": "text/x-python",
   "name": "python",
   "nbconvert_exporter": "python",
   "pygments_lexer": "ipython3",
   "version": "3.9.11"
  }
 },
 "nbformat": 4,
 "nbformat_minor": 5
}
