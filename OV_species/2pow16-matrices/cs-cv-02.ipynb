{
 "cells": [
  {
   "cell_type": "markdown",
   "id": "9855e68f-b78c-4de0-85da-528638f18157",
   "metadata": {
    "tags": []
   },
   "source": [
    "#### In this notebook, assuming an effective size of 16 species, we will look at CS (BPDN,ADMM) on effectively 186 points. For each species, we will only look at predictions on the points where the species was present to begin with. (this is the second set of species that maximises data points)"
   ]
  },
  {
   "cell_type": "markdown",
   "id": "e182cb29-3543-4e38-b3e1-ad214c7a094e",
   "metadata": {},
   "source": [
    "#### import the relevant files and modules"
   ]
  },
  {
   "cell_type": "code",
   "execution_count": 1,
   "id": "3492d0c6-9c37-40e5-92a0-820e2c9459ec",
   "metadata": {
    "tags": []
   },
   "outputs": [],
   "source": [
    "import pandas as pd\n",
    "import numpy as np\n",
    "import cvxpy as cvx\n",
    "import random\n",
    "import time\n",
    "from __future__ import print_function\n",
    "from builtins import input\n",
    "\n",
    "\n",
    "from sporco.admm import bpdn\n",
    "### using the ADMM algorithm \n",
    "### we can also use the PGM algorithm \n",
    "from sporco import util\n",
    "from sporco import plot\n",
    "plot.config_notebook_plotting()\n",
    "\n",
    "from scipy.linalg import hadamard\n",
    "\n",
    "import matplotlib.pyplot as plt\n",
    "\n",
    "from sklearn.model_selection import LeaveOneOut\n",
    "from sklearn.model_selection import KFold\n",
    "\n",
    "import time \n",
    "from scipy import stats\n",
    "from matplotlib import pyplot\n",
    "plt.style.use('ggplot')\n",
    "plt.style.use('seaborn-dark-palette')\n",
    "iHiV = pd.read_pickle(\"~/bge-analysis-simv3/iHiV.pkl\")\n",
    "B = pd.read_pickle(\"~/bge-analysis-simv3/B.pkl\")\n",
    "\n",
    "\n",
    "import warnings\n",
    "warnings.filterwarnings(\"ignore\")"
   ]
  },
  {
   "cell_type": "code",
   "execution_count": 2,
   "id": "096ea983-d3d0-4dbe-ba7b-cac963297963",
   "metadata": {},
   "outputs": [],
   "source": [
    "X = pd.read_pickle(\"~/bge-analysis-simv3/X16.pkl\")"
   ]
  },
  {
   "cell_type": "code",
   "execution_count": 2,
   "id": "1724c31c-8ae4-492c-9286-e69ff18fe46c",
   "metadata": {
    "tags": []
   },
   "outputs": [],
   "source": [
    "import matplotlib as mpl\n",
    "from matplotlib import pyplot\n",
    "import matplotlib.pyplot as plt\n",
    "mpl.rcParams['font.family'] = 'sans-serif'\n",
    "def set_violin_color(vp,color,mediancolor):\n",
    "    plt.setp(vp['bodies'], facecolor=color, edgecolor=\"white\",alpha=0.7)\n",
    "    plt.setp(vp['cbars'], color = color)\n",
    "    plt.setp(vp['cmins'], color = \"black\")\n",
    "    plt.setp(vp['cmaxes'], color = \"black\")\n",
    "    plt.setp(vp['cmeans'], color = \"black\")\n",
    "    plt.setp(vp['cmedians'],color = mediancolor)\n",
    "\n",
    "def make_violin_plot(dataframe,col0,mediancolor,legendlabel,diff):\n",
    "    stepepi_master0 = dataframe\n",
    "    bp0 = plt.violinplot(stepepi_master0, positions=np.array(range(len(stepepi_master0)))*3.0+diff,showmeans = True,showmedians=True)\n",
    "    positions=np.array(range(len(stepepi_master0)))\n",
    "    set_violin_color(bp0,col0,mediancolor)\n",
    "    plt.plot([], c=col0, label=legendlabel)\n",
    "    plt.legend(loc='upper left') \n",
    "    return positions\n",
    "\n",
    "import seaborn as sns\n",
    "colorlist1 = sns.color_palette(\"bright\").as_hex()\n",
    "sns.color_palette(\"bright\")\n",
    "\n",
    "from sklearn.metrics import r2_score"
   ]
  },
  {
   "cell_type": "code",
   "execution_count": 3,
   "id": "fcf16f83-1d18-4bdb-9f4f-c7aac1d87d15",
   "metadata": {
    "tags": []
   },
   "outputs": [],
   "source": [
    "opt = bpdn.BPDN.Options({'Verbose': False, 'MaxMainIter': 500,\n",
    "                         'RelStopTol': 1e-8, 'AutoRho': {'RsdlTarget': 1.0}})"
   ]
  },
  {
   "cell_type": "markdown",
   "id": "5e77784c-ec40-41bd-b8a3-c4c84e0d4cc7",
   "metadata": {},
   "source": [
    "#### read the effective species presence-absence"
   ]
  },
  {
   "cell_type": "code",
   "execution_count": 4,
   "id": "7d1943a4-f7b9-4111-9b03-52ea3044077d",
   "metadata": {
    "tags": []
   },
   "outputs": [],
   "source": [
    "pa_redv1 = pd.read_pickle(\"~/compressed_sensingv1/realdatasets/ophelli-ryan/eff-16-list1-red-pa.pkl\")"
   ]
  },
  {
   "cell_type": "markdown",
   "id": "f0a4061a-c0fd-433b-8bbd-2b9810377035",
   "metadata": {},
   "source": [
    "##### compile the well numbers for each species for its presence "
   ]
  },
  {
   "cell_type": "code",
   "execution_count": 5,
   "id": "8ff7adbc-05ba-4879-afeb-8d77c6713a11",
   "metadata": {
    "tags": []
   },
   "outputs": [],
   "source": [
    "species_ones = []\n",
    "for i in range(16):\n",
    "    species_ones.append(pa_redv1[pa_redv1[i]==1.0][\"well number\"].values)"
   ]
  },
  {
   "cell_type": "code",
   "execution_count": 6,
   "id": "7108edb2-8f30-4e6b-973b-66f534219982",
   "metadata": {
    "tags": []
   },
   "outputs": [],
   "source": [
    "ones_len = [] \n",
    "for ii in range(len(species_ones)):\n",
    "    ones_len.append(len(species_ones[ii])) "
   ]
  },
  {
   "cell_type": "markdown",
   "id": "8cb8a140-111a-47ee-b6a1-6a15eef1a9b2",
   "metadata": {},
   "source": [
    "#### read the steady states (relative abundances)"
   ]
  },
  {
   "cell_type": "code",
   "execution_count": 10,
   "id": "d2e9927d-bdc8-4a5e-9c92-bc183a3fba83",
   "metadata": {
    "tags": []
   },
   "outputs": [],
   "source": [
    "steadystate = pd.read_pickle(\"~/compressed_sensingv1/realdatasets/ophelli-ryan/eff-16-list1-red-sst-REL.pkl\")\n",
    "sst = steadystate.T"
   ]
  },
  {
   "cell_type": "code",
   "execution_count": 11,
   "id": "f49a9c14-7021-4ef1-8795-f27e3d1ff413",
   "metadata": {},
   "outputs": [
    {
     "data": {
      "text/plain": [
       "[1e-05, 0.00028, 0.00794, 0.22387, 0.5, 0.6, 1.0]"
      ]
     },
     "execution_count": 11,
     "metadata": {},
     "output_type": "execute_result"
    }
   ],
   "source": [
    "labdl = np.round(np.logspace(-5,0.8,5),5)\n",
    "lam = list(labdl)\n",
    "lam.append([0.5,0.6,1.0])\n",
    "lamf = list(pd.DataFrame(lam)[0].explode().values)\n",
    "lamf.sort()\n",
    "lamf = lamf[:7]\n",
    "lamf"
   ]
  },
  {
   "cell_type": "code",
   "execution_count": 12,
   "id": "dd402270-7cc5-40fe-9598-d1ce7c3b52b3",
   "metadata": {},
   "outputs": [],
   "source": [
    "samp = 100\n",
    "n = 2**16\n",
    "cv_splitsl = [2,3,5,6,7]\n",
    "random_state = None\n",
    "laml = lamf"
   ]
  },
  {
   "cell_type": "code",
   "execution_count": null,
   "id": "4d615db3-9841-4667-a5e4-d0809b437559",
   "metadata": {},
   "outputs": [],
   "source": [
    "err = [] \n",
    "errlin  = [] \n",
    "for cv_splits in [2,3,5,6,7]:\n",
    "    for species in range(2):\n",
    "            m = int(samp*(ones_len[species])/100)\n",
    "            cvdata = m\n",
    "            ri = random.sample(list(species_ones[species]),m)\n",
    "            ri.sort() \n",
    "            startt = time.time()\n",
    "            y2 = sst[ri].T[species]\n",
    "            data_present = y2[ri].T.index\n",
    "            xs = list(data_present)\n",
    "            random.shuffle(xs)\n",
    "            data_present = np.array(xs)\n",
    "            kf = KFold(n_splits=cv_splits)\n",
    "            kf.get_n_splits(data_present)\n",
    "            KFold(n_splits=cv_splits, random_state=random_state, shuffle=False)\n",
    "            for lmda in laml:\n",
    "                for train_index, test_index in kf.split(data_present):\n",
    "                    X_train, X_test = data_present[train_index], data_present[test_index]\n",
    "                    rinew = list(X_train)\n",
    "                    rileft = list(X_test)\n",
    "                    D = iHiV[rinew,:]\n",
    "                    y3 = y2[rinew]\n",
    "                    s2 = np.array([y3.values])\n",
    "                    s3 = s2.T\n",
    "                    b = bpdn.BPDN(D, s3, lmda, opt)\n",
    "                    x = b.solve()\n",
    "                    yrecon = np.dot(iHiV,x.ravel())\n",
    "                    err.append([lmda,species,yrecon[rileft],rileft,rinew,cv_splits,len(rileft),len(rinew)])\n",
    "                    D = X[rinew,:]\n",
    "                    y3 = y2[rinew]\n",
    "                    s2 = np.array([y3.values])\n",
    "                    s3 = s2.T\n",
    "                    b = bpdn.BPDN(D, s3, lmda, opt)\n",
    "                    x = b.solve()\n",
    "                    yrecon = np.dot(X,x.ravel())\n",
    "                    errlin.append([lmda,species,yrecon[rileft],rileft,rinew,cv_splits,len(rileft),len(rinew)])"
   ]
  },
  {
   "cell_type": "code",
   "execution_count": null,
   "id": "c71aaff8-8b95-465c-89c6-5f19af60123f",
   "metadata": {},
   "outputs": [],
   "source": [
    "errdf  = pd.DataFrame(err)\n",
    "errdflin = pd.DataFrame(errlin)"
   ]
  },
  {
   "cell_type": "code",
   "execution_count": null,
   "id": "49f6aa8e-874d-4b5b-a053-6f754448a042",
   "metadata": {},
   "outputs": [],
   "source": [
    "pd.to_pickle(errdf,\"16l1-02-bge.pkl\")"
   ]
  },
  {
   "cell_type": "code",
   "execution_count": null,
   "id": "0426c535-477b-40d5-b6c4-86d25995fd1f",
   "metadata": {},
   "outputs": [],
   "source": [
    "pd.to_pickle(errdflin,\"16l1-02-lin.pkl\")"
   ]
  },
  {
   "cell_type": "code",
   "execution_count": 16,
   "id": "b7f31dfb-20cf-416c-b63a-7dfed36b3bd2",
   "metadata": {},
   "outputs": [],
   "source": [
    "import pandas as pd"
   ]
  },
  {
   "cell_type": "code",
   "execution_count": 17,
   "id": "046a8737-a2db-4488-9ab7-ad9d58cf7873",
   "metadata": {},
   "outputs": [
    {
     "data": {
      "text/html": [
       "<div>\n",
       "<style scoped>\n",
       "    .dataframe tbody tr th:only-of-type {\n",
       "        vertical-align: middle;\n",
       "    }\n",
       "\n",
       "    .dataframe tbody tr th {\n",
       "        vertical-align: top;\n",
       "    }\n",
       "\n",
       "    .dataframe thead th {\n",
       "        text-align: right;\n",
       "    }\n",
       "</style>\n",
       "<table border=\"1\" class=\"dataframe\">\n",
       "  <thead>\n",
       "    <tr style=\"text-align: right;\">\n",
       "      <th></th>\n",
       "      <th>0</th>\n",
       "      <th>1</th>\n",
       "      <th>2</th>\n",
       "      <th>3</th>\n",
       "      <th>4</th>\n",
       "      <th>5</th>\n",
       "      <th>6</th>\n",
       "      <th>7</th>\n",
       "    </tr>\n",
       "  </thead>\n",
       "  <tbody>\n",
       "    <tr>\n",
       "      <th>0</th>\n",
       "      <td>0.00001</td>\n",
       "      <td>0</td>\n",
       "      <td>[0.018920528559404556, 0.12145244076418149, 0....</td>\n",
       "      <td>[41093, 36996, 33028, 32769, 45188, 37024, 450...</td>\n",
       "      <td>[32770, 57349, 32900, 32788, 32772, 36870, 409...</td>\n",
       "      <td>2</td>\n",
       "      <td>11</td>\n",
       "      <td>10</td>\n",
       "    </tr>\n",
       "    <tr>\n",
       "      <th>1</th>\n",
       "      <td>0.00001</td>\n",
       "      <td>0</td>\n",
       "      <td>[0.5555122248750357, -0.12824066375781445, 0.4...</td>\n",
       "      <td>[32770, 57349, 32900, 32788, 32772, 36870, 409...</td>\n",
       "      <td>[41093, 36996, 33028, 32769, 45188, 37024, 450...</td>\n",
       "      <td>2</td>\n",
       "      <td>10</td>\n",
       "      <td>11</td>\n",
       "    </tr>\n",
       "    <tr>\n",
       "      <th>2</th>\n",
       "      <td>0.00028</td>\n",
       "      <td>0</td>\n",
       "      <td>[0.014432535711798852, 0.11739463131013483, 0....</td>\n",
       "      <td>[41093, 36996, 33028, 32769, 45188, 37024, 450...</td>\n",
       "      <td>[32770, 57349, 32900, 32788, 32772, 36870, 409...</td>\n",
       "      <td>2</td>\n",
       "      <td>11</td>\n",
       "      <td>10</td>\n",
       "    </tr>\n",
       "    <tr>\n",
       "      <th>3</th>\n",
       "      <td>0.00028</td>\n",
       "      <td>0</td>\n",
       "      <td>[0.5285346764075642, -0.13642837017258663, 0.4...</td>\n",
       "      <td>[32770, 57349, 32900, 32788, 32772, 36870, 409...</td>\n",
       "      <td>[41093, 36996, 33028, 32769, 45188, 37024, 450...</td>\n",
       "      <td>2</td>\n",
       "      <td>10</td>\n",
       "      <td>11</td>\n",
       "    </tr>\n",
       "    <tr>\n",
       "      <th>4</th>\n",
       "      <td>0.00794</td>\n",
       "      <td>0</td>\n",
       "      <td>[0.08144199776368491, 0.16754181869151966, 0.3...</td>\n",
       "      <td>[41093, 36996, 33028, 32769, 45188, 37024, 450...</td>\n",
       "      <td>[32770, 57349, 32900, 32788, 32772, 36870, 409...</td>\n",
       "      <td>2</td>\n",
       "      <td>11</td>\n",
       "      <td>10</td>\n",
       "    </tr>\n",
       "    <tr>\n",
       "      <th>...</th>\n",
       "      <td>...</td>\n",
       "      <td>...</td>\n",
       "      <td>...</td>\n",
       "      <td>...</td>\n",
       "      <td>...</td>\n",
       "      <td>...</td>\n",
       "      <td>...</td>\n",
       "      <td>...</td>\n",
       "    </tr>\n",
       "    <tr>\n",
       "      <th>317</th>\n",
       "      <td>1.00000</td>\n",
       "      <td>1</td>\n",
       "      <td>[0.3944158989863414, 0.534330417957322, 0.3944...</td>\n",
       "      <td>[25217, 16545, 24707]</td>\n",
       "      <td>[16929, 25345, 16385, 25121, 16388, 16515, 164...</td>\n",
       "      <td>7</td>\n",
       "      <td>3</td>\n",
       "      <td>16</td>\n",
       "    </tr>\n",
       "    <tr>\n",
       "      <th>318</th>\n",
       "      <td>1.00000</td>\n",
       "      <td>1</td>\n",
       "      <td>[0.586005034546647, 0.42041852831414994, 0.420...</td>\n",
       "      <td>[16416, 28675, 25089]</td>\n",
       "      <td>[16929, 25345, 16385, 25121, 16388, 16515, 252...</td>\n",
       "      <td>7</td>\n",
       "      <td>3</td>\n",
       "      <td>16</td>\n",
       "    </tr>\n",
       "    <tr>\n",
       "      <th>319</th>\n",
       "      <td>1.00000</td>\n",
       "      <td>1</td>\n",
       "      <td>[0.4100541135375763, 0.4100541135375763, 0.410...</td>\n",
       "      <td>[16512, 16384, 16386]</td>\n",
       "      <td>[16929, 25345, 16385, 25121, 16388, 16515, 252...</td>\n",
       "      <td>7</td>\n",
       "      <td>3</td>\n",
       "      <td>16</td>\n",
       "    </tr>\n",
       "    <tr>\n",
       "      <th>320</th>\n",
       "      <td>1.00000</td>\n",
       "      <td>1</td>\n",
       "      <td>[0.5300315866019827, 0.5739047230477579]</td>\n",
       "      <td>[17057, 49412]</td>\n",
       "      <td>[16929, 25345, 16385, 25121, 16388, 16515, 252...</td>\n",
       "      <td>7</td>\n",
       "      <td>2</td>\n",
       "      <td>17</td>\n",
       "    </tr>\n",
       "    <tr>\n",
       "      <th>321</th>\n",
       "      <td>1.00000</td>\n",
       "      <td>1</td>\n",
       "      <td>[0.40653072562540876, 0.40653072562540876]</td>\n",
       "      <td>[24579, 57349]</td>\n",
       "      <td>[16929, 25345, 16385, 25121, 16388, 16515, 252...</td>\n",
       "      <td>7</td>\n",
       "      <td>2</td>\n",
       "      <td>17</td>\n",
       "    </tr>\n",
       "  </tbody>\n",
       "</table>\n",
       "<p>322 rows × 8 columns</p>\n",
       "</div>"
      ],
      "text/plain": [
       "           0  1                                                  2  \\\n",
       "0    0.00001  0  [0.018920528559404556, 0.12145244076418149, 0....   \n",
       "1    0.00001  0  [0.5555122248750357, -0.12824066375781445, 0.4...   \n",
       "2    0.00028  0  [0.014432535711798852, 0.11739463131013483, 0....   \n",
       "3    0.00028  0  [0.5285346764075642, -0.13642837017258663, 0.4...   \n",
       "4    0.00794  0  [0.08144199776368491, 0.16754181869151966, 0.3...   \n",
       "..       ... ..                                                ...   \n",
       "317  1.00000  1  [0.3944158989863414, 0.534330417957322, 0.3944...   \n",
       "318  1.00000  1  [0.586005034546647, 0.42041852831414994, 0.420...   \n",
       "319  1.00000  1  [0.4100541135375763, 0.4100541135375763, 0.410...   \n",
       "320  1.00000  1           [0.5300315866019827, 0.5739047230477579]   \n",
       "321  1.00000  1         [0.40653072562540876, 0.40653072562540876]   \n",
       "\n",
       "                                                     3  \\\n",
       "0    [41093, 36996, 33028, 32769, 45188, 37024, 450...   \n",
       "1    [32770, 57349, 32900, 32788, 32772, 36870, 409...   \n",
       "2    [41093, 36996, 33028, 32769, 45188, 37024, 450...   \n",
       "3    [32770, 57349, 32900, 32788, 32772, 36870, 409...   \n",
       "4    [41093, 36996, 33028, 32769, 45188, 37024, 450...   \n",
       "..                                                 ...   \n",
       "317                              [25217, 16545, 24707]   \n",
       "318                              [16416, 28675, 25089]   \n",
       "319                              [16512, 16384, 16386]   \n",
       "320                                     [17057, 49412]   \n",
       "321                                     [24579, 57349]   \n",
       "\n",
       "                                                     4  5   6   7  \n",
       "0    [32770, 57349, 32900, 32788, 32772, 36870, 409...  2  11  10  \n",
       "1    [41093, 36996, 33028, 32769, 45188, 37024, 450...  2  10  11  \n",
       "2    [32770, 57349, 32900, 32788, 32772, 36870, 409...  2  11  10  \n",
       "3    [41093, 36996, 33028, 32769, 45188, 37024, 450...  2  10  11  \n",
       "4    [32770, 57349, 32900, 32788, 32772, 36870, 409...  2  11  10  \n",
       "..                                                 ... ..  ..  ..  \n",
       "317  [16929, 25345, 16385, 25121, 16388, 16515, 164...  7   3  16  \n",
       "318  [16929, 25345, 16385, 25121, 16388, 16515, 252...  7   3  16  \n",
       "319  [16929, 25345, 16385, 25121, 16388, 16515, 252...  7   3  16  \n",
       "320  [16929, 25345, 16385, 25121, 16388, 16515, 252...  7   2  17  \n",
       "321  [16929, 25345, 16385, 25121, 16388, 16515, 252...  7   2  17  \n",
       "\n",
       "[322 rows x 8 columns]"
      ]
     },
     "execution_count": 17,
     "metadata": {},
     "output_type": "execute_result"
    }
   ],
   "source": [
    "pd.read_pickle(\"16l1-02-bge.pkl\")"
   ]
  },
  {
   "cell_type": "code",
   "execution_count": null,
   "id": "d87aca55-b8d1-4239-b55d-820956a390ba",
   "metadata": {},
   "outputs": [],
   "source": []
  }
 ],
 "metadata": {
  "kernelspec": {
   "display_name": "Python 3 (ipykernel)",
   "language": "python",
   "name": "python3"
  },
  "language_info": {
   "codemirror_mode": {
    "name": "ipython",
    "version": 3
   },
   "file_extension": ".py",
   "mimetype": "text/x-python",
   "name": "python",
   "nbconvert_exporter": "python",
   "pygments_lexer": "ipython3",
   "version": "3.9.11"
  }
 },
 "nbformat": 4,
 "nbformat_minor": 5
}
