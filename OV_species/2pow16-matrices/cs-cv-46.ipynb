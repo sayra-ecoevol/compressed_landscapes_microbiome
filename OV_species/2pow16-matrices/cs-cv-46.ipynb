{
 "cells": [
  {
   "cell_type": "markdown",
   "id": "9855e68f-b78c-4de0-85da-528638f18157",
   "metadata": {
    "tags": []
   },
   "source": [
    "#### In this notebook, assuming an effective size of 16 species, we will look at CS (BPDN,ADMM) on effectively 186 points. For each species, we will only look at predictions on the points where the species was present to begin with. (this is the second set of species that maximises data points)"
   ]
  },
  {
   "cell_type": "markdown",
   "id": "e182cb29-3543-4e38-b3e1-ad214c7a094e",
   "metadata": {},
   "source": [
    "#### import the relevant files and modules"
   ]
  },
  {
   "cell_type": "code",
   "execution_count": 1,
   "id": "3492d0c6-9c37-40e5-92a0-820e2c9459ec",
   "metadata": {
    "tags": []
   },
   "outputs": [],
   "source": [
    "import pandas as pd\n",
    "import numpy as np\n",
    "import cvxpy as cvx\n",
    "import random\n",
    "import time\n",
    "from __future__ import print_function\n",
    "from builtins import input\n",
    "\n",
    "\n",
    "from sporco.admm import bpdn\n",
    "### using the ADMM algorithm \n",
    "### we can also use the PGM algorithm \n",
    "from sporco import util\n",
    "from sporco import plot\n",
    "plot.config_notebook_plotting()\n",
    "\n",
    "from scipy.linalg import hadamard\n",
    "\n",
    "import matplotlib.pyplot as plt\n",
    "\n",
    "from sklearn.model_selection import LeaveOneOut\n",
    "from sklearn.model_selection import KFold\n",
    "\n",
    "import time \n",
    "from scipy import stats\n",
    "from matplotlib import pyplot\n",
    "plt.style.use('ggplot')\n",
    "plt.style.use('seaborn-dark-palette')\n",
    "iHiV = pd.read_pickle(\"~/bge-analysis-simv3/iHiV.pkl\")\n",
    "B = pd.read_pickle(\"~/bge-analysis-simv3/B.pkl\")\n",
    "\n",
    "\n",
    "import warnings\n",
    "warnings.filterwarnings(\"ignore\")"
   ]
  },
  {
   "cell_type": "code",
   "execution_count": 2,
   "id": "096ea983-d3d0-4dbe-ba7b-cac963297963",
   "metadata": {},
   "outputs": [],
   "source": [
    "X = pd.read_pickle(\"~/bge-analysis-simv3/X16.pkl\")"
   ]
  },
  {
   "cell_type": "code",
   "execution_count": 3,
   "id": "1724c31c-8ae4-492c-9286-e69ff18fe46c",
   "metadata": {
    "tags": []
   },
   "outputs": [],
   "source": [
    "import matplotlib as mpl\n",
    "from matplotlib import pyplot\n",
    "import matplotlib.pyplot as plt\n",
    "mpl.rcParams['font.family'] = 'sans-serif'\n",
    "def set_violin_color(vp,color,mediancolor):\n",
    "    plt.setp(vp['bodies'], facecolor=color, edgecolor=\"white\",alpha=0.7)\n",
    "    plt.setp(vp['cbars'], color = color)\n",
    "    plt.setp(vp['cmins'], color = \"black\")\n",
    "    plt.setp(vp['cmaxes'], color = \"black\")\n",
    "    plt.setp(vp['cmeans'], color = \"black\")\n",
    "    plt.setp(vp['cmedians'],color = mediancolor)\n",
    "\n",
    "def make_violin_plot(dataframe,col0,mediancolor,legendlabel,diff):\n",
    "    stepepi_master0 = dataframe\n",
    "    bp0 = plt.violinplot(stepepi_master0, positions=np.array(range(len(stepepi_master0)))*3.0+diff,showmeans = True,showmedians=True)\n",
    "    positions=np.array(range(len(stepepi_master0)))\n",
    "    set_violin_color(bp0,col0,mediancolor)\n",
    "    plt.plot([], c=col0, label=legendlabel)\n",
    "    plt.legend(loc='upper left') \n",
    "    return positions\n",
    "\n",
    "import seaborn as sns\n",
    "colorlist1 = sns.color_palette(\"bright\").as_hex()\n",
    "sns.color_palette(\"bright\")\n",
    "\n",
    "from sklearn.metrics import r2_score"
   ]
  },
  {
   "cell_type": "code",
   "execution_count": 4,
   "id": "fcf16f83-1d18-4bdb-9f4f-c7aac1d87d15",
   "metadata": {
    "tags": []
   },
   "outputs": [],
   "source": [
    "opt = bpdn.BPDN.Options({'Verbose': False, 'MaxMainIter': 500,\n",
    "                         'RelStopTol': 1e-8, 'AutoRho': {'RsdlTarget': 1.0}})"
   ]
  },
  {
   "cell_type": "markdown",
   "id": "5e77784c-ec40-41bd-b8a3-c4c84e0d4cc7",
   "metadata": {},
   "source": [
    "#### read the effective species presence-absence"
   ]
  },
  {
   "cell_type": "code",
   "execution_count": 5,
   "id": "7d1943a4-f7b9-4111-9b03-52ea3044077d",
   "metadata": {
    "tags": []
   },
   "outputs": [],
   "source": [
    "pa_redv1 = pd.read_pickle(\"~/compressed_sensingv1/realdatasets/ophelli-ryan/eff-16-list1-red-pa.pkl\")"
   ]
  },
  {
   "cell_type": "markdown",
   "id": "f0a4061a-c0fd-433b-8bbd-2b9810377035",
   "metadata": {},
   "source": [
    "##### compile the well numbers for each species for its presence "
   ]
  },
  {
   "cell_type": "code",
   "execution_count": 6,
   "id": "8ff7adbc-05ba-4879-afeb-8d77c6713a11",
   "metadata": {
    "tags": []
   },
   "outputs": [],
   "source": [
    "species_ones = []\n",
    "for i in range(16):\n",
    "    species_ones.append(pa_redv1[pa_redv1[i]==1.0][\"well number\"].values)"
   ]
  },
  {
   "cell_type": "code",
   "execution_count": 7,
   "id": "7108edb2-8f30-4e6b-973b-66f534219982",
   "metadata": {
    "tags": []
   },
   "outputs": [],
   "source": [
    "ones_len = [] \n",
    "for ii in range(len(species_ones)):\n",
    "    ones_len.append(len(species_ones[ii])) "
   ]
  },
  {
   "cell_type": "markdown",
   "id": "8cb8a140-111a-47ee-b6a1-6a15eef1a9b2",
   "metadata": {},
   "source": [
    "#### read the steady states (relative abundances)"
   ]
  },
  {
   "cell_type": "code",
   "execution_count": 8,
   "id": "d2e9927d-bdc8-4a5e-9c92-bc183a3fba83",
   "metadata": {
    "tags": []
   },
   "outputs": [],
   "source": [
    "steadystate = pd.read_pickle(\"~/compressed_sensingv1/realdatasets/ophelli-ryan/eff-16-list1-red-sst-REL.pkl\")\n",
    "sst = steadystate.T"
   ]
  },
  {
   "cell_type": "code",
   "execution_count": 9,
   "id": "f49a9c14-7021-4ef1-8795-f27e3d1ff413",
   "metadata": {},
   "outputs": [
    {
     "data": {
      "text/plain": [
       "[1e-05, 0.00028, 0.00794, 0.22387, 0.5, 0.6, 1.0]"
      ]
     },
     "execution_count": 9,
     "metadata": {},
     "output_type": "execute_result"
    }
   ],
   "source": [
    "labdl = np.round(np.logspace(-5,0.8,5),5)\n",
    "lam = list(labdl)\n",
    "lam.append([0.5,0.6,1.0])\n",
    "lamf = list(pd.DataFrame(lam)[0].explode().values)\n",
    "lamf.sort()\n",
    "lamf = lamf[:7]\n",
    "lamf"
   ]
  },
  {
   "cell_type": "code",
   "execution_count": 10,
   "id": "dd402270-7cc5-40fe-9598-d1ce7c3b52b3",
   "metadata": {},
   "outputs": [],
   "source": [
    "samp = 100\n",
    "n = 2**16\n",
    "cv_splitsl = [2,3,5,6,7]\n",
    "random_state = None\n",
    "laml = lamf"
   ]
  },
  {
   "cell_type": "code",
   "execution_count": null,
   "id": "4d615db3-9841-4667-a5e4-d0809b437559",
   "metadata": {},
   "outputs": [],
   "source": [
    "err = [] \n",
    "errlin  = [] \n",
    "for cv_splits in [2,3,5,6,7]:\n",
    "    for species in range(4,6):\n",
    "            m = int(samp*(ones_len[species])/100)\n",
    "            cvdata = m\n",
    "            ri = random.sample(list(species_ones[species]),m)\n",
    "            ri.sort() \n",
    "            startt = time.time()\n",
    "            y2 = sst[ri].T[species]\n",
    "            data_present = y2[ri].T.index\n",
    "            xs = list(data_present)\n",
    "            random.shuffle(xs)\n",
    "            data_present = np.array(xs)\n",
    "            kf = KFold(n_splits=cv_splits)\n",
    "            kf.get_n_splits(data_present)\n",
    "            KFold(n_splits=cv_splits, random_state=random_state, shuffle=False)\n",
    "            for lmda in laml:\n",
    "                for train_index, test_index in kf.split(data_present):\n",
    "                    X_train, X_test = data_present[train_index], data_present[test_index]\n",
    "                    rinew = list(X_train)\n",
    "                    rileft = list(X_test)\n",
    "                    D = iHiV[rinew,:]\n",
    "                    y3 = y2[rinew]\n",
    "                    s2 = np.array([y3.values])\n",
    "                    s3 = s2.T\n",
    "                    b = bpdn.BPDN(D, s3, lmda, opt)\n",
    "                    x = b.solve()\n",
    "                    yrecon = np.dot(iHiV,x.ravel())\n",
    "                    err.append([lmda,species,yrecon[rileft],rileft,rinew,cv_splits,len(rileft),len(rinew)])\n",
    "                    D = X[rinew,:]\n",
    "                    y3 = y2[rinew]\n",
    "                    s2 = np.array([y3.values])\n",
    "                    s3 = s2.T\n",
    "                    b = bpdn.BPDN(D, s3, lmda, opt)\n",
    "                    x = b.solve()\n",
    "                    yrecon = np.dot(X,x.ravel())\n",
    "                    errlin.append([lmda,species,yrecon[rileft],rileft,rinew,cv_splits,len(rileft),len(rinew)])"
   ]
  },
  {
   "cell_type": "code",
   "execution_count": null,
   "id": "c71aaff8-8b95-465c-89c6-5f19af60123f",
   "metadata": {},
   "outputs": [],
   "source": [
    "errdf  = pd.DataFrame(err)\n",
    "errdflin = pd.DataFrame(errlin)"
   ]
  },
  {
   "cell_type": "code",
   "execution_count": null,
   "id": "49f6aa8e-874d-4b5b-a053-6f754448a042",
   "metadata": {},
   "outputs": [],
   "source": [
    "pd.to_pickle(errdf,\"16l1-46-bge.pkl\")"
   ]
  },
  {
   "cell_type": "code",
   "execution_count": null,
   "id": "0426c535-477b-40d5-b6c4-86d25995fd1f",
   "metadata": {
    "tags": []
   },
   "outputs": [],
   "source": [
    "pd.to_pickle(errdflin,\"16l1-46-lin.pkl\")"
   ]
  },
  {
   "cell_type": "code",
   "execution_count": null,
   "id": "1990e61d-493e-44e9-9f6b-b64cf4839a23",
   "metadata": {},
   "outputs": [],
   "source": [
    "c"
   ]
  },
  {
   "cell_type": "code",
   "execution_count": null,
   "id": "05fac3b2-cdd7-4449-91bb-c8680f73a2e7",
   "metadata": {},
   "outputs": [],
   "source": []
  }
 ],
 "metadata": {
  "kernelspec": {
   "display_name": "Python 3 (ipykernel)",
   "language": "python",
   "name": "python3"
  },
  "language_info": {
   "codemirror_mode": {
    "name": "ipython",
    "version": 3
   },
   "file_extension": ".py",
   "mimetype": "text/x-python",
   "name": "python",
   "nbconvert_exporter": "python",
   "pygments_lexer": "ipython3",
   "version": "3.9.11"
  }
 },
 "nbformat": 4,
 "nbformat_minor": 5
}
